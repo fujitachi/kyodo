{
  "cells": [
    {
      "cell_type": "markdown",
      "metadata": {
        "id": "view-in-github",
        "colab_type": "text"
      },
      "source": [
        "<a href=\"https://colab.research.google.com/github/fujitachi/kyodo/blob/master/100%E6%9C%AC%E3%83%8E%E3%83%83%E3%82%AF61_80.ipynb\" target=\"_parent\"><img src=\"https://colab.research.google.com/assets/colab-badge.svg\" alt=\"Open In Colab\"/></a>"
      ]
    },
    {
      "cell_type": "markdown",
      "metadata": {
        "id": "oDHRofITfp6-"
      },
      "source": [
        "# データサイエンス100本ノック（構造化データ加工編） - Python"
      ]
    },
    {
      "cell_type": "markdown",
      "metadata": {
        "id": "RgO_Tehufp6_"
      },
      "source": [
        "## はじめに\n",
        "- 初めに以下のセルを実行してください\n",
        "- 必要なライブラリのインポートとデータベース（PostgreSQL）からのデータ読み込みを行います\n",
        "- pandas等、利用が想定されるライブラリは以下セルでインポートしています\n",
        "- その他利用したいライブラリがあれば適宜インストールしてください（\"!pip install ライブラリ名\"でインストールも可能）\n",
        "- 処理は複数回に分けても構いません\n",
        "- 名前、住所等はダミーデータであり、実在するものではありません"
      ]
    },
    {
      "cell_type": "code",
      "execution_count": 1,
      "metadata": {
        "colab": {
          "base_uri": "https://localhost:8080/"
        },
        "id": "WiQ8lmoCfp7A",
        "outputId": "762a38ab-6090-4ca6-f6b3-c702223b0983"
      },
      "outputs": [
        {
          "output_type": "stream",
          "name": "stdout",
          "text": [
            "Cloning into '100knocks-preprocess'...\n",
            "remote: Enumerating objects: 1959, done.\u001b[K\n",
            "remote: Counting objects: 100% (754/754), done.\u001b[K\n",
            "remote: Compressing objects: 100% (182/182), done.\u001b[K\n",
            "remote: Total 1959 (delta 619), reused 637 (delta 559), pack-reused 1205\u001b[K\n",
            "Receiving objects: 100% (1959/1959), 21.00 MiB | 19.85 MiB/s, done.\n",
            "Resolving deltas: 100% (1100/1100), done.\n"
          ]
        }
      ],
      "source": [
        "import os\n",
        "import pandas as pd\n",
        "import numpy as np\n",
        "from dateutil.relativedelta import relativedelta\n",
        "import math\n",
        "from sqlalchemy import create_engine\n",
        "from sklearn import preprocessing\n",
        "from sklearn.impute import SimpleImputer\n",
        "from sklearn.model_selection import train_test_split\n",
        "from sklearn.model_selection import TimeSeriesSplit\n",
        "from imblearn.under_sampling import RandomUnderSampler\n",
        "\n",
        "\n",
        "if 'PG_PORT' in os.environ:\n",
        "\n",
        "    host = 'db'\n",
        "    port = os.environ['PG_PORT']\n",
        "    database = os.environ['PG_DATABASE']\n",
        "    user = os.environ['PG_USER']\n",
        "    password = os.environ['PG_PASSWORD']\n",
        "\n",
        "    # pd.read_sql用のコネクタ\n",
        "    conn = create_engine(f\"postgresql://{user}:{password}@{host}:{port}/{database}\")\n",
        "\n",
        "    df_customer = pd.read_sql(sql='select * from customer', con=conn)\n",
        "    df_category = pd.read_sql(sql='select * from category', con=conn)\n",
        "    df_product = pd.read_sql(sql='select * from product', con=conn)\n",
        "    df_receipt = pd.read_sql(sql='select * from receipt', con=conn)\n",
        "    df_store = pd.read_sql(sql='select * from store', con=conn)\n",
        "    df_geocode = pd.read_sql(sql='select * from geocode', con=conn)\n",
        "\n",
        "else:\n",
        "    if not os.path.exists('../data/'):\n",
        "        !git clone https://github.com/The-Japan-DataScientist-Society/100knocks-preprocess\n",
        "        os.chdir('100knocks-preprocess/docker/work/answer')\n",
        "\n",
        "    dtype = {\n",
        "        'customer_id': str,\n",
        "        'gender_cd': str,\n",
        "        'postal_cd': str,\n",
        "        'application_store_cd': str,\n",
        "        'status_cd': str,\n",
        "        'category_major_cd': str,\n",
        "        'category_medium_cd': str,\n",
        "        'category_small_cd': str,\n",
        "        'product_cd': str,\n",
        "        'store_cd': str,\n",
        "        'prefecture_cd': str,\n",
        "        'tel_no': str,\n",
        "        'postal_cd': str,\n",
        "        'street': str\n",
        "    }\n",
        "\n",
        "    df_customer = pd.read_csv(\"../data/customer.csv\", dtype=dtype)\n",
        "    df_category = pd.read_csv(\"../data/category.csv\", dtype=dtype)\n",
        "    df_product = pd.read_csv(\"../data/product.csv\", dtype=dtype)\n",
        "    df_receipt = pd.read_csv(\"../data/receipt.csv\", dtype=dtype)\n",
        "    df_store = pd.read_csv(\"../data/store.csv\", dtype=dtype)\n",
        "    df_geocode = pd.read_csv(\"../data/geocode.csv\", dtype=dtype)\n"
      ]
    },
    {
      "cell_type": "markdown",
      "metadata": {
        "id": "t5am8dmlfp7B"
      },
      "source": [
        "# 演習問題"
      ]
    },
    {
      "cell_type": "markdown",
      "metadata": {
        "id": "HVRjC552fp7B"
      },
      "source": [
        "---\n",
        "> P-001: レシート明細データ（df_receipt）から全項目の先頭10件を表示し、どのようなデータを保有しているか目視で確認せよ。"
      ]
    },
    {
      "cell_type": "code",
      "execution_count": null,
      "metadata": {
        "colab": {
          "base_uri": "https://localhost:8080/"
        },
        "id": "AwRqNJSJfp7B",
        "outputId": "048143ec-b8d3-411a-92ef-e890c0642067"
      },
      "outputs": [
        {
          "output_type": "stream",
          "name": "stdout",
          "text": [
            "   sales_ymd  sales_epoch store_cd  receipt_no  receipt_sub_no  \\\n",
            "0   20181103   1541203200   S14006         112               1   \n",
            "1   20181118   1542499200   S13008        1132               2   \n",
            "2   20170712   1499817600   S14028        1102               1   \n",
            "3   20190205   1549324800   S14042        1132               1   \n",
            "4   20180821   1534809600   S14025        1102               2   \n",
            "5   20190605   1559692800   S13003        1112               1   \n",
            "6   20181205   1543968000   S14024        1102               2   \n",
            "7   20190922   1569110400   S14040        1102               1   \n",
            "8   20170504   1493856000   S13020        1112               2   \n",
            "9   20191010   1570665600   S14027        1102               1   \n",
            "\n",
            "      customer_id  product_cd  quantity  amount  \n",
            "0  CS006214000001  P070305012         1     158  \n",
            "1  CS008415000097  P070701017         1      81  \n",
            "2  CS028414000014  P060101005         1     170  \n",
            "3  ZZ000000000000  P050301001         1      25  \n",
            "4  CS025415000050  P060102007         1      90  \n",
            "5  CS003515000195  P050102002         1     138  \n",
            "6  CS024514000042  P080101005         1      30  \n",
            "7  CS040415000178  P070501004         1     128  \n",
            "8  ZZ000000000000  P071302010         1     770  \n",
            "9  CS027514000015  P071101003         1     680  \n"
          ]
        }
      ],
      "source": [
        "print(df_receipt.head(10))\n"
      ]
    },
    {
      "cell_type": "markdown",
      "metadata": {
        "id": "6gU6SjCFfp7B"
      },
      "source": [
        "---\n",
        "> P-002: レシート明細データ（df_receipt）から売上年月日（sales_ymd）、顧客ID（customer_id）、商品コード（product_cd）、売上金額（amount）の順に列を指定し、10件表示せよ。"
      ]
    },
    {
      "cell_type": "code",
      "execution_count": null,
      "metadata": {
        "colab": {
          "base_uri": "https://localhost:8080/"
        },
        "id": "BDSNwe_yfp7B",
        "outputId": "e8380f6f-be50-485e-9821-9b8a2bc9b4d7"
      },
      "outputs": [
        {
          "output_type": "stream",
          "name": "stdout",
          "text": [
            "   sales_ymd     customer_id  product_cd  amount\n",
            "0   20181103  CS006214000001  P070305012     158\n",
            "1   20181118  CS008415000097  P070701017      81\n",
            "2   20170712  CS028414000014  P060101005     170\n",
            "3   20190205  ZZ000000000000  P050301001      25\n",
            "4   20180821  CS025415000050  P060102007      90\n",
            "5   20190605  CS003515000195  P050102002     138\n",
            "6   20181205  CS024514000042  P080101005      30\n",
            "7   20190922  CS040415000178  P070501004     128\n",
            "8   20170504  ZZ000000000000  P071302010     770\n",
            "9   20191010  CS027514000015  P071101003     680\n"
          ]
        }
      ],
      "source": [
        "# 指定された列を含むデータフレームの作成\n",
        "selected_columns = ['sales_ymd', 'customer_id', 'product_cd', 'amount']\n",
        "df_selected = df_receipt[selected_columns]\n",
        "\n",
        "print(df_selected.head(10))"
      ]
    },
    {
      "cell_type": "markdown",
      "metadata": {
        "id": "MwrD4hHDfp7B"
      },
      "source": [
        "---\n",
        "> P-003: レシート明細データ（df_receipt）から売上年月日（sales_ymd）、顧客ID（customer_id）、商品コード（product_cd）、売上金額（amount）の順に列を指定し、10件表示せよ。ただし、sales_ymdをsales_dateに項目名を変更して抽出すること。"
      ]
    },
    {
      "cell_type": "code",
      "execution_count": null,
      "metadata": {
        "colab": {
          "base_uri": "https://localhost:8080/"
        },
        "id": "VLY9MkxNfp7B",
        "outputId": "200551f2-2f01-4b8f-fbb5-c1f396ee2f39"
      },
      "outputs": [
        {
          "output_type": "stream",
          "name": "stdout",
          "text": [
            "   sales_date     customer_id  product_cd  amount\n",
            "0    20181103  CS006214000001  P070305012     158\n",
            "1    20181118  CS008415000097  P070701017      81\n",
            "2    20170712  CS028414000014  P060101005     170\n",
            "3    20190205  ZZ000000000000  P050301001      25\n",
            "4    20180821  CS025415000050  P060102007      90\n",
            "5    20190605  CS003515000195  P050102002     138\n",
            "6    20181205  CS024514000042  P080101005      30\n",
            "7    20190922  CS040415000178  P070501004     128\n",
            "8    20170504  ZZ000000000000  P071302010     770\n",
            "9    20191010  CS027514000015  P071101003     680\n"
          ]
        }
      ],
      "source": [
        "selected_columns = ['sales_ymd', 'customer_id', 'product_cd', 'amount']\n",
        "df_selected = df_receipt[selected_columns]\n",
        "\n",
        "df_selected = df_selected.rename(columns={'sales_ymd': 'sales_date'})\n",
        "\n",
        "print(df_selected.head(10))"
      ]
    },
    {
      "cell_type": "markdown",
      "metadata": {
        "id": "XZav9dRBfp7C"
      },
      "source": [
        "---\n",
        "> P-004: レシート明細データ（df_receipt）から売上日（sales_ymd）、顧客ID（customer_id）、商品コード（product_cd）、売上金額（amount）の順に列を指定し、以下の条件を満たすデータを抽出せよ。\n",
        "> - 顧客ID（customer_id）が\"CS018205000001\""
      ]
    },
    {
      "cell_type": "code",
      "execution_count": null,
      "metadata": {
        "colab": {
          "base_uri": "https://localhost:8080/"
        },
        "id": "SB6uQp-Dfp7C",
        "outputId": "d4d309b9-6c2a-437a-de42-630ec07a999e"
      },
      "outputs": [
        {
          "output_type": "stream",
          "name": "stdout",
          "text": [
            "       sales_ymd     customer_id  product_cd  amount\n",
            "36      20180911  CS018205000001  P071401012    2200\n",
            "9843    20180414  CS018205000001  P060104007     600\n",
            "21110   20170614  CS018205000001  P050206001     990\n",
            "27673   20170614  CS018205000001  P060702015     108\n",
            "27840   20190216  CS018205000001  P071005024     102\n",
            "28757   20180414  CS018205000001  P071101002     278\n",
            "39256   20190226  CS018205000001  P070902035     168\n",
            "58121   20190924  CS018205000001  P060805001     495\n",
            "68117   20190226  CS018205000001  P071401020    2200\n",
            "72254   20180911  CS018205000001  P071401005    1100\n",
            "88508   20190216  CS018205000001  P040101002     218\n",
            "91525   20190924  CS018205000001  P091503001     280\n"
          ]
        }
      ],
      "source": [
        "selected_columns = ['sales_ymd', 'customer_id', 'product_cd', 'amount']\n",
        "condition = df_receipt['customer_id'] == 'CS018205000001'\n",
        "filtered_data = df_receipt.loc[condition, selected_columns]\n",
        "\n",
        "print(filtered_data)"
      ]
    },
    {
      "cell_type": "markdown",
      "metadata": {
        "id": "KRbV5TP2fp7C"
      },
      "source": [
        "---\n",
        "> P-005: レシート明細データ（df_receipt）から売上日（sales_ymd）、顧客ID（customer_id）、商品コード（product_cd）、売上金額（amount）の順に列を指定し、以下の全ての条件を満たすデータを抽出せよ。\n",
        "> - 顧客ID（customer_id）が\"CS018205000001\"\n",
        "> - 売上金額（amount）が1,000以上"
      ]
    },
    {
      "cell_type": "code",
      "execution_count": null,
      "metadata": {
        "colab": {
          "base_uri": "https://localhost:8080/"
        },
        "id": "8XkaEi-ofp7C",
        "outputId": "d8ac54c1-166a-4dce-e9d8-77b388f52a72"
      },
      "outputs": [
        {
          "output_type": "stream",
          "name": "stdout",
          "text": [
            "       sales_ymd     customer_id  product_cd  amount\n",
            "36      20180911  CS018205000001  P071401012    2200\n",
            "68117   20190226  CS018205000001  P071401020    2200\n",
            "72254   20180911  CS018205000001  P071401005    1100\n"
          ]
        }
      ],
      "source": [
        "selected_columns = ['sales_ymd', 'customer_id', 'product_cd', 'amount']\n",
        "condition = (df_receipt['customer_id'] == 'CS018205000001') & (df_receipt['amount'] >= 1000)\n",
        "filtered_data = df_receipt.loc[condition, selected_columns]\n",
        "\n",
        "print(filtered_data)"
      ]
    },
    {
      "cell_type": "markdown",
      "metadata": {
        "id": "-r9hU2zKfp7C"
      },
      "source": [
        "---\n",
        "> P-006: レシート明細データ（df_receipt）から売上日（sales_ymd）、顧客ID（customer_id）、商品コード（product_cd）、売上数量（quantity）、売上金額（amount）の順に列を指定し、以下の全ての条件を満たすデータを抽出せよ。\n",
        "> - 顧客ID（customer_id）が\"CS018205000001\"\n",
        "> - 売上金額（amount）が1,000以上または売上数量（quantity）が5以上"
      ]
    },
    {
      "cell_type": "code",
      "execution_count": null,
      "metadata": {
        "colab": {
          "base_uri": "https://localhost:8080/"
        },
        "id": "WH7bnEmbfp7C",
        "outputId": "033ab268-8e51-4931-eb33-8e4fa3b31a9e"
      },
      "outputs": [
        {
          "output_type": "stream",
          "name": "stdout",
          "text": [
            "       sales_ymd     customer_id  product_cd  quantity  amount\n",
            "36      20180911  CS018205000001  P071401012         1    2200\n",
            "9843    20180414  CS018205000001  P060104007         6     600\n",
            "21110   20170614  CS018205000001  P050206001         5     990\n",
            "68117   20190226  CS018205000001  P071401020         1    2200\n",
            "72254   20180911  CS018205000001  P071401005         1    1100\n"
          ]
        }
      ],
      "source": [
        "selected_columns = ['sales_ymd', 'customer_id', 'product_cd', 'quantity', 'amount']\n",
        "condition = ((df_receipt['customer_id'] == 'CS018205000001') &\n",
        "             ((df_receipt['amount'] >= 1000) | (df_receipt['quantity'] >= 5)))\n",
        "filtered_data = df_receipt.loc[condition, selected_columns]\n",
        "\n",
        "print(filtered_data)"
      ]
    },
    {
      "cell_type": "markdown",
      "metadata": {
        "id": "x-76PWGnfp7C"
      },
      "source": [
        "---\n",
        "> P-007: レシート明細データ（df_receipt）から売上日（sales_ymd）、顧客ID（customer_id）、商品コード（product_cd）、売上金額（amount）の順に列を指定し、以下の全ての条件を満たすデータを抽出せよ。\n",
        "> - 顧客ID（customer_id）が\"CS018205000001\"\n",
        "> - 売上金額（amount）が1,000以上2,000以下"
      ]
    },
    {
      "cell_type": "code",
      "execution_count": null,
      "metadata": {
        "colab": {
          "base_uri": "https://localhost:8080/"
        },
        "id": "U8p79OpIfp7C",
        "outputId": "33ae0b44-9975-4c3b-8852-0043aa8c1877"
      },
      "outputs": [
        {
          "output_type": "stream",
          "name": "stdout",
          "text": [
            "       sales_ymd     customer_id  product_cd  amount\n",
            "72254   20180911  CS018205000001  P071401005    1100\n"
          ]
        }
      ],
      "source": [
        "selected_columns = ['sales_ymd', 'customer_id', 'product_cd', 'amount']\n",
        "condition = (df_receipt['customer_id'] == 'CS018205000001') & (df_receipt['amount'] >= 1000) & (df_receipt['amount'] <= 2000)\n",
        "filtered_data = df_receipt.loc[condition, selected_columns]\n",
        "\n",
        "print(filtered_data)"
      ]
    },
    {
      "cell_type": "markdown",
      "metadata": {
        "id": "MBUhCV9pfp7C"
      },
      "source": [
        "---\n",
        "> P-008: レシート明細データ（df_receipt）から売上日（sales_ymd）、顧客ID（customer_id）、商品コード（product_cd）、売上金額（amount）の順に列を指定し、以下の全ての条件を満たすデータを抽出せよ。\n",
        "> - 顧客ID（customer_id）が\"CS018205000001\"\n",
        "> - 商品コード（product_cd）が\"P071401019\"以外"
      ]
    },
    {
      "cell_type": "code",
      "execution_count": null,
      "metadata": {
        "colab": {
          "base_uri": "https://localhost:8080/"
        },
        "id": "ybZIk8Rcfp7C",
        "outputId": "34a39ec7-f76c-4948-a94d-6dc3642256b7"
      },
      "outputs": [
        {
          "output_type": "stream",
          "name": "stdout",
          "text": [
            "       sales_ymd     customer_id  product_cd  amount\n",
            "36      20180911  CS018205000001  P071401012    2200\n",
            "9843    20180414  CS018205000001  P060104007     600\n",
            "21110   20170614  CS018205000001  P050206001     990\n",
            "27673   20170614  CS018205000001  P060702015     108\n",
            "27840   20190216  CS018205000001  P071005024     102\n",
            "28757   20180414  CS018205000001  P071101002     278\n",
            "39256   20190226  CS018205000001  P070902035     168\n",
            "58121   20190924  CS018205000001  P060805001     495\n",
            "68117   20190226  CS018205000001  P071401020    2200\n",
            "72254   20180911  CS018205000001  P071401005    1100\n",
            "88508   20190216  CS018205000001  P040101002     218\n",
            "91525   20190924  CS018205000001  P091503001     280\n"
          ]
        }
      ],
      "source": [
        "selected_columns = ['sales_ymd', 'customer_id', 'product_cd', 'amount']\n",
        "condition = (df_receipt['customer_id'] == 'CS018205000001') & (df_receipt['product_cd'] != 'P071401019')\n",
        "filtered_data = df_receipt.loc[condition, selected_columns]\n",
        "\n",
        "print(filtered_data)"
      ]
    },
    {
      "cell_type": "markdown",
      "metadata": {
        "id": "QSSbrD2nfp7C"
      },
      "source": [
        "---\n",
        "> P-009: 以下の処理において、出力結果を変えずにORをANDに書き換えよ。\n",
        ">\n",
        "> `df_store.query('not(prefecture_cd == \"13\" | floor_area > 900)')`"
      ]
    },
    {
      "cell_type": "code",
      "execution_count": null,
      "metadata": {
        "colab": {
          "base_uri": "https://localhost:8080/",
          "height": 354
        },
        "id": "IOLJjtyBfp7C",
        "outputId": "d1949c29-f50e-46b3-8aa7-f52f5b7184bb"
      },
      "outputs": [
        {
          "output_type": "execute_result",
          "data": {
            "text/plain": [
              "   store_cd store_name prefecture_cd prefecture            address  \\\n",
              "18   S14046       北山田店            14       神奈川県   神奈川県横浜市都筑区北山田一丁目   \n",
              "20   S14011      日吉本町店            14       神奈川県  神奈川県横浜市港北区日吉本町四丁目   \n",
              "38   S12013       習志野店            12        千葉県       千葉県習志野市芝園一丁目   \n",
              "\n",
              "                      address_kana        tel_no  longitude  latitude  \\\n",
              "18      カナガワケンヨコハマシツヅキクキタヤマタイッチョウメ  045-123-4049   139.5916  35.56189   \n",
              "20  カナガワケンヨコハマシコウホククヒヨシホンチョウヨンチョウメ  045-123-4033   139.6316  35.54655   \n",
              "38             チバケンナラシノシシバゾノイッチョウメ  047-123-4002   140.0220  35.66122   \n",
              "\n",
              "    floor_area  \n",
              "18       831.0  \n",
              "20       890.0  \n",
              "38       808.0  "
            ],
            "text/html": [
              "\n",
              "  <div id=\"df-a65fd456-3767-4521-9136-76601231a49b\" class=\"colab-df-container\">\n",
              "    <div>\n",
              "<style scoped>\n",
              "    .dataframe tbody tr th:only-of-type {\n",
              "        vertical-align: middle;\n",
              "    }\n",
              "\n",
              "    .dataframe tbody tr th {\n",
              "        vertical-align: top;\n",
              "    }\n",
              "\n",
              "    .dataframe thead th {\n",
              "        text-align: right;\n",
              "    }\n",
              "</style>\n",
              "<table border=\"1\" class=\"dataframe\">\n",
              "  <thead>\n",
              "    <tr style=\"text-align: right;\">\n",
              "      <th></th>\n",
              "      <th>store_cd</th>\n",
              "      <th>store_name</th>\n",
              "      <th>prefecture_cd</th>\n",
              "      <th>prefecture</th>\n",
              "      <th>address</th>\n",
              "      <th>address_kana</th>\n",
              "      <th>tel_no</th>\n",
              "      <th>longitude</th>\n",
              "      <th>latitude</th>\n",
              "      <th>floor_area</th>\n",
              "    </tr>\n",
              "  </thead>\n",
              "  <tbody>\n",
              "    <tr>\n",
              "      <th>18</th>\n",
              "      <td>S14046</td>\n",
              "      <td>北山田店</td>\n",
              "      <td>14</td>\n",
              "      <td>神奈川県</td>\n",
              "      <td>神奈川県横浜市都筑区北山田一丁目</td>\n",
              "      <td>カナガワケンヨコハマシツヅキクキタヤマタイッチョウメ</td>\n",
              "      <td>045-123-4049</td>\n",
              "      <td>139.5916</td>\n",
              "      <td>35.56189</td>\n",
              "      <td>831.0</td>\n",
              "    </tr>\n",
              "    <tr>\n",
              "      <th>20</th>\n",
              "      <td>S14011</td>\n",
              "      <td>日吉本町店</td>\n",
              "      <td>14</td>\n",
              "      <td>神奈川県</td>\n",
              "      <td>神奈川県横浜市港北区日吉本町四丁目</td>\n",
              "      <td>カナガワケンヨコハマシコウホククヒヨシホンチョウヨンチョウメ</td>\n",
              "      <td>045-123-4033</td>\n",
              "      <td>139.6316</td>\n",
              "      <td>35.54655</td>\n",
              "      <td>890.0</td>\n",
              "    </tr>\n",
              "    <tr>\n",
              "      <th>38</th>\n",
              "      <td>S12013</td>\n",
              "      <td>習志野店</td>\n",
              "      <td>12</td>\n",
              "      <td>千葉県</td>\n",
              "      <td>千葉県習志野市芝園一丁目</td>\n",
              "      <td>チバケンナラシノシシバゾノイッチョウメ</td>\n",
              "      <td>047-123-4002</td>\n",
              "      <td>140.0220</td>\n",
              "      <td>35.66122</td>\n",
              "      <td>808.0</td>\n",
              "    </tr>\n",
              "  </tbody>\n",
              "</table>\n",
              "</div>\n",
              "    <div class=\"colab-df-buttons\">\n",
              "\n",
              "  <div class=\"colab-df-container\">\n",
              "    <button class=\"colab-df-convert\" onclick=\"convertToInteractive('df-a65fd456-3767-4521-9136-76601231a49b')\"\n",
              "            title=\"Convert this dataframe to an interactive table.\"\n",
              "            style=\"display:none;\">\n",
              "\n",
              "  <svg xmlns=\"http://www.w3.org/2000/svg\" height=\"24px\" viewBox=\"0 -960 960 960\">\n",
              "    <path d=\"M120-120v-720h720v720H120Zm60-500h600v-160H180v160Zm220 220h160v-160H400v160Zm0 220h160v-160H400v160ZM180-400h160v-160H180v160Zm440 0h160v-160H620v160ZM180-180h160v-160H180v160Zm440 0h160v-160H620v160Z\"/>\n",
              "  </svg>\n",
              "    </button>\n",
              "\n",
              "  <style>\n",
              "    .colab-df-container {\n",
              "      display:flex;\n",
              "      gap: 12px;\n",
              "    }\n",
              "\n",
              "    .colab-df-convert {\n",
              "      background-color: #E8F0FE;\n",
              "      border: none;\n",
              "      border-radius: 50%;\n",
              "      cursor: pointer;\n",
              "      display: none;\n",
              "      fill: #1967D2;\n",
              "      height: 32px;\n",
              "      padding: 0 0 0 0;\n",
              "      width: 32px;\n",
              "    }\n",
              "\n",
              "    .colab-df-convert:hover {\n",
              "      background-color: #E2EBFA;\n",
              "      box-shadow: 0px 1px 2px rgba(60, 64, 67, 0.3), 0px 1px 3px 1px rgba(60, 64, 67, 0.15);\n",
              "      fill: #174EA6;\n",
              "    }\n",
              "\n",
              "    .colab-df-buttons div {\n",
              "      margin-bottom: 4px;\n",
              "    }\n",
              "\n",
              "    [theme=dark] .colab-df-convert {\n",
              "      background-color: #3B4455;\n",
              "      fill: #D2E3FC;\n",
              "    }\n",
              "\n",
              "    [theme=dark] .colab-df-convert:hover {\n",
              "      background-color: #434B5C;\n",
              "      box-shadow: 0px 1px 3px 1px rgba(0, 0, 0, 0.15);\n",
              "      filter: drop-shadow(0px 1px 2px rgba(0, 0, 0, 0.3));\n",
              "      fill: #FFFFFF;\n",
              "    }\n",
              "  </style>\n",
              "\n",
              "    <script>\n",
              "      const buttonEl =\n",
              "        document.querySelector('#df-a65fd456-3767-4521-9136-76601231a49b button.colab-df-convert');\n",
              "      buttonEl.style.display =\n",
              "        google.colab.kernel.accessAllowed ? 'block' : 'none';\n",
              "\n",
              "      async function convertToInteractive(key) {\n",
              "        const element = document.querySelector('#df-a65fd456-3767-4521-9136-76601231a49b');\n",
              "        const dataTable =\n",
              "          await google.colab.kernel.invokeFunction('convertToInteractive',\n",
              "                                                    [key], {});\n",
              "        if (!dataTable) return;\n",
              "\n",
              "        const docLinkHtml = 'Like what you see? Visit the ' +\n",
              "          '<a target=\"_blank\" href=https://colab.research.google.com/notebooks/data_table.ipynb>data table notebook</a>'\n",
              "          + ' to learn more about interactive tables.';\n",
              "        element.innerHTML = '';\n",
              "        dataTable['output_type'] = 'display_data';\n",
              "        await google.colab.output.renderOutput(dataTable, element);\n",
              "        const docLink = document.createElement('div');\n",
              "        docLink.innerHTML = docLinkHtml;\n",
              "        element.appendChild(docLink);\n",
              "      }\n",
              "    </script>\n",
              "  </div>\n",
              "\n",
              "\n",
              "<div id=\"df-3d18bb44-511a-47cb-9878-6a69f59b0786\">\n",
              "  <button class=\"colab-df-quickchart\" onclick=\"quickchart('df-3d18bb44-511a-47cb-9878-6a69f59b0786')\"\n",
              "            title=\"Suggest charts\"\n",
              "            style=\"display:none;\">\n",
              "\n",
              "<svg xmlns=\"http://www.w3.org/2000/svg\" height=\"24px\"viewBox=\"0 0 24 24\"\n",
              "     width=\"24px\">\n",
              "    <g>\n",
              "        <path d=\"M19 3H5c-1.1 0-2 .9-2 2v14c0 1.1.9 2 2 2h14c1.1 0 2-.9 2-2V5c0-1.1-.9-2-2-2zM9 17H7v-7h2v7zm4 0h-2V7h2v10zm4 0h-2v-4h2v4z\"/>\n",
              "    </g>\n",
              "</svg>\n",
              "  </button>\n",
              "\n",
              "<style>\n",
              "  .colab-df-quickchart {\n",
              "      --bg-color: #E8F0FE;\n",
              "      --fill-color: #1967D2;\n",
              "      --hover-bg-color: #E2EBFA;\n",
              "      --hover-fill-color: #174EA6;\n",
              "      --disabled-fill-color: #AAA;\n",
              "      --disabled-bg-color: #DDD;\n",
              "  }\n",
              "\n",
              "  [theme=dark] .colab-df-quickchart {\n",
              "      --bg-color: #3B4455;\n",
              "      --fill-color: #D2E3FC;\n",
              "      --hover-bg-color: #434B5C;\n",
              "      --hover-fill-color: #FFFFFF;\n",
              "      --disabled-bg-color: #3B4455;\n",
              "      --disabled-fill-color: #666;\n",
              "  }\n",
              "\n",
              "  .colab-df-quickchart {\n",
              "    background-color: var(--bg-color);\n",
              "    border: none;\n",
              "    border-radius: 50%;\n",
              "    cursor: pointer;\n",
              "    display: none;\n",
              "    fill: var(--fill-color);\n",
              "    height: 32px;\n",
              "    padding: 0;\n",
              "    width: 32px;\n",
              "  }\n",
              "\n",
              "  .colab-df-quickchart:hover {\n",
              "    background-color: var(--hover-bg-color);\n",
              "    box-shadow: 0 1px 2px rgba(60, 64, 67, 0.3), 0 1px 3px 1px rgba(60, 64, 67, 0.15);\n",
              "    fill: var(--button-hover-fill-color);\n",
              "  }\n",
              "\n",
              "  .colab-df-quickchart-complete:disabled,\n",
              "  .colab-df-quickchart-complete:disabled:hover {\n",
              "    background-color: var(--disabled-bg-color);\n",
              "    fill: var(--disabled-fill-color);\n",
              "    box-shadow: none;\n",
              "  }\n",
              "\n",
              "  .colab-df-spinner {\n",
              "    border: 2px solid var(--fill-color);\n",
              "    border-color: transparent;\n",
              "    border-bottom-color: var(--fill-color);\n",
              "    animation:\n",
              "      spin 1s steps(1) infinite;\n",
              "  }\n",
              "\n",
              "  @keyframes spin {\n",
              "    0% {\n",
              "      border-color: transparent;\n",
              "      border-bottom-color: var(--fill-color);\n",
              "      border-left-color: var(--fill-color);\n",
              "    }\n",
              "    20% {\n",
              "      border-color: transparent;\n",
              "      border-left-color: var(--fill-color);\n",
              "      border-top-color: var(--fill-color);\n",
              "    }\n",
              "    30% {\n",
              "      border-color: transparent;\n",
              "      border-left-color: var(--fill-color);\n",
              "      border-top-color: var(--fill-color);\n",
              "      border-right-color: var(--fill-color);\n",
              "    }\n",
              "    40% {\n",
              "      border-color: transparent;\n",
              "      border-right-color: var(--fill-color);\n",
              "      border-top-color: var(--fill-color);\n",
              "    }\n",
              "    60% {\n",
              "      border-color: transparent;\n",
              "      border-right-color: var(--fill-color);\n",
              "    }\n",
              "    80% {\n",
              "      border-color: transparent;\n",
              "      border-right-color: var(--fill-color);\n",
              "      border-bottom-color: var(--fill-color);\n",
              "    }\n",
              "    90% {\n",
              "      border-color: transparent;\n",
              "      border-bottom-color: var(--fill-color);\n",
              "    }\n",
              "  }\n",
              "</style>\n",
              "\n",
              "  <script>\n",
              "    async function quickchart(key) {\n",
              "      const quickchartButtonEl =\n",
              "        document.querySelector('#' + key + ' button');\n",
              "      quickchartButtonEl.disabled = true;  // To prevent multiple clicks.\n",
              "      quickchartButtonEl.classList.add('colab-df-spinner');\n",
              "      try {\n",
              "        const charts = await google.colab.kernel.invokeFunction(\n",
              "            'suggestCharts', [key], {});\n",
              "      } catch (error) {\n",
              "        console.error('Error during call to suggestCharts:', error);\n",
              "      }\n",
              "      quickchartButtonEl.classList.remove('colab-df-spinner');\n",
              "      quickchartButtonEl.classList.add('colab-df-quickchart-complete');\n",
              "    }\n",
              "    (() => {\n",
              "      let quickchartButtonEl =\n",
              "        document.querySelector('#df-3d18bb44-511a-47cb-9878-6a69f59b0786 button');\n",
              "      quickchartButtonEl.style.display =\n",
              "        google.colab.kernel.accessAllowed ? 'block' : 'none';\n",
              "    })();\n",
              "  </script>\n",
              "</div>\n",
              "    </div>\n",
              "  </div>\n"
            ],
            "application/vnd.google.colaboratory.intrinsic+json": {
              "type": "dataframe",
              "summary": "{\n  \"name\": \"df_store\",\n  \"rows\": 3,\n  \"fields\": [\n    {\n      \"column\": \"store_cd\",\n      \"properties\": {\n        \"dtype\": \"string\",\n        \"num_unique_values\": 3,\n        \"samples\": [\n          \"S14046\",\n          \"S14011\",\n          \"S12013\"\n        ],\n        \"semantic_type\": \"\",\n        \"description\": \"\"\n      }\n    },\n    {\n      \"column\": \"store_name\",\n      \"properties\": {\n        \"dtype\": \"string\",\n        \"num_unique_values\": 3,\n        \"samples\": [\n          \"\\u5317\\u5c71\\u7530\\u5e97\",\n          \"\\u65e5\\u5409\\u672c\\u753a\\u5e97\",\n          \"\\u7fd2\\u5fd7\\u91ce\\u5e97\"\n        ],\n        \"semantic_type\": \"\",\n        \"description\": \"\"\n      }\n    },\n    {\n      \"column\": \"prefecture_cd\",\n      \"properties\": {\n        \"dtype\": \"string\",\n        \"num_unique_values\": 2,\n        \"samples\": [\n          \"12\",\n          \"14\"\n        ],\n        \"semantic_type\": \"\",\n        \"description\": \"\"\n      }\n    },\n    {\n      \"column\": \"prefecture\",\n      \"properties\": {\n        \"dtype\": \"string\",\n        \"num_unique_values\": 2,\n        \"samples\": [\n          \"\\u5343\\u8449\\u770c\",\n          \"\\u795e\\u5948\\u5ddd\\u770c\"\n        ],\n        \"semantic_type\": \"\",\n        \"description\": \"\"\n      }\n    },\n    {\n      \"column\": \"address\",\n      \"properties\": {\n        \"dtype\": \"string\",\n        \"num_unique_values\": 3,\n        \"samples\": [\n          \"\\u795e\\u5948\\u5ddd\\u770c\\u6a2a\\u6d5c\\u5e02\\u90fd\\u7b51\\u533a\\u5317\\u5c71\\u7530\\u4e00\\u4e01\\u76ee\",\n          \"\\u795e\\u5948\\u5ddd\\u770c\\u6a2a\\u6d5c\\u5e02\\u6e2f\\u5317\\u533a\\u65e5\\u5409\\u672c\\u753a\\u56db\\u4e01\\u76ee\"\n        ],\n        \"semantic_type\": \"\",\n        \"description\": \"\"\n      }\n    },\n    {\n      \"column\": \"address_kana\",\n      \"properties\": {\n        \"dtype\": \"string\",\n        \"num_unique_values\": 3,\n        \"samples\": [\n          \"\\u30ab\\u30ca\\u30ac\\u30ef\\u30b1\\u30f3\\u30e8\\u30b3\\u30cf\\u30de\\u30b7\\u30c4\\u30c5\\u30ad\\u30af\\u30ad\\u30bf\\u30e4\\u30de\\u30bf\\u30a4\\u30c3\\u30c1\\u30e7\\u30a6\\u30e1\",\n          \"\\u30ab\\u30ca\\u30ac\\u30ef\\u30b1\\u30f3\\u30e8\\u30b3\\u30cf\\u30de\\u30b7\\u30b3\\u30a6\\u30db\\u30af\\u30af\\u30d2\\u30e8\\u30b7\\u30db\\u30f3\\u30c1\\u30e7\\u30a6\\u30e8\\u30f3\\u30c1\\u30e7\\u30a6\\u30e1\"\n        ],\n        \"semantic_type\": \"\",\n        \"description\": \"\"\n      }\n    },\n    {\n      \"column\": \"tel_no\",\n      \"properties\": {\n        \"dtype\": \"string\",\n        \"num_unique_values\": 3,\n        \"samples\": [\n          \"045-123-4049\",\n          \"045-123-4033\"\n        ],\n        \"semantic_type\": \"\",\n        \"description\": \"\"\n      }\n    },\n    {\n      \"column\": \"longitude\",\n      \"properties\": {\n        \"dtype\": \"number\",\n        \"std\": 0.23778713169555382,\n        \"min\": 139.5916,\n        \"max\": 140.022,\n        \"num_unique_values\": 3,\n        \"samples\": [\n          139.5916,\n          139.6316\n        ],\n        \"semantic_type\": \"\",\n        \"description\": \"\"\n      }\n    },\n    {\n      \"column\": \"latitude\",\n      \"properties\": {\n        \"dtype\": \"number\",\n        \"std\": 0.06225080106579549,\n        \"min\": 35.54655,\n        \"max\": 35.66122,\n        \"num_unique_values\": 3,\n        \"samples\": [\n          35.56189,\n          35.54655\n        ],\n        \"semantic_type\": \"\",\n        \"description\": \"\"\n      }\n    },\n    {\n      \"column\": \"floor_area\",\n      \"properties\": {\n        \"dtype\": \"number\",\n        \"std\": 42.2965719651132,\n        \"min\": 808.0,\n        \"max\": 890.0,\n        \"num_unique_values\": 3,\n        \"samples\": [\n          831.0,\n          890.0\n        ],\n        \"semantic_type\": \"\",\n        \"description\": \"\"\n      }\n    }\n  ]\n}"
            }
          },
          "metadata": {},
          "execution_count": 13
        }
      ],
      "source": [
        "df_store.query('not(prefecture_cd == \"13\") & not(floor_area > 900)')"
      ]
    },
    {
      "cell_type": "markdown",
      "metadata": {
        "id": "YOLLaqH1fp7D"
      },
      "source": [
        "---\n",
        "> P-010: 店舗データ（df_store）から、店舗コード（store_cd）が\"S14\"で始まるものだけ全項目抽出し、10件表示せよ。"
      ]
    },
    {
      "cell_type": "code",
      "execution_count": null,
      "metadata": {
        "colab": {
          "base_uri": "https://localhost:8080/"
        },
        "id": "PRT_DDo_fp7D",
        "outputId": "c2c2328c-1949-40ba-a205-550daed63f5a"
      },
      "outputs": [
        {
          "output_type": "stream",
          "name": "stdout",
          "text": [
            "   store_cd store_name prefecture_cd prefecture              address  \\\n",
            "2    S14010        菊名店            14       神奈川県      神奈川県横浜市港北区菊名一丁目   \n",
            "3    S14033       阿久和店            14       神奈川県    神奈川県横浜市瀬谷区阿久和西一丁目   \n",
            "4    S14036     相模原中央店            14       神奈川県        神奈川県相模原市中央二丁目   \n",
            "7    S14040       長津田店            14       神奈川県  神奈川県横浜市緑区長津田みなみ台五丁目   \n",
            "9    S14050      阿久和西店            14       神奈川県    神奈川県横浜市瀬谷区阿久和西一丁目   \n",
            "12   S14028       二ツ橋店            14       神奈川県       神奈川県横浜市瀬谷区二ツ橋町   \n",
            "16   S14012      本牧和田店            14       神奈川県        神奈川県横浜市中区本牧和田   \n",
            "18   S14046       北山田店            14       神奈川県     神奈川県横浜市都筑区北山田一丁目   \n",
            "19   S14022        逗子店            14       神奈川県         神奈川県逗子市逗子一丁目   \n",
            "20   S14011      日吉本町店            14       神奈川県    神奈川県横浜市港北区日吉本町四丁目   \n",
            "\n",
            "                      address_kana        tel_no  longitude  latitude  \\\n",
            "2        カナガワケンヨコハマシコウホククキクナイッチョウメ  045-123-4032   139.6326  35.50049   \n",
            "3        カナガワケンヨコハマシセヤクアクワニシイッチョウメ  045-123-4043   139.4961  35.45918   \n",
            "4           カナガワケンサガミハラシチュウオウニチョウメ  042-123-4045   139.3716  35.57327   \n",
            "7    カナガワケンヨコハマシミドリクナガツタミナミダイゴチョウメ  045-123-4046   139.4994  35.52398   \n",
            "9        カナガワケンヨコハマシセヤクアクワニシイッチョウメ  045-123-4053   139.4961  35.45918   \n",
            "12          カナガワケンヨコハマシセヤクフタツバシチョウ  045-123-4042   139.4963  35.46304   \n",
            "16            カナガワケンヨコハマシナカクホンモクワダ  045-123-4034   139.6582  35.42156   \n",
            "18      カナガワケンヨコハマシツヅキクキタヤマタイッチョウメ  045-123-4049   139.5916  35.56189   \n",
            "19               カナガワケンズシシズシイッチョウメ  046-123-4036   139.5789  35.29642   \n",
            "20  カナガワケンヨコハマシコウホククヒヨシホンチョウヨンチョウメ  045-123-4033   139.6316  35.54655   \n",
            "\n",
            "    floor_area  \n",
            "2       1732.0  \n",
            "3       1495.0  \n",
            "4       1679.0  \n",
            "7       1548.0  \n",
            "9       1830.0  \n",
            "12      1574.0  \n",
            "16      1341.0  \n",
            "18       831.0  \n",
            "19      1838.0  \n",
            "20       890.0  \n"
          ]
        }
      ],
      "source": [
        "filtered_data = df_store[df_store['store_cd'].str.startswith('S14')]\n",
        "\n",
        "print(filtered_data.head(10))"
      ]
    },
    {
      "cell_type": "markdown",
      "metadata": {
        "id": "QYmSV61xfp7D"
      },
      "source": [
        "---\n",
        "> P-011: 顧客データ（df_customer）から顧客ID（customer_id）の末尾が1のものだけ全項目抽出し、10件表示せよ。"
      ]
    },
    {
      "cell_type": "code",
      "execution_count": null,
      "metadata": {
        "colab": {
          "base_uri": "https://localhost:8080/"
        },
        "id": "ZDnmYAOffp7D",
        "outputId": "b83ad7e6-7188-4e6e-b5dd-920733088ae8"
      },
      "outputs": [
        {
          "output_type": "stream",
          "name": "stdout",
          "text": [
            "        customer_id customer_name gender_cd gender   birth_day  age postal_cd  \\\n",
            "1    CS037613000071         六角 雅彦         9     不明  1952-04-01   66  136-0076   \n",
            "3    CS028811000001        堀井 かおり         1     女性  1933-03-27   86  245-0016   \n",
            "14   CS040412000191         川井 郁恵         1     女性  1977-01-05   42  226-0021   \n",
            "31   CS028314000011        小菅 あおい         1     女性  1983-11-26   35  246-0038   \n",
            "56   CS039212000051        藤島 恵梨香         1     女性  1997-02-03   22  166-0001   \n",
            "59   CS015412000111         松居 奈月         1     女性  1972-10-04   46  136-0071   \n",
            "63   CS004702000041          野島 洋         0     男性  1943-08-24   75  176-0022   \n",
            "74   CS041515000001         栗田 千夏         1     女性  1967-01-02   52  206-0001   \n",
            "85   CS029313000221        北条 ひかり         1     女性  1987-06-19   31  279-0011   \n",
            "102  CS034312000071         望月 奈央         1     女性  1980-09-20   38  213-0026   \n",
            "\n",
            "                     address application_store_cd  application_date  \\\n",
            "1         東京都江東区南砂**********               S13037          20150414   \n",
            "3     神奈川県横浜市泉区和泉町**********               S14028          20160115   \n",
            "14   神奈川県横浜市緑区北八朔町**********               S14040          20151101   \n",
            "31    神奈川県横浜市瀬谷区宮沢**********               S14028          20151123   \n",
            "56      東京都杉並区阿佐谷北**********               S13039          20171121   \n",
            "59        東京都江東区亀戸**********               S13015          20150629   \n",
            "63        東京都練馬区向山**********               S13004          20170218   \n",
            "74        東京都多摩市和田**********               S13041          20160422   \n",
            "85        千葉県浦安市美浜**********               S12029          20180810   \n",
            "102   神奈川県川崎市高津区久末**********               S14034          20160106   \n",
            "\n",
            "        status_cd  \n",
            "1    0-00000000-0  \n",
            "3    0-00000000-0  \n",
            "14   1-20091025-4  \n",
            "31   1-20080426-5  \n",
            "56   1-20100215-4  \n",
            "59   0-00000000-0  \n",
            "63   0-00000000-0  \n",
            "74   E-20100803-F  \n",
            "85   0-00000000-0  \n",
            "102  0-00000000-0  \n"
          ]
        }
      ],
      "source": [
        "filtered_data = df_customer[df_customer['customer_id'].str.endswith('1')]\n",
        "\n",
        "print(filtered_data.head(10))"
      ]
    },
    {
      "cell_type": "markdown",
      "metadata": {
        "id": "LXy6WkfNfp7D"
      },
      "source": [
        "---\n",
        "> P-012: 店舗データ（df_store）から、住所 (address) に\"横浜市\"が含まれるものだけ全項目表示せよ。"
      ]
    },
    {
      "cell_type": "code",
      "execution_count": null,
      "metadata": {
        "colab": {
          "base_uri": "https://localhost:8080/"
        },
        "id": "nCy1IxDQfp7D",
        "outputId": "c771d79f-915a-44fa-b589-6181ca012ec7"
      },
      "outputs": [
        {
          "output_type": "stream",
          "name": "stdout",
          "text": [
            "   store_cd store_name prefecture_cd prefecture              address  \\\n",
            "2    S14010        菊名店            14       神奈川県      神奈川県横浜市港北区菊名一丁目   \n",
            "3    S14033       阿久和店            14       神奈川県    神奈川県横浜市瀬谷区阿久和西一丁目   \n",
            "7    S14040       長津田店            14       神奈川県  神奈川県横浜市緑区長津田みなみ台五丁目   \n",
            "9    S14050      阿久和西店            14       神奈川県    神奈川県横浜市瀬谷区阿久和西一丁目   \n",
            "12   S14028       二ツ橋店            14       神奈川県       神奈川県横浜市瀬谷区二ツ橋町   \n",
            "16   S14012      本牧和田店            14       神奈川県        神奈川県横浜市中区本牧和田   \n",
            "18   S14046       北山田店            14       神奈川県     神奈川県横浜市都筑区北山田一丁目   \n",
            "20   S14011      日吉本町店            14       神奈川県    神奈川県横浜市港北区日吉本町四丁目   \n",
            "26   S14048      中川中央店            14       神奈川県    神奈川県横浜市都筑区中川中央二丁目   \n",
            "40   S14042       新山下店            14       神奈川県      神奈川県横浜市中区新山下二丁目   \n",
            "52   S14006       葛が谷店            14       神奈川県        神奈川県横浜市都筑区葛が谷   \n",
            "\n",
            "                      address_kana        tel_no  longitude  latitude  \\\n",
            "2        カナガワケンヨコハマシコウホククキクナイッチョウメ  045-123-4032   139.6326  35.50049   \n",
            "3        カナガワケンヨコハマシセヤクアクワニシイッチョウメ  045-123-4043   139.4961  35.45918   \n",
            "7    カナガワケンヨコハマシミドリクナガツタミナミダイゴチョウメ  045-123-4046   139.4994  35.52398   \n",
            "9        カナガワケンヨコハマシセヤクアクワニシイッチョウメ  045-123-4053   139.4961  35.45918   \n",
            "12          カナガワケンヨコハマシセヤクフタツバシチョウ  045-123-4042   139.4963  35.46304   \n",
            "16            カナガワケンヨコハマシナカクホンモクワダ  045-123-4034   139.6582  35.42156   \n",
            "18      カナガワケンヨコハマシツヅキクキタヤマタイッチョウメ  045-123-4049   139.5916  35.56189   \n",
            "20  カナガワケンヨコハマシコウホククヒヨシホンチョウヨンチョウメ  045-123-4033   139.6316  35.54655   \n",
            "26   カナガワケンヨコハマシツヅキクナカガワチュウオウニチョウメ  045-123-4051   139.5758  35.54912   \n",
            "40       カナガワケンヨコハマシナカクシンヤマシタニチョウメ  045-123-4047   139.6593  35.43894   \n",
            "52             カナガワケンヨコハマシツヅキククズガヤ  045-123-4031   139.5633  35.53573   \n",
            "\n",
            "    floor_area  \n",
            "2       1732.0  \n",
            "3       1495.0  \n",
            "7       1548.0  \n",
            "9       1830.0  \n",
            "12      1574.0  \n",
            "16      1341.0  \n",
            "18       831.0  \n",
            "20       890.0  \n",
            "26      1657.0  \n",
            "40      1044.0  \n",
            "52      1886.0  \n"
          ]
        }
      ],
      "source": [
        "filtered_data = df_store[df_store['address'].str.contains('横浜市')]\n",
        "\n",
        "print(filtered_data)"
      ]
    },
    {
      "cell_type": "markdown",
      "metadata": {
        "id": "DA-6yIh6fp7D"
      },
      "source": [
        "---\n",
        "> P-013: 顧客データ（df_customer）から、ステータスコード（status_cd）の先頭がアルファベットのA〜Fで始まるデータを全項目抽出し、10件表示せよ。"
      ]
    },
    {
      "cell_type": "code",
      "execution_count": null,
      "metadata": {
        "colab": {
          "base_uri": "https://localhost:8080/"
        },
        "id": "FEvyHgszfp7D",
        "outputId": "b8a000e0-fceb-4860-f704-36e29ea11222"
      },
      "outputs": [
        {
          "output_type": "stream",
          "name": "stdout",
          "text": [
            "       customer_id customer_name gender_cd gender   birth_day  age postal_cd  \\\n",
            "2   CS031415000172       宇多田 貴美子         1     女性  1976-10-04   42  151-0053   \n",
            "6   CS015414000103         奥野 陽子         1     女性  1977-08-09   41  136-0073   \n",
            "12  CS011215000048         芦田 沙耶         1     女性  1992-02-01   27  223-0062   \n",
            "15  CS029415000023         梅田 里穂         1     女性  1976-01-17   43  279-0043   \n",
            "21  CS035415000029         寺沢 真希         9     不明  1977-09-27   41  158-0096   \n",
            "32  CS031415000106        宇野 由美子         1     女性  1970-02-26   49  151-0053   \n",
            "33  CS029215000025         石倉 美帆         1     女性  1993-09-28   25  279-0022   \n",
            "40  CS033605000005         猪股 雄太         0     男性  1955-12-05   63  246-0031   \n",
            "44  CS033415000229        板垣 菜々美         1     女性  1977-11-07   41  246-0021   \n",
            "53  CS008415000145         黒谷 麻緒         1     女性  1977-06-27   41  157-0067   \n",
            "\n",
            "                     address application_store_cd  application_date  \\\n",
            "2        東京都渋谷区代々木**********               S13031          20150529   \n",
            "6         東京都江東区北砂**********               S13015          20150722   \n",
            "12  神奈川県横浜市港北区日吉本町**********               S14011          20150228   \n",
            "15       千葉県浦安市富士見**********               S12029          20150610   \n",
            "21      東京都世田谷区玉川台**********               S13035          20141220   \n",
            "32       東京都渋谷区代々木**********               S13031          20150201   \n",
            "33        千葉県浦安市今川**********               S12029          20150708   \n",
            "40    神奈川県横浜市瀬谷区瀬谷**********               S14033          20150425   \n",
            "44  神奈川県横浜市瀬谷区二ツ橋町**********               S14033          20150712   \n",
            "53      東京都世田谷区喜多見**********               S13008          20150829   \n",
            "\n",
            "       status_cd  \n",
            "2   D-20100325-C  \n",
            "6   B-20100609-B  \n",
            "12  C-20100421-9  \n",
            "15  D-20100918-E  \n",
            "21  F-20101029-F  \n",
            "32  F-20100511-E  \n",
            "33  B-20100820-C  \n",
            "40  F-20100917-E  \n",
            "44  F-20100326-E  \n",
            "53  F-20100622-F  \n"
          ]
        }
      ],
      "source": [
        "filtered_data = df_customer[df_customer['status_cd'].str.match(r'^[A-F]')]\n",
        "\n",
        "print(filtered_data.head(10))"
      ]
    },
    {
      "cell_type": "markdown",
      "metadata": {
        "id": "0JQ2-4UHfp7D"
      },
      "source": [
        "---\n",
        "> P-014: 顧客データ（df_customer）から、ステータスコード（status_cd）の末尾が数字の1〜9で終わるデータを全項目抽出し、10件表示せよ。"
      ]
    },
    {
      "cell_type": "code",
      "execution_count": null,
      "metadata": {
        "colab": {
          "base_uri": "https://localhost:8080/"
        },
        "id": "yNrq2KH3fp7D",
        "outputId": "d7ebd752-75b6-469d-ce01-3ffa737437e8"
      },
      "outputs": [
        {
          "output_type": "stream",
          "name": "stdout",
          "text": [
            "       customer_id customer_name gender_cd gender   birth_day  age postal_cd  \\\n",
            "4   CS001215000145         田崎 美紀         1     女性  1995-03-29   24  144-0055   \n",
            "9   CS033513000180          安斎 遥         1     女性  1962-07-11   56  241-0823   \n",
            "12  CS011215000048         芦田 沙耶         1     女性  1992-02-01   27  223-0062   \n",
            "14  CS040412000191         川井 郁恵         1     女性  1977-01-05   42  226-0021   \n",
            "16  CS009315000023         皆川 文世         1     女性  1980-04-15   38  154-0012   \n",
            "22  CS015315000033        福士 璃奈子         1     女性  1983-03-17   36  135-0043   \n",
            "23  CS023513000066         神戸 そら         1     女性  1961-12-17   57  210-0005   \n",
            "24  CS035513000134         市川 美帆         1     女性  1960-03-27   59  156-0053   \n",
            "27  CS001515000263         高松 夏空         1     女性  1962-11-09   56  144-0051   \n",
            "28  CS040314000027       鶴田 きみまろ         9     不明  1986-03-26   33  226-0027   \n",
            "\n",
            "                     address application_store_cd  application_date  \\\n",
            "4        東京都大田区仲六郷**********               S13001          20170605   \n",
            "9     神奈川県横浜市旭区善部町**********               S14033          20150728   \n",
            "12  神奈川県横浜市港北区日吉本町**********               S14011          20150228   \n",
            "14   神奈川県横浜市緑区北八朔町**********               S14040          20151101   \n",
            "16       東京都世田谷区駒沢**********               S13009          20150319   \n",
            "22        東京都江東区塩浜**********               S13015          20141024   \n",
            "23   神奈川県川崎市川崎区東田町**********               S14023          20150915   \n",
            "24        東京都世田谷区桜**********               S13035          20150227   \n",
            "27       東京都大田区西蒲田**********               S13001          20160812   \n",
            "28    神奈川県横浜市緑区長津田**********               S14040          20150122   \n",
            "\n",
            "       status_cd  \n",
            "4   6-20090929-2  \n",
            "9   6-20080506-5  \n",
            "12  C-20100421-9  \n",
            "14  1-20091025-4  \n",
            "16  5-20080322-1  \n",
            "22  4-20080219-3  \n",
            "23  5-20100524-9  \n",
            "24  8-20100711-9  \n",
            "27  1-20100804-1  \n",
            "28  2-20080426-4  \n"
          ]
        }
      ],
      "source": [
        "filtered_data = df_customer[df_customer['status_cd'].str.match(r'.*[1-9]$')]\n",
        "\n",
        "print(filtered_data.head(10))"
      ]
    },
    {
      "cell_type": "markdown",
      "metadata": {
        "id": "YZnVYS36fp7D"
      },
      "source": [
        "---\n",
        "> P-015: 顧客データ（df_customer）から、ステータスコード（status_cd）の先頭がアルファベットのA〜Fで始まり、末尾が数字の1〜9で終わるデータを全項目抽出し、10件表示せよ。"
      ]
    },
    {
      "cell_type": "code",
      "execution_count": null,
      "metadata": {
        "colab": {
          "base_uri": "https://localhost:8080/"
        },
        "id": "YPs0pFxefp7D",
        "outputId": "36e556c7-c667-40df-8b04-babdb01088e9"
      },
      "outputs": [
        {
          "output_type": "stream",
          "name": "stdout",
          "text": [
            "        customer_id customer_name gender_cd gender   birth_day  age postal_cd  \\\n",
            "12   CS011215000048         芦田 沙耶         1     女性  1992-02-01   27  223-0062   \n",
            "68   CS022513000105        島村 貴美子         1     女性  1962-03-12   57  249-0002   \n",
            "71   CS001515000096         水野 陽子         9     不明  1960-11-29   58  144-0053   \n",
            "122  CS013615000053         西脇 季衣         1     女性  1953-10-18   65  261-0026   \n",
            "144  CS020412000161          小宮 薫         1     女性  1974-05-21   44  174-0042   \n",
            "178  CS001215000097        竹中 あさみ         1     女性  1990-07-25   28  146-0095   \n",
            "252  CS035212000007        内村 恵梨香         1     女性  1990-12-04   28  152-0023   \n",
            "259  CS002515000386         野田 コウ         1     女性  1963-05-30   55  185-0013   \n",
            "293  CS001615000372        稲垣 寿々花         1     女性  1956-10-29   62  144-0035   \n",
            "297  CS032512000121         松井 知世         1     女性  1962-09-04   56  210-0011   \n",
            "\n",
            "                      address application_store_cd  application_date  \\\n",
            "12   神奈川県横浜市港北区日吉本町**********               S14011          20150228   \n",
            "68       神奈川県逗子市山の根**********               S14022          20150320   \n",
            "71       東京都大田区蒲田本町**********               S13001          20150614   \n",
            "122    千葉県千葉市美浜区幕張西**********               S12013          20150128   \n",
            "144       東京都板橋区東坂下**********               S13020          20150822   \n",
            "178       東京都大田区多摩川**********               S13001          20170315   \n",
            "252        東京都目黒区八雲**********               S13035          20151013   \n",
            "259     東京都国分寺市西恋ケ窪**********               S13002          20160410   \n",
            "293       東京都大田区南蒲田**********               S13001          20170403   \n",
            "297   神奈川県川崎市川崎区富士見**********               S13032          20150727   \n",
            "\n",
            "        status_cd  \n",
            "12   C-20100421-9  \n",
            "68   A-20091115-7  \n",
            "71   A-20100724-7  \n",
            "122  B-20100329-6  \n",
            "144  B-20081021-3  \n",
            "178  A-20100211-2  \n",
            "252  B-20101018-6  \n",
            "259  C-20100127-8  \n",
            "293  A-20100104-1  \n",
            "297  A-20100103-5  \n"
          ]
        }
      ],
      "source": [
        "filtered_data = df_customer[df_customer['status_cd'].str.match(r'^[A-F].*[1-9]$')]\n",
        "\n",
        "print(filtered_data.head(10))"
      ]
    },
    {
      "cell_type": "markdown",
      "metadata": {
        "id": "0XbFFTAcfp7D"
      },
      "source": [
        "---\n",
        "> P-016: 店舗データ（df_store）から、電話番号（tel_no）が3桁-3桁-4桁のデータを全項目表示せよ。"
      ]
    },
    {
      "cell_type": "code",
      "execution_count": null,
      "metadata": {
        "colab": {
          "base_uri": "https://localhost:8080/"
        },
        "id": "4W-mxgmPfp7D",
        "outputId": "450a7b38-8559-4c16-94ea-a9eea833d6b9"
      },
      "outputs": [
        {
          "output_type": "stream",
          "name": "stdout",
          "text": [
            "   store_cd store_name prefecture_cd prefecture              address  \\\n",
            "0    S12014       千草台店            12        千葉県      千葉県千葉市稲毛区千草台一丁目   \n",
            "1    S13002       国分寺店            13        東京都         東京都国分寺市本多二丁目   \n",
            "2    S14010        菊名店            14       神奈川県      神奈川県横浜市港北区菊名一丁目   \n",
            "3    S14033       阿久和店            14       神奈川県    神奈川県横浜市瀬谷区阿久和西一丁目   \n",
            "4    S14036     相模原中央店            14       神奈川県        神奈川県相模原市中央二丁目   \n",
            "7    S14040       長津田店            14       神奈川県  神奈川県横浜市緑区長津田みなみ台五丁目   \n",
            "9    S14050      阿久和西店            14       神奈川県    神奈川県横浜市瀬谷区阿久和西一丁目   \n",
            "11   S13052        森野店            13        東京都          東京都町田市森野三丁目   \n",
            "12   S14028       二ツ橋店            14       神奈川県       神奈川県横浜市瀬谷区二ツ橋町   \n",
            "16   S14012      本牧和田店            14       神奈川県        神奈川県横浜市中区本牧和田   \n",
            "18   S14046       北山田店            14       神奈川県     神奈川県横浜市都筑区北山田一丁目   \n",
            "19   S14022        逗子店            14       神奈川県         神奈川県逗子市逗子一丁目   \n",
            "20   S14011      日吉本町店            14       神奈川県    神奈川県横浜市港北区日吉本町四丁目   \n",
            "21   S13016       小金井店            13        東京都         東京都小金井市本町一丁目   \n",
            "22   S14034      川崎野川店            14       神奈川県         神奈川県川崎市宮前区野川   \n",
            "26   S14048      中川中央店            14       神奈川県    神奈川県横浜市都筑区中川中央二丁目   \n",
            "27   S12007        佐倉店            12        千葉県            千葉県佐倉市上志津   \n",
            "28   S14026     辻堂西海岸店            14       神奈川県      神奈川県藤沢市辻堂西海岸二丁目   \n",
            "29   S13041       八王子店            13        東京都            東京都八王子市大塚   \n",
            "31   S14049      川崎大師店            14       神奈川県      神奈川県川崎市川崎区中瀬三丁目   \n",
            "32   S14023        川崎店            14       神奈川県      神奈川県川崎市川崎区本町二丁目   \n",
            "33   S13018        清瀬店            13        東京都          東京都清瀬市松山一丁目   \n",
            "35   S14027       南藤沢店            14       神奈川県           神奈川県藤沢市南藤沢   \n",
            "36   S14021       伊勢原店            14       神奈川県       神奈川県伊勢原市伊勢原四丁目   \n",
            "37   S14047       相模原店            14       神奈川県       神奈川県相模原市千代田六丁目   \n",
            "38   S12013       習志野店            12        千葉県         千葉県習志野市芝園一丁目   \n",
            "40   S14042       新山下店            14       神奈川県      神奈川県横浜市中区新山下二丁目   \n",
            "42   S12030        八幡店            12        千葉県          千葉県市川市八幡三丁目   \n",
            "44   S14025        大和店            14       神奈川県           神奈川県大和市下和田   \n",
            "45   S14045        厚木店            14       神奈川県         神奈川県厚木市中町二丁目   \n",
            "47   S12029        東野店            12        千葉県          千葉県浦安市東野一丁目   \n",
            "49   S12053        高洲店            12        千葉県          千葉県浦安市高洲五丁目   \n",
            "51   S14024        三田店            14       神奈川県      神奈川県川崎市多摩区三田四丁目   \n",
            "52   S14006       葛が谷店            14       神奈川県        神奈川県横浜市都筑区葛が谷   \n",
            "\n",
            "                      address_kana        tel_no  longitude  latitude  \\\n",
            "0           チバケンチバシイナゲクチグサダイイッチョウメ  043-123-4003   140.1180  35.63559   \n",
            "1             トウキョウトコクブンジシホンダニチョウメ  042-123-4008   139.4802  35.70566   \n",
            "2        カナガワケンヨコハマシコウホククキクナイッチョウメ  045-123-4032   139.6326  35.50049   \n",
            "3        カナガワケンヨコハマシセヤクアクワニシイッチョウメ  045-123-4043   139.4961  35.45918   \n",
            "4           カナガワケンサガミハラシチュウオウニチョウメ  042-123-4045   139.3716  35.57327   \n",
            "7    カナガワケンヨコハマシミドリクナガツタミナミダイゴチョウメ  045-123-4046   139.4994  35.52398   \n",
            "9        カナガワケンヨコハマシセヤクアクワニシイッチョウメ  045-123-4053   139.4961  35.45918   \n",
            "11             トウキョウトマチダシモリノサンチョウメ  042-123-4030   139.4383  35.55293   \n",
            "12          カナガワケンヨコハマシセヤクフタツバシチョウ  045-123-4042   139.4963  35.46304   \n",
            "16            カナガワケンヨコハマシナカクホンモクワダ  045-123-4034   139.6582  35.42156   \n",
            "18      カナガワケンヨコハマシツヅキクキタヤマタイッチョウメ  045-123-4049   139.5916  35.56189   \n",
            "19               カナガワケンズシシズシイッチョウメ  046-123-4036   139.5789  35.29642   \n",
            "20  カナガワケンヨコハマシコウホククヒヨシホンチョウヨンチョウメ  045-123-4033   139.6316  35.54655   \n",
            "21          トウキョウトコガネイシホンチョウイッチョウメ  042-123-4015   139.5094  35.70018   \n",
            "22             カナガワケンカワサキシミヤマエクノガワ  044-123-4044   139.5998  35.57693   \n",
            "26   カナガワケンヨコハマシツヅキクナカガワチュウオウニチョウメ  045-123-4051   139.5758  35.54912   \n",
            "27                    チバケンサクラシカミシヅ  043-123-4001   140.1452  35.71872   \n",
            "28      カナガワケンフジサワシツジドウニシカイガンニチョウメ  046-123-4040   139.4466  35.32464   \n",
            "29                トウキョウトハチオウジシオオツカ  042-123-4026   139.4235  35.63787   \n",
            "31       カナガワケンカワサキシカワサキクナカゼサンチョウメ  044-123-4052   139.7327  35.53759   \n",
            "32      カナガワケンカワサキシカワサキクホンチョウニチョウメ  044-123-4037   139.7028  35.53599   \n",
            "33            トウキョウトキヨセシマツヤマイッチョウメ  042-123-4017   139.5178  35.76885   \n",
            "35              カナガワケンフジサワシミナミフジサワ  046-123-4041   139.4896  35.33762   \n",
            "36           カナガワケンイセハラシイセハラヨンチョウメ  046-123-4035   139.3129  35.40169   \n",
            "37           カナガワケンサガミハラシチヨダロクチョウメ  042-123-4050   139.3748  35.55959   \n",
            "38             チバケンナラシノシシバゾノイッチョウメ  047-123-4002   140.0220  35.66122   \n",
            "40       カナガワケンヨコハマシナカクシンヤマシタニチョウメ  045-123-4047   139.6593  35.43894   \n",
            "42              チバケンイチカワシヤワタサンチョウメ  047-123-4005   139.9240  35.72318   \n",
            "44                  カナガワケンヤマトシシモワダ  046-123-4039   139.4680  35.43414   \n",
            "45            カナガワケンアツギシナカチョウニチョウメ  046-123-4048   139.3651  35.44182   \n",
            "47             チバケンウラヤスシヒガシノイッチョウメ  047-123-4004   139.8968  35.65086   \n",
            "49               チバケンウラヤスシタカスゴチョウメ  047-123-4006   139.9176  35.63755   \n",
            "51          カナガワケンカワサキシタマクミタヨンチョウメ  044-123-4038   139.5424  35.60770   \n",
            "52             カナガワケンヨコハマシツヅキククズガヤ  045-123-4031   139.5633  35.53573   \n",
            "\n",
            "    floor_area  \n",
            "0       1698.0  \n",
            "1       1735.0  \n",
            "2       1732.0  \n",
            "3       1495.0  \n",
            "4       1679.0  \n",
            "7       1548.0  \n",
            "9       1830.0  \n",
            "11      1087.0  \n",
            "12      1574.0  \n",
            "16      1341.0  \n",
            "18       831.0  \n",
            "19      1838.0  \n",
            "20       890.0  \n",
            "21      1399.0  \n",
            "22      1318.0  \n",
            "26      1657.0  \n",
            "27      1895.0  \n",
            "28      1732.0  \n",
            "29       810.0  \n",
            "31       962.0  \n",
            "32      1804.0  \n",
            "33      1220.0  \n",
            "35      1521.0  \n",
            "36       962.0  \n",
            "37      1047.0  \n",
            "38       808.0  \n",
            "40      1044.0  \n",
            "42      1162.0  \n",
            "44      1011.0  \n",
            "45       980.0  \n",
            "47      1101.0  \n",
            "49      1555.0  \n",
            "51       972.0  \n",
            "52      1886.0  \n"
          ]
        }
      ],
      "source": [
        "filtered_data = df_store[df_store['tel_no'].str.match(r'\\d{3}-\\d{3}-\\d{4}')]\n",
        "\n",
        "print(filtered_data)"
      ]
    },
    {
      "cell_type": "markdown",
      "metadata": {
        "id": "Drb8J7_Efp7D"
      },
      "source": [
        "---\n",
        "> P-017: 顧客データ（df_customer）を生年月日（birth_day）で高齢順にソートし、先頭から全項目を10件表示せよ。"
      ]
    },
    {
      "cell_type": "code",
      "execution_count": null,
      "metadata": {
        "colab": {
          "base_uri": "https://localhost:8080/"
        },
        "id": "vIXs9Jy2fp7D",
        "outputId": "0872e218-61c6-41a5-f49d-055ee6993052"
      },
      "outputs": [
        {
          "output_type": "stream",
          "name": "stdout",
          "text": [
            "          customer_id customer_name gender_cd gender   birth_day  age  \\\n",
            "18817  CS003813000014        村山 菜々美         1     女性  1928-11-26   90   \n",
            "12328  CS026813000004         吉村 朝陽         1     女性  1928-12-14   90   \n",
            "15682  CS018811000003         熊沢 美里         1     女性  1929-01-07   90   \n",
            "15302  CS027803000004         内村 拓郎         0     男性  1929-01-12   90   \n",
            "1681   CS013801000003         天野 拓郎         0     男性  1929-01-15   90   \n",
            "7511   CS001814000022         鶴田 里穂         1     女性  1929-01-28   90   \n",
            "2378   CS016815000002         山元 美紀         1     女性  1929-02-22   90   \n",
            "4680   CS009815000003         中田 里穂         1     女性  1929-04-08   89   \n",
            "16070  CS005813000015        金谷 恵梨香         1     女性  1929-04-09   89   \n",
            "6305   CS012813000013         宇野 南朋         1     女性  1929-04-09   89   \n",
            "\n",
            "      postal_cd                 address application_store_cd  \\\n",
            "18817  182-0007     東京都調布市菊野台**********               S13003   \n",
            "12328  251-0043   神奈川県藤沢市辻堂元町**********               S14026   \n",
            "15682  204-0004      東京都清瀬市野塩**********               S13018   \n",
            "15302  251-0031  神奈川県藤沢市鵠沼藤が谷**********               S14027   \n",
            "1681   274-0824     千葉県船橋市前原東**********               S12013   \n",
            "7511   144-0045     東京都大田区南六郷**********               S13001   \n",
            "2378   184-0005     東京都小金井市桜町**********               S13016   \n",
            "4680   154-0014     東京都世田谷区新町**********               S13009   \n",
            "16070  165-0032      東京都中野区鷺宮**********               S13005   \n",
            "6305   231-0806  神奈川県横浜市中区本牧町**********               S14012   \n",
            "\n",
            "       application_date     status_cd  \n",
            "18817          20160214  0-00000000-0  \n",
            "12328          20150723  0-00000000-0  \n",
            "15682          20150403  0-00000000-0  \n",
            "15302          20151227  0-00000000-0  \n",
            "1681           20160120  0-00000000-0  \n",
            "7511           20161012  A-20090415-7  \n",
            "2378           20150629  C-20090923-C  \n",
            "4680           20150421  D-20091021-E  \n",
            "16070          20150506  0-00000000-0  \n",
            "6305           20150712  0-00000000-0  \n"
          ]
        }
      ],
      "source": [
        "sorted_data = df_customer.sort_values(by='birth_day')\n",
        "print(sorted_data.head(10))"
      ]
    },
    {
      "cell_type": "markdown",
      "metadata": {
        "id": "_fqwAhC8fp7E"
      },
      "source": [
        "---\n",
        "> P-018: 顧客データ（df_customer）を生年月日（birth_day）で若い順にソートし、先頭から全項目を10件表示せよ。"
      ]
    },
    {
      "cell_type": "code",
      "execution_count": null,
      "metadata": {
        "colab": {
          "base_uri": "https://localhost:8080/"
        },
        "id": "5r_9vTvnfp7H",
        "outputId": "8a37571d-a272-4422-c4eb-c81547fa23a0"
      },
      "outputs": [
        {
          "output_type": "stream",
          "name": "stdout",
          "text": [
            "          customer_id customer_name gender_cd gender   birth_day  age  \\\n",
            "18817  CS003813000014        村山 菜々美         1     女性  1928-11-26   90   \n",
            "12328  CS026813000004         吉村 朝陽         1     女性  1928-12-14   90   \n",
            "15682  CS018811000003         熊沢 美里         1     女性  1929-01-07   90   \n",
            "15302  CS027803000004         内村 拓郎         0     男性  1929-01-12   90   \n",
            "1681   CS013801000003         天野 拓郎         0     男性  1929-01-15   90   \n",
            "7511   CS001814000022         鶴田 里穂         1     女性  1929-01-28   90   \n",
            "2378   CS016815000002         山元 美紀         1     女性  1929-02-22   90   \n",
            "4680   CS009815000003         中田 里穂         1     女性  1929-04-08   89   \n",
            "16070  CS005813000015        金谷 恵梨香         1     女性  1929-04-09   89   \n",
            "6305   CS012813000013         宇野 南朋         1     女性  1929-04-09   89   \n",
            "\n",
            "      postal_cd                 address application_store_cd  \\\n",
            "18817  182-0007     東京都調布市菊野台**********               S13003   \n",
            "12328  251-0043   神奈川県藤沢市辻堂元町**********               S14026   \n",
            "15682  204-0004      東京都清瀬市野塩**********               S13018   \n",
            "15302  251-0031  神奈川県藤沢市鵠沼藤が谷**********               S14027   \n",
            "1681   274-0824     千葉県船橋市前原東**********               S12013   \n",
            "7511   144-0045     東京都大田区南六郷**********               S13001   \n",
            "2378   184-0005     東京都小金井市桜町**********               S13016   \n",
            "4680   154-0014     東京都世田谷区新町**********               S13009   \n",
            "16070  165-0032      東京都中野区鷺宮**********               S13005   \n",
            "6305   231-0806  神奈川県横浜市中区本牧町**********               S14012   \n",
            "\n",
            "       application_date     status_cd  \n",
            "18817          20160214  0-00000000-0  \n",
            "12328          20150723  0-00000000-0  \n",
            "15682          20150403  0-00000000-0  \n",
            "15302          20151227  0-00000000-0  \n",
            "1681           20160120  0-00000000-0  \n",
            "7511           20161012  A-20090415-7  \n",
            "2378           20150629  C-20090923-C  \n",
            "4680           20150421  D-20091021-E  \n",
            "16070          20150506  0-00000000-0  \n",
            "6305           20150712  0-00000000-0  \n"
          ]
        }
      ],
      "source": [
        "sorted_data = df_customer.sort_values(by='birth_day', ascending=True)\n",
        "print(sorted_data.head(10))"
      ]
    },
    {
      "cell_type": "markdown",
      "metadata": {
        "id": "FX-Vr2-rfp7H"
      },
      "source": [
        "---\n",
        "> P-019: レシート明細データ（df_receipt）に対し、1件あたりの売上金額（amount）が高い順にランクを付与し、先頭から10件表示せよ。項目は顧客ID（customer_id）、売上金額（amount）、付与したランクを表示させること。なお、売上金額（amount）が等しい場合は同一順位を付与するものとする。"
      ]
    },
    {
      "cell_type": "code",
      "execution_count": null,
      "metadata": {
        "colab": {
          "base_uri": "https://localhost:8080/"
        },
        "id": "lF04xYeifp7H",
        "outputId": "5b574522-df97-4c03-bf6f-d6d9938511dc"
      },
      "outputs": [
        {
          "output_type": "stream",
          "name": "stdout",
          "text": [
            "          customer_id  amount  rank\n",
            "1202   CS011415000006   10925   1.0\n",
            "62317  ZZ000000000000    6800   2.0\n",
            "54095  CS028605000002    5780   3.0\n",
            "4632   CS015515000034    5480   4.0\n",
            "72747  ZZ000000000000    5480   4.0\n",
            "10320  ZZ000000000000    5480   4.0\n",
            "97294  CS021515000089    5440   7.0\n",
            "28304  ZZ000000000000    5440   7.0\n",
            "92246  CS009415000038    5280   9.0\n",
            "68553  CS040415000200    5280   9.0\n"
          ]
        }
      ],
      "source": [
        "df_receipt['rank'] = df_receipt['amount'].rank(method='min', ascending=False)\n",
        "\n",
        "top_10 = df_receipt[['customer_id', 'amount', 'rank']].sort_values(by='rank').head(10)\n",
        "print(top_10)"
      ]
    },
    {
      "cell_type": "markdown",
      "metadata": {
        "id": "AEQ4TPNrfp7H"
      },
      "source": [
        "---\n",
        "> P-020: レシート明細データ（df_receipt）に対し、1件あたりの売上金額（amount）が高い順にランクを付与し、先頭から10件表示せよ。項目は顧客ID（customer_id）、売上金額（amount）、付与したランクを表示させること。なお、売上金額（amount）が等しい場合でも別順位を付与すること。"
      ]
    },
    {
      "cell_type": "code",
      "execution_count": null,
      "metadata": {
        "colab": {
          "base_uri": "https://localhost:8080/"
        },
        "id": "KLfAvUbJfp7H",
        "outputId": "2f1207e7-b053-4617-da02-1c2f8f53d7f5"
      },
      "outputs": [
        {
          "output_type": "stream",
          "name": "stdout",
          "text": [
            "          customer_id  amount  rank\n",
            "1202   CS011415000006   10925   1.0\n",
            "62317  ZZ000000000000    6800   2.0\n",
            "54095  CS028605000002    5780   3.0\n",
            "4632   CS015515000034    5480   4.0\n",
            "72747  ZZ000000000000    5480   4.0\n",
            "10320  ZZ000000000000    5480   4.0\n",
            "97294  CS021515000089    5440   5.0\n",
            "28304  ZZ000000000000    5440   5.0\n",
            "92246  CS009415000038    5280   6.0\n",
            "68553  CS040415000200    5280   6.0\n"
          ]
        }
      ],
      "source": [
        "df_receipt['rank'] = df_receipt['amount'].rank(method='dense', ascending=False)\n",
        "\n",
        "top_10 = df_receipt[['customer_id', 'amount', 'rank']].sort_values(by='rank').head(10)\n",
        "print(top_10)"
      ]
    },
    {
      "cell_type": "markdown",
      "metadata": {
        "id": "UPfP5PUnfp7H"
      },
      "source": [
        "---\n",
        "> P-021: レシート明細データ（df_receipt）に対し、件数をカウントせよ。"
      ]
    },
    {
      "cell_type": "code",
      "execution_count": null,
      "metadata": {
        "id": "YFubGQ0-fp7H",
        "colab": {
          "base_uri": "https://localhost:8080/"
        },
        "outputId": "906d2001-71e7-40d3-bba4-915e915efe50"
      },
      "outputs": [
        {
          "output_type": "stream",
          "name": "stdout",
          "text": [
            "レシート明細データの件数: 104681\n"
          ]
        }
      ],
      "source": [
        "row_count = len(df_receipt)\n",
        "\n",
        "print(\"レシート明細データの件数:\", row_count)"
      ]
    },
    {
      "cell_type": "markdown",
      "metadata": {
        "id": "V0YGaGQxfp7H"
      },
      "source": [
        "---\n",
        "> P-022: レシート明細データ（df_receipt）の顧客ID（customer_id）に対し、ユニーク件数をカウントせよ。"
      ]
    },
    {
      "cell_type": "code",
      "execution_count": null,
      "metadata": {
        "id": "JojcEZJHfp7I",
        "colab": {
          "base_uri": "https://localhost:8080/"
        },
        "outputId": "99122b75-3684-450f-cc93-23ba4068c3c6"
      },
      "outputs": [
        {
          "output_type": "stream",
          "name": "stdout",
          "text": [
            "ユニークな顧客IDの件数: 8307\n"
          ]
        }
      ],
      "source": [
        "u_count = df_receipt['customer_id'].nunique()\n",
        "\n",
        "print(\"ユニークな顧客IDの件数:\", u_count)"
      ]
    },
    {
      "cell_type": "markdown",
      "metadata": {
        "id": "yhfO9l3afp7I"
      },
      "source": [
        "---\n",
        "> P-023: レシート明細データ（df_receipt）に対し、店舗コード（store_cd）ごとに売上金額（amount）と売上数量（quantity）を合計せよ。"
      ]
    },
    {
      "cell_type": "code",
      "execution_count": null,
      "metadata": {
        "id": "Li4_0Pp7fp7I",
        "colab": {
          "base_uri": "https://localhost:8080/"
        },
        "outputId": "d6e4a47c-78e4-4f16-b9cd-7780412b5044"
      },
      "outputs": [
        {
          "output_type": "stream",
          "name": "stdout",
          "text": [
            "   store_cd  amount  quantity\n",
            "0    S12007  638761      2099\n",
            "1    S12013  787513      2425\n",
            "2    S12014  725167      2358\n",
            "3    S12029  794741      2555\n",
            "4    S12030  684402      2403\n",
            "5    S13001  811936      2347\n",
            "6    S13002  727821      2340\n",
            "7    S13003  764294      2197\n",
            "8    S13004  779373      2390\n",
            "9    S13005  629876      2004\n",
            "10   S13008  809288      2491\n",
            "11   S13009  808870      2486\n",
            "12   S13015  780873      2248\n",
            "13   S13016  793773      2432\n",
            "14   S13017  748221      2376\n",
            "15   S13018  790535      2562\n",
            "16   S13019  827833      2541\n",
            "17   S13020  796383      2383\n",
            "18   S13031  705968      2336\n",
            "19   S13032  790501      2491\n",
            "20   S13035  715869      2219\n",
            "21   S13037  693087      2344\n",
            "22   S13038  708884      2337\n",
            "23   S13039  611888      1981\n",
            "24   S13041  728266      2233\n",
            "25   S13043  587895      1881\n",
            "26   S13044  520764      1729\n",
            "27   S13051  107452       354\n",
            "28   S13052  100314       250\n",
            "29   S14006  712839      2284\n",
            "30   S14010  790361      2290\n",
            "31   S14011  805724      2434\n",
            "32   S14012  720600      2412\n",
            "33   S14021  699511      2231\n",
            "34   S14022  651328      2047\n",
            "35   S14023  727630      2258\n",
            "36   S14024  736323      2417\n",
            "37   S14025  755581      2394\n",
            "38   S14026  824537      2503\n",
            "39   S14027  714550      2303\n",
            "40   S14028  786145      2458\n",
            "41   S14033  725318      2282\n",
            "42   S14034  653681      2024\n",
            "43   S14036  203694       635\n",
            "44   S14040  701858      2233\n",
            "45   S14042  534689      1935\n",
            "46   S14045  458484      1398\n",
            "47   S14046  412646      1354\n",
            "48   S14047  338329      1041\n",
            "49   S14048  234276       769\n",
            "50   S14049  230808       788\n",
            "51   S14050  167090       580\n"
          ]
        }
      ],
      "source": [
        "result = df_receipt.groupby('store_cd').agg({'amount': 'sum', 'quantity': 'sum'}).reset_index()\n",
        "\n",
        "print(result)"
      ]
    },
    {
      "cell_type": "markdown",
      "metadata": {
        "id": "RMMy3MA0fp7I"
      },
      "source": [
        "---\n",
        "> P-024: レシート明細データ（df_receipt）に対し、顧客ID（customer_id）ごとに最も新しい売上年月日（sales_ymd）を求め、10件表示せよ。"
      ]
    },
    {
      "cell_type": "code",
      "execution_count": null,
      "metadata": {
        "id": "E1A0XO7ofp7I",
        "colab": {
          "base_uri": "https://localhost:8080/"
        },
        "outputId": "ccb0e80f-2952-474c-d066-52bfac9c19eb"
      },
      "outputs": [
        {
          "output_type": "stream",
          "name": "stdout",
          "text": [
            "      customer_id  sales_ymd\n",
            "0  CS001113000004   20190308\n",
            "1  CS001114000005   20190731\n",
            "2  CS001115000010   20190405\n",
            "3  CS001205000004   20190625\n",
            "4  CS001205000006   20190224\n",
            "5  CS001211000025   20190322\n",
            "6  CS001212000027   20170127\n",
            "7  CS001212000031   20180906\n",
            "8  CS001212000046   20170811\n",
            "9  CS001212000070   20191018\n"
          ]
        }
      ],
      "source": [
        "l_customer = df_receipt.groupby('customer_id')['sales_ymd'].max().reset_index()\n",
        "\n",
        "print(l_customer.head(10))"
      ]
    },
    {
      "cell_type": "markdown",
      "metadata": {
        "id": "dSNj1o4Wfp7I"
      },
      "source": [
        "---\n",
        "> P-025: レシート明細データ（df_receipt）に対し、顧客ID（customer_id）ごとに最も古い売上年月日（sales_ymd）を求め、10件表示せよ。"
      ]
    },
    {
      "cell_type": "code",
      "execution_count": null,
      "metadata": {
        "id": "Vjuc33mufp7I",
        "colab": {
          "base_uri": "https://localhost:8080/"
        },
        "outputId": "15d27a64-3ac3-4c8a-a10b-04d1730bc910"
      },
      "outputs": [
        {
          "output_type": "stream",
          "name": "stdout",
          "text": [
            "      customer_id  sales_ymd\n",
            "0  CS001113000004   20190308\n",
            "1  CS001114000005   20180503\n",
            "2  CS001115000010   20171228\n",
            "3  CS001205000004   20170914\n",
            "4  CS001205000006   20180207\n",
            "5  CS001211000025   20190322\n",
            "6  CS001212000027   20170127\n",
            "7  CS001212000031   20180906\n",
            "8  CS001212000046   20170811\n",
            "9  CS001212000070   20191018\n"
          ]
        }
      ],
      "source": [
        "o_customer = df_receipt.groupby('customer_id')['sales_ymd'].min().reset_index()\n",
        "\n",
        "print(o_customer.head(10))"
      ]
    },
    {
      "cell_type": "markdown",
      "metadata": {
        "id": "2KjqvCaDfp7I"
      },
      "source": [
        "---\n",
        "> P-026: レシート明細データ（df_receipt）に対し、顧客ID（customer_id）ごとに最も新しい売上年月日（sales_ymd）と古い売上年月日を求め、両者が異なるデータを10件表示せよ。"
      ]
    },
    {
      "cell_type": "code",
      "execution_count": null,
      "metadata": {
        "id": "BaICND3Gfp7I",
        "colab": {
          "base_uri": "https://localhost:8080/"
        },
        "outputId": "6c7ad932-0e4a-4c9f-b688-387d7d954a52"
      },
      "outputs": [
        {
          "output_type": "stream",
          "name": "stdout",
          "text": [
            "       customer_id       min       max\n",
            "1   CS001114000005  20180503  20190731\n",
            "2   CS001115000010  20171228  20190405\n",
            "3   CS001205000004  20170914  20190625\n",
            "4   CS001205000006  20180207  20190224\n",
            "13  CS001214000009  20170306  20190902\n",
            "14  CS001214000017  20180828  20191006\n",
            "16  CS001214000048  20171109  20190929\n",
            "17  CS001214000052  20180208  20190617\n",
            "20  CS001215000005  20170206  20181021\n",
            "21  CS001215000040  20170214  20171022\n"
          ]
        }
      ],
      "source": [
        "s_customer = df_receipt.groupby('customer_id')['sales_ymd'].agg(['min', 'max']).reset_index()\n",
        "\n",
        "dates = s_customer[s_customer['min'] != s_customer['max']]\n",
        "\n",
        "print(dates.head(10))"
      ]
    },
    {
      "cell_type": "markdown",
      "metadata": {
        "id": "-_u_rURyfp7I"
      },
      "source": [
        "---\n",
        "> P-027: レシート明細データ（df_receipt）に対し、店舗コード（store_cd）ごとに売上金額（amount）の平均を計算し、降順でTOP5を表示せよ。"
      ]
    },
    {
      "cell_type": "code",
      "execution_count": null,
      "metadata": {
        "id": "XtkdUkxrfp7I",
        "colab": {
          "base_uri": "https://localhost:8080/"
        },
        "outputId": "ee2db821-3bab-4243-9790-f62f995fa59d"
      },
      "outputs": [
        {
          "output_type": "stream",
          "name": "stdout",
          "text": [
            "   store_cd      amount\n",
            "28   S13052  402.867470\n",
            "12   S13015  351.111960\n",
            "7    S13003  350.915519\n",
            "30   S14010  348.791262\n",
            "5    S13001  348.470386\n"
          ]
        }
      ],
      "source": [
        "a_store = df_receipt.groupby('store_cd')['amount'].mean().reset_index()\n",
        "\n",
        "top5 = a_store.sort_values(by='amount', ascending=False).head(5)\n",
        "\n",
        "print(top5)"
      ]
    },
    {
      "cell_type": "markdown",
      "metadata": {
        "id": "8YmVOz9xfp7J"
      },
      "source": [
        "---\n",
        "> P-028: レシート明細データ（df_receipt）に対し、店舗コード（store_cd）ごとに売上金額（amount）の中央値を計算し、降順でTOP5を表示せよ。"
      ]
    },
    {
      "cell_type": "code",
      "execution_count": null,
      "metadata": {
        "id": "jDcVaQgifp7J",
        "colab": {
          "base_uri": "https://localhost:8080/"
        },
        "outputId": "01a40444-1437-4f4c-a704-c78eaeda60cb"
      },
      "outputs": [
        {
          "output_type": "stream",
          "name": "stdout",
          "text": [
            "   store_cd  amount\n",
            "28   S13052   190.0\n",
            "30   S14010   188.0\n",
            "51   S14050   185.0\n",
            "44   S14040   180.0\n",
            "7    S13003   180.0\n"
          ]
        }
      ],
      "source": [
        "m_store = df_receipt.groupby('store_cd')['amount'].median().reset_index()\n",
        "\n",
        "top5 = m_store.sort_values(by='amount', ascending=False).head(5)\n",
        "\n",
        "print(top5)"
      ]
    },
    {
      "cell_type": "markdown",
      "metadata": {
        "id": "Yg23GvnBfp7J"
      },
      "source": [
        "---\n",
        "> P-029: レシート明細データ（df_receipt）に対し、店舗コード（store_cd）ごとに商品コード（product_cd）の最頻値を求め、10件表示させよ。"
      ]
    },
    {
      "cell_type": "code",
      "execution_count": null,
      "metadata": {
        "id": "L4uxlL3cfp7J",
        "colab": {
          "base_uri": "https://localhost:8080/"
        },
        "outputId": "051c250c-146c-44de-d4d4-9de2f11c7715"
      },
      "outputs": [
        {
          "output_type": "stream",
          "name": "stdout",
          "text": [
            "  store_cd  product_cd\n",
            "0   S12007  P060303001\n",
            "1   S12013  P060303001\n",
            "2   S12014  P060303001\n",
            "3   S12029  P060303001\n",
            "4   S12030  P060303001\n",
            "5   S13001  P060303001\n",
            "6   S13002  P060303001\n",
            "7   S13003  P071401001\n",
            "8   S13004  P060303001\n",
            "9   S13005  P040503001\n"
          ]
        }
      ],
      "source": [
        "m_store = df_receipt.groupby('store_cd')['product_cd'].agg(lambda x: x.mode()[0]).reset_index()\n",
        "\n",
        "print(m_store.head(10))"
      ]
    },
    {
      "cell_type": "markdown",
      "metadata": {
        "id": "nyPzrQ3hfp7J"
      },
      "source": [
        "---\n",
        "> P-030: レシート明細データ（df_receipt）に対し、店舗コード（store_cd）ごとに売上金額（amount）の分散を計算し、降順で5件表示せよ。"
      ]
    },
    {
      "cell_type": "code",
      "execution_count": null,
      "metadata": {
        "id": "d83u-fAnfp7J",
        "colab": {
          "base_uri": "https://localhost:8080/"
        },
        "outputId": "7a368497-c1a5-4fc5-8889-d1069f697b97"
      },
      "outputs": [
        {
          "output_type": "stream",
          "name": "stdout",
          "text": [
            "   store_cd         amount\n",
            "28   S13052  441863.252526\n",
            "31   S14011  306442.242432\n",
            "42   S14034  297068.392740\n",
            "5    S13001  295558.842618\n",
            "12   S13015  295427.197086\n"
          ]
        }
      ],
      "source": [
        "v_store = df_receipt.groupby('store_cd')['amount'].var().reset_index()\n",
        "\n",
        "top5 = v_store.sort_values(by='amount', ascending=False).head(5)\n",
        "\n",
        "print(top5)"
      ]
    },
    {
      "cell_type": "markdown",
      "metadata": {
        "id": "diozilX7fp7J"
      },
      "source": [
        "---\n",
        "> P-031: レシート明細データ（df_receipt）に対し、店舗コード（store_cd）ごとに売上金額（amount）の標準偏差を計算し、降順で5件表示せよ。"
      ]
    },
    {
      "cell_type": "markdown",
      "metadata": {
        "id": "mT74Dk5afp7J"
      },
      "source": [
        "TIPS:\n",
        "\n",
        "PandasとNumpyでddofのデフォルト値が異なることに注意しましょう\n",
        "```\n",
        "Pandas：\n",
        "DataFrame.std(self, axis=None, skipna=None, level=None, ddof=1, numeric_only=None, **kwargs)\n",
        "Numpy:\n",
        "numpy.std(a, axis=None, dtype=None, out=None, ddof=0, keepdims=)\n",
        "```"
      ]
    },
    {
      "cell_type": "code",
      "execution_count": null,
      "metadata": {
        "id": "63ZdxqGGfp7K",
        "colab": {
          "base_uri": "https://localhost:8080/"
        },
        "outputId": "1fccc165-f2a6-496c-ed60-a7a2503c4f72"
      },
      "outputs": [
        {
          "output_type": "stream",
          "name": "stdout",
          "text": [
            "   store_cd      amount\n",
            "28   S13052  664.727954\n",
            "31   S14011  553.572256\n",
            "42   S14034  545.039808\n",
            "5    S13001  543.653237\n",
            "12   S13015  543.532149\n"
          ]
        }
      ],
      "source": [
        "std_store = df_receipt.groupby('store_cd')['amount'].std().reset_index()\n",
        "\n",
        "top5_stores = std_store.sort_values(by='amount', ascending=False).head(5)\n",
        "\n",
        "print(top5_stores)"
      ]
    },
    {
      "cell_type": "markdown",
      "metadata": {
        "id": "3TWxBT8ufp7K"
      },
      "source": [
        "---\n",
        "> P-032: レシート明細データ（df_receipt）の売上金額（amount）について、25％刻みでパーセンタイル値を求めよ。"
      ]
    },
    {
      "cell_type": "code",
      "execution_count": null,
      "metadata": {
        "id": "4XPvJUNkfp7K",
        "colab": {
          "base_uri": "https://localhost:8080/"
        },
        "outputId": "87889274-a64e-4f41-bf2d-c1625ce14174"
      },
      "outputs": [
        {
          "output_type": "stream",
          "name": "stdout",
          "text": [
            "0.25      102.0\n",
            "0.50      170.0\n",
            "0.75      288.0\n",
            "1.00    10925.0\n",
            "Name: amount, dtype: float64\n"
          ]
        }
      ],
      "source": [
        "percentiles = [0.25, 0.50, 0.75, 1.0]\n",
        "amount_percentiles = df_receipt['amount'].quantile(percentiles)\n",
        "\n",
        "print(amount_percentiles)"
      ]
    },
    {
      "cell_type": "markdown",
      "metadata": {
        "id": "W9pFz6g2fp7K"
      },
      "source": [
        "---\n",
        "> P-033: レシート明細データ（df_receipt）に対し、店舗コード（store_cd）ごとに売上金額（amount）の平均を計算し、330以上のものを抽出せよ。"
      ]
    },
    {
      "cell_type": "code",
      "execution_count": null,
      "metadata": {
        "id": "JvsrmQTYfp7K",
        "colab": {
          "base_uri": "https://localhost:8080/"
        },
        "outputId": "9e0b5278-9cba-4f90-c0ae-e0e827dc5798"
      },
      "outputs": [
        {
          "output_type": "stream",
          "name": "stdout",
          "text": [
            "store_cd\n",
            "S12013    330.194130\n",
            "S13001    348.470386\n",
            "S13003    350.915519\n",
            "S13004    330.943949\n",
            "S13015    351.111960\n",
            "S13019    330.208616\n",
            "S13020    337.879932\n",
            "S13052    402.867470\n",
            "S14010    348.791262\n",
            "S14011    335.718333\n",
            "S14026    332.340588\n",
            "S14045    330.082073\n",
            "S14047    330.077073\n",
            "Name: amount, dtype: float64\n"
          ]
        }
      ],
      "source": [
        "average_store = df_receipt.groupby('store_cd')['amount'].mean()\n",
        "\n",
        "high_average_amount = average_store[average_store >= 330]\n",
        "\n",
        "print(high_average_amount)"
      ]
    },
    {
      "cell_type": "markdown",
      "metadata": {
        "id": "u_zsFmsPfp7K"
      },
      "source": [
        "---\n",
        "> P-034: レシート明細データ（df_receipt）に対し、顧客ID（customer_id）ごとに売上金額（amount）を合計して全顧客の平均を求めよ。ただし、顧客IDが\"Z\"から始まるものは非会員を表すため、除外して計算すること。"
      ]
    },
    {
      "cell_type": "code",
      "execution_count": null,
      "metadata": {
        "id": "EFhiGUL-fp7K",
        "colab": {
          "base_uri": "https://localhost:8080/"
        },
        "outputId": "525bbf0e-db4a-47ec-e09e-300732b6e3ab"
      },
      "outputs": [
        {
          "output_type": "stream",
          "name": "stdout",
          "text": [
            "全顧客の平均売上金額: 2547.742234529256\n"
          ]
        }
      ],
      "source": [
        "valid_customers_df = df_receipt[~df_receipt['customer_id'].str.startswith('Z')]\n",
        "\n",
        "total_amount_per_customer = valid_customers_df.groupby('customer_id')['amount'].sum()\n",
        "\n",
        "average_customer = total_amount_per_customer.mean()\n",
        "\n",
        "print(\"全顧客の平均売上金額:\", average_customer)"
      ]
    },
    {
      "cell_type": "markdown",
      "metadata": {
        "id": "-3KtItZyfp7K"
      },
      "source": [
        "---\n",
        "> P-035: レシート明細データ（df_receipt）に対し、顧客ID（customer_id）ごとに売上金額（amount）を合計して全顧客の平均を求め、平均以上に買い物をしている顧客を抽出し、10件表示せよ。ただし、顧客IDが\"Z\"から始まるものは非会員を表すため、除外して計算すること。"
      ]
    },
    {
      "cell_type": "code",
      "execution_count": null,
      "metadata": {
        "id": "bBasDftDfp7K",
        "colab": {
          "base_uri": "https://localhost:8080/"
        },
        "outputId": "0dce0ca0-27aa-4caf-f700-7c2535100598"
      },
      "outputs": [
        {
          "output_type": "stream",
          "name": "stdout",
          "text": [
            "customer_id\n",
            "CS001115000010    3044\n",
            "CS001205000006    3337\n",
            "CS001214000009    4685\n",
            "CS001214000017    4132\n",
            "CS001214000052    5639\n",
            "CS001215000040    3496\n",
            "CS001304000006    3726\n",
            "CS001305000005    3485\n",
            "CS001305000011    4370\n",
            "CS001315000180    3300\n",
            "Name: amount, dtype: int64\n"
          ]
        }
      ],
      "source": [
        "valid_customers_df = df_receipt[~df_receipt['customer_id'].str.startswith('Z')]\n",
        "\n",
        "total_amount_per_customer = valid_customers_df.groupby('customer_id')['amount'].sum()\n",
        "\n",
        "average_amount_per_customer = total_amount_per_customer.mean()\n",
        "\n",
        "above_average_customers = total_amount_per_customer[total_amount_per_customer >= average_amount_per_customer]\n",
        "\n",
        "print(above_average_customers.head(10))"
      ]
    },
    {
      "cell_type": "markdown",
      "metadata": {
        "id": "YzBCVq6Afp7K"
      },
      "source": [
        "---\n",
        "> P-036: レシート明細データ（df_receipt）と店舗データ（df_store）を内部結合し、レシート明細データの全項目と店舗データの店舗名（store_name）を10件表示せよ。"
      ]
    },
    {
      "cell_type": "code",
      "execution_count": null,
      "metadata": {
        "id": "9VxSHwfefp7L",
        "colab": {
          "base_uri": "https://localhost:8080/"
        },
        "outputId": "ffe4b78c-3f37-429f-c9a7-16a90f05faee"
      },
      "outputs": [
        {
          "output_type": "stream",
          "name": "stdout",
          "text": [
            "   sales_ymd  sales_epoch store_cd  receipt_no  receipt_sub_no  \\\n",
            "0   20181103   1541203200   S14006         112               1   \n",
            "1   20181116   1542326400   S14006         112               2   \n",
            "2   20170118   1484697600   S14006        1162               1   \n",
            "3   20190524   1558656000   S14006        1192               1   \n",
            "4   20190419   1555632000   S14006         112               2   \n",
            "5   20181119   1542585600   S14006        1152               2   \n",
            "6   20171211   1512950400   S14006        1132               2   \n",
            "7   20191021   1571616000   S14006        1112               2   \n",
            "8   20170710   1499644800   S14006        1132               2   \n",
            "9   20190805   1564963200   S14006         112               1   \n",
            "\n",
            "      customer_id  product_cd  quantity  amount store_name  \n",
            "0  CS006214000001  P070305012         1     158       葛が谷店  \n",
            "1  ZZ000000000000  P080401001         1      48       葛が谷店  \n",
            "2  CS006815000006  P050406035         1     220       葛が谷店  \n",
            "3  CS006514000034  P060104003         1      80       葛が谷店  \n",
            "4  ZZ000000000000  P060501002         1     148       葛が谷店  \n",
            "5  ZZ000000000000  P050701001         1      88       葛が谷店  \n",
            "6  CS006515000175  P090903001         1      80       葛が谷店  \n",
            "7  CS006415000221  P040602001         1     405       葛が谷店  \n",
            "8  CS006411000036  P090301051         1     330       葛が谷店  \n",
            "9  CS006211000012  P050104001         1     115       葛が谷店  \n"
          ]
        }
      ],
      "source": [
        "merged_data = pd.merge(df_receipt, df_store[['store_cd', 'store_name']], on='store_cd', how='inner')\n",
        "\n",
        "print(merged_data.head(10))"
      ]
    },
    {
      "cell_type": "markdown",
      "metadata": {
        "id": "k730DtjNfp7L"
      },
      "source": [
        "---\n",
        "> P-037: 商品データ（df_product）とカテゴリデータ（df_category）を内部結合し、商品データの全項目とカテゴリデータのカテゴリ小区分名（category_small_name）を10件表示せよ。"
      ]
    },
    {
      "cell_type": "code",
      "execution_count": null,
      "metadata": {
        "id": "oSM17Soffp7L",
        "colab": {
          "base_uri": "https://localhost:8080/"
        },
        "outputId": "5f08ead6-6890-49ba-9390-ca0090dd8df3"
      },
      "outputs": [
        {
          "output_type": "stream",
          "name": "stdout",
          "text": [
            "   product_cd category_major_cd category_medium_cd category_small_cd  \\\n",
            "0  P040101001                04               0401            040101   \n",
            "1  P040101002                04               0401            040101   \n",
            "2  P040101003                04               0401            040101   \n",
            "3  P040101004                04               0401            040101   \n",
            "4  P040101005                04               0401            040101   \n",
            "5  P040101006                04               0401            040101   \n",
            "6  P040101007                04               0401            040101   \n",
            "7  P040101008                04               0401            040101   \n",
            "8  P040101009                04               0401            040101   \n",
            "9  P040101010                04               0401            040101   \n",
            "\n",
            "   unit_price  unit_cost category_small_name  \n",
            "0       198.0      149.0                 弁当類  \n",
            "1       218.0      164.0                 弁当類  \n",
            "2       230.0      173.0                 弁当類  \n",
            "3       248.0      186.0                 弁当類  \n",
            "4       268.0      201.0                 弁当類  \n",
            "5       298.0      224.0                 弁当類  \n",
            "6       338.0      254.0                 弁当類  \n",
            "7       420.0      315.0                 弁当類  \n",
            "8       498.0      374.0                 弁当類  \n",
            "9       580.0      435.0                 弁当類  \n"
          ]
        }
      ],
      "source": [
        "merged_data = pd.merge(df_product, df_category[['category_small_cd', 'category_small_name']], on='category_small_cd', how='inner')\n",
        "\n",
        "print(merged_data.head(10))"
      ]
    },
    {
      "cell_type": "markdown",
      "metadata": {
        "id": "BpaHZwfRfp7L"
      },
      "source": [
        "---\n",
        "> P-038: 顧客データ（df_customer）とレシート明細データ（df_receipt）から、顧客ごとの売上金額合計を求め、10件表示せよ。ただし、売上実績がない顧客については売上金額を0として表示させること。また、顧客は性別コード（gender_cd）が女性（1）であるものを対象とし、非会員（顧客IDが\"Z\"から始まるもの）は除外すること。"
      ]
    },
    {
      "cell_type": "code",
      "execution_count": null,
      "metadata": {
        "id": "kd3Rmyn1fp7L",
        "colab": {
          "base_uri": "https://localhost:8080/"
        },
        "outputId": "7916bc7c-570c-46ee-ca06-9ce60afe10cb"
      },
      "outputs": [
        {
          "output_type": "stream",
          "name": "stdout",
          "text": [
            "      customer_id customer_name gender_cd gender   birth_day  age postal_cd  \\\n",
            "0  CS021313000114        大野 あや子         1     女性  1981-04-29   37  259-1113   \n",
            "1  CS031415000172       宇多田 貴美子         1     女性  1976-10-04   42  151-0053   \n",
            "2  CS028811000001        堀井 かおり         1     女性  1933-03-27   86  245-0016   \n",
            "3  CS001215000145         田崎 美紀         1     女性  1995-03-29   24  144-0055   \n",
            "4  CS015414000103         奥野 陽子         1     女性  1977-08-09   41  136-0073   \n",
            "5  CS033513000180          安斎 遥         1     女性  1962-07-11   56  241-0823   \n",
            "6  CS035614000014        板倉 菜々美         1     女性  1954-07-16   64  154-0015   \n",
            "7  CS011215000048         芦田 沙耶         1     女性  1992-02-01   27  223-0062   \n",
            "8  CS009413000079         市川 コウ         1     女性  1975-12-28   43  158-0093   \n",
            "9  CS040412000191         川井 郁恵         1     女性  1977-01-05   42  226-0021   \n",
            "\n",
            "                    address application_store_cd  application_date  \\\n",
            "0      神奈川県伊勢原市粟窪**********               S14021          20150905   \n",
            "1       東京都渋谷区代々木**********               S13031          20150529   \n",
            "2    神奈川県横浜市泉区和泉町**********               S14028          20160115   \n",
            "3       東京都大田区仲六郷**********               S13001          20170605   \n",
            "4        東京都江東区北砂**********               S13015          20150722   \n",
            "5    神奈川県横浜市旭区善部町**********               S14033          20150728   \n",
            "6      東京都世田谷区桜新町**********               S13035          20150804   \n",
            "7  神奈川県横浜市港北区日吉本町**********               S14011          20150228   \n",
            "8      東京都世田谷区上野毛**********               S13009          20151209   \n",
            "9   神奈川県横浜市緑区北八朔町**********               S14040          20151101   \n",
            "\n",
            "      status_cd  amount  \n",
            "0  0-00000000-0     0.0  \n",
            "1  D-20100325-C  5088.0  \n",
            "2  0-00000000-0     0.0  \n",
            "3  6-20090929-2   875.0  \n",
            "4  B-20100609-B  3122.0  \n",
            "5  6-20080506-5   868.0  \n",
            "6  0-00000000-0     0.0  \n",
            "7  C-20100421-9  3444.0  \n",
            "8  0-00000000-0     0.0  \n",
            "9  1-20091025-4   210.0  \n"
          ]
        }
      ],
      "source": [
        "filtered_customers = df_customer[(df_customer['gender_cd'] == '1') & (~df_customer['customer_id'].str.startswith('Z'))]\n",
        "\n",
        "customer_sales = df_receipt.groupby('customer_id')['amount'].sum().reset_index()\n",
        "\n",
        "merged_data = pd.merge(filtered_customers, customer_sales, on='customer_id', how='left').fillna(0)\n",
        "\n",
        "print(merged_data.head(10))"
      ]
    },
    {
      "cell_type": "markdown",
      "metadata": {
        "id": "ajbzNcJ0fp7L"
      },
      "source": [
        "---\n",
        "> P-039: レシート明細データ（df_receipt）から、売上日数の多い顧客の上位20件を抽出したデータと、売上金額合計の多い顧客の上位20件を抽出したデータをそれぞれ作成し、さらにその2つを完全外部結合せよ。ただし、非会員（顧客IDが\"Z\"から始まるもの）は除外すること。"
      ]
    },
    {
      "cell_type": "code",
      "execution_count": null,
      "metadata": {
        "id": "6fXnsNJSfp7L",
        "colab": {
          "base_uri": "https://localhost:8080/"
        },
        "outputId": "9dae38e6-ea34-4723-c025-7547af297a8f"
      },
      "outputs": [
        {
          "output_type": "stream",
          "name": "stdout",
          "text": [
            "       customer_id  sales_ymd   amount\n",
            "0   CS040214000008       23.0      NaN\n",
            "1   CS010214000010       22.0  18585.0\n",
            "2   CS015415000185       22.0  20153.0\n",
            "3   CS010214000002       21.0      NaN\n",
            "4   CS028415000007       21.0  19127.0\n",
            "5   CS016415000141       20.0  18372.0\n",
            "6   CS017415000097       20.0  23086.0\n",
            "7   CS014214000023       19.0      NaN\n",
            "8   CS021514000045       19.0      NaN\n",
            "9   CS021515000172       19.0      NaN\n",
            "10  CS022515000226       19.0      NaN\n",
            "11  CS031414000051       19.0  19202.0\n",
            "12  CS039414000052       19.0      NaN\n",
            "13  CS007515000107       18.0      NaN\n",
            "14  CS014415000077       18.0      NaN\n",
            "15  CS021515000056       18.0      NaN\n",
            "16  CS021515000211       18.0      NaN\n",
            "17  CS022515000028       18.0      NaN\n",
            "18  CS030214000008       18.0      NaN\n",
            "19  CS031414000073       18.0      NaN\n",
            "20  CS001605000009        NaN  18925.0\n",
            "21  CS006515000023        NaN  18372.0\n",
            "22  CS011414000106        NaN  18338.0\n",
            "23  CS038415000104        NaN  17847.0\n",
            "24  CS035414000024        NaN  17615.0\n",
            "25  CS021515000089        NaN  17580.0\n",
            "26  CS032414000072        NaN  16563.0\n",
            "27  CS016415000101        NaN  16348.0\n",
            "28  CS011415000006        NaN  16094.0\n",
            "29  CS034415000047        NaN  16083.0\n",
            "30  CS007514000094        NaN  15735.0\n",
            "31  CS009414000059        NaN  15492.0\n",
            "32  CS030415000034        NaN  15468.0\n",
            "33  CS015515000034        NaN  15300.0\n"
          ]
        }
      ],
      "source": [
        "sales_by_date = df_receipt[~df_receipt['customer_id'].str.startswith('Z')].groupby('customer_id')['sales_ymd'].nunique().reset_index()\n",
        "top20_sales_by_date = sales_by_date.nlargest(20, 'sales_ymd')\n",
        "\n",
        "sales_by_amount = df_receipt[~df_receipt['customer_id'].str.startswith('Z')].groupby('customer_id')['amount'].sum().reset_index()\n",
        "top20_sales_by_amount = sales_by_amount.nlargest(20, 'amount')\n",
        "\n",
        "merged_data = pd.merge(top20_sales_by_date, top20_sales_by_amount, on='customer_id', how='outer')\n",
        "\n",
        "print(merged_data)"
      ]
    },
    {
      "cell_type": "markdown",
      "metadata": {
        "id": "hU26TWM0fp7L"
      },
      "source": [
        "---\n",
        "> P-040: 全ての店舗と全ての商品を組み合わせたデータを作成したい。店舗データ（df_store）と商品データ（df_product）を直積し、件数を計算せよ。"
      ]
    },
    {
      "cell_type": "code",
      "execution_count": null,
      "metadata": {
        "id": "r6BBV5PDfp7L",
        "colab": {
          "base_uri": "https://localhost:8080/"
        },
        "outputId": "11f991b9-90a7-47d4-e9c3-704f5fb7d999"
      },
      "outputs": [
        {
          "output_type": "stream",
          "name": "stdout",
          "text": [
            "店舗データと商品データの直積の件数: 531590\n"
          ]
        }
      ],
      "source": [
        "num_rows_store = len(df_store)\n",
        "num_rows_product = len(df_product)\n",
        "\n",
        "total_combinations = num_rows_store * num_rows_product\n",
        "\n",
        "print(\"店舗データと商品データの直積の件数:\", total_combinations)"
      ]
    },
    {
      "cell_type": "markdown",
      "metadata": {
        "id": "emkS5RXVfp7L"
      },
      "source": [
        "---\n",
        "> P-041: レシート明細データ（df_receipt）の売上金額（amount）を日付（sales_ymd）ごとに集計し、前回売上があった日からの売上金額増減を計算せよ。そして結果を10件表示せよ。"
      ]
    },
    {
      "cell_type": "code",
      "execution_count": null,
      "metadata": {
        "id": "WJd1qHRTfp7M",
        "colab": {
          "base_uri": "https://localhost:8080/"
        },
        "outputId": "bc833e2a-4596-4a2f-d7b0-c93c5054baf7"
      },
      "outputs": [
        {
          "output_type": "stream",
          "name": "stdout",
          "text": [
            "   sales_ymd  amount  amount_diff\n",
            "0   20170101   33723          NaN\n",
            "1   20170102   24165      -9558.0\n",
            "2   20170103   27503       3338.0\n",
            "3   20170104   36165       8662.0\n",
            "4   20170105   37830       1665.0\n",
            "5   20170106   32387      -5443.0\n",
            "6   20170107   23415      -8972.0\n",
            "7   20170108   24737       1322.0\n",
            "8   20170109   26718       1981.0\n",
            "9   20170110   20143      -6575.0\n"
          ]
        }
      ],
      "source": [
        "df_daily_sales = df_receipt.groupby('sales_ymd')['amount'].sum().reset_index()\n",
        "\n",
        "df_daily_sales['amount_diff'] = df_daily_sales['amount'].diff()\n",
        "\n",
        "print(df_daily_sales.head(10))"
      ]
    },
    {
      "cell_type": "markdown",
      "metadata": {
        "id": "_tBYoIRgfp7M"
      },
      "source": [
        "---\n",
        "> P-042: レシート明細データ（df_receipt）の売上金額（amount）を日付（sales_ymd）ごとに集計し、各日付のデータに対し、前回、前々回、3回前に売上があった日のデータを結合せよ。そして結果を10件表示せよ。"
      ]
    },
    {
      "cell_type": "code",
      "execution_count": null,
      "metadata": {
        "id": "9TS0pJEtfp7M",
        "colab": {
          "base_uri": "https://localhost:8080/"
        },
        "outputId": "a0bb6546-fffd-4d3a-8c37-859a7a4f5bec"
      },
      "outputs": [
        {
          "output_type": "stream",
          "name": "stdout",
          "text": [
            "   sales_ymd  amount  amount_diff  amount_lag1  amount_lag2  amount_lag3\n",
            "0 2017-01-01   33723          NaN          NaN          NaN          NaN\n",
            "1 2017-01-02   24165      -9558.0      33723.0          NaN          NaN\n",
            "2 2017-01-03   27503       3338.0      24165.0      33723.0          NaN\n",
            "3 2017-01-04   36165       8662.0      27503.0      24165.0      33723.0\n",
            "4 2017-01-05   37830       1665.0      36165.0      27503.0      24165.0\n",
            "5 2017-01-06   32387      -5443.0      37830.0      36165.0      27503.0\n",
            "6 2017-01-07   23415      -8972.0      32387.0      37830.0      36165.0\n",
            "7 2017-01-08   24737       1322.0      23415.0      32387.0      37830.0\n",
            "8 2017-01-09   26718       1981.0      24737.0      23415.0      32387.0\n",
            "9 2017-01-10   20143      -6575.0      26718.0      24737.0      23415.0\n"
          ]
        }
      ],
      "source": [
        "df_daily_sales['sales_ymd'] = pd.to_datetime(df_daily_sales['sales_ymd'], format='%Y%m%d')\n",
        "\n",
        "df_daily_sales['amount_lag1'] = df_daily_sales['amount'].shift(1)\n",
        "df_daily_sales['amount_lag2'] = df_daily_sales['amount'].shift(2)\n",
        "df_daily_sales['amount_lag3'] = df_daily_sales['amount'].shift(3)\n",
        "\n",
        "print(df_daily_sales.head(10))"
      ]
    },
    {
      "cell_type": "markdown",
      "metadata": {
        "id": "UXE4YJedfp7M"
      },
      "source": [
        "---\n",
        "> P-043： レシート明細データ（df_receipt）と顧客データ（df_customer）を結合し、性別コード（gender_cd）と年代（ageから計算）ごとに売上金額（amount）を合計した売上サマリデータを作成せよ。性別コードは0が男性、1が女性、9が不明を表すものとする。\n",
        ">\n",
        "> ただし、項目構成は年代、女性の売上金額、男性の売上金額、性別不明の売上金額の4項目とすること（縦に年代、横に性別のクロス集計）。また、年代は10歳ごとの階級とすること。"
      ]
    },
    {
      "cell_type": "code",
      "execution_count": null,
      "metadata": {
        "id": "PuVXC80Bfp7M",
        "colab": {
          "base_uri": "https://localhost:8080/"
        },
        "outputId": "587a12c0-9836-470b-bc7d-ae78d873a692"
      },
      "outputs": [
        {
          "output_type": "stream",
          "name": "stdout",
          "text": [
            "   age_group  male_sales  female_sales  unknown_sales\n",
            "0         10        1591        149836           4317\n",
            "1         20       72940       1363724          44328\n",
            "2         30      177322        693047          50441\n",
            "3         40       19355       9320791         483512\n",
            "4         50       54320       6685192         342923\n",
            "5         60      272469        987741          71418\n",
            "6         70       13435         29764           2427\n",
            "7         80       46360        262923           5111\n",
            "8         90           0          6260              0\n"
          ]
        }
      ],
      "source": [
        "df_merged = pd.merge(df_receipt, df_customer, on='customer_id')\n",
        "\n",
        "df_merged['age_group'] = (df_merged['age'] // 10) * 10\n",
        "\n",
        "summary = df_merged.pivot_table(\n",
        "    values='amount',\n",
        "    index='age_group',\n",
        "    columns='gender_cd',\n",
        "    aggfunc='sum',\n",
        "    fill_value=0\n",
        ").reset_index()\n",
        "\n",
        "summary.columns = ['age_group', 'male_sales', 'female_sales', 'unknown_sales']\n",
        "\n",
        "print(summary)"
      ]
    },
    {
      "cell_type": "markdown",
      "metadata": {
        "id": "1pE7EXFHfp7M"
      },
      "source": [
        "---\n",
        "> P-044： 043で作成した売上サマリデータ（df_sales_summary）は性別の売上を横持ちさせたものであった。このデータから性別を縦持ちさせ、年代、性別コード、売上金額の3項目に変換せよ。ただし、性別コードは男性を\"00\"、女性を\"01\"、不明を\"99\"とする。"
      ]
    },
    {
      "cell_type": "code",
      "execution_count": null,
      "metadata": {
        "id": "ibex1J3bfp7M",
        "colab": {
          "base_uri": "https://localhost:8080/"
        },
        "outputId": "76ebbb3b-ab1e-4325-f83f-7afd8b270b92"
      },
      "outputs": [
        {
          "output_type": "stream",
          "name": "stdout",
          "text": [
            "    age_group   amount gender_cd\n",
            "0          10     1591        00\n",
            "1          20    72940        00\n",
            "2          30   177322        00\n",
            "3          40    19355        00\n",
            "4          50    54320        00\n",
            "5          60   272469        00\n",
            "6          70    13435        00\n",
            "7          80    46360        00\n",
            "8          90        0        00\n",
            "9          10   149836        01\n",
            "10         20  1363724        01\n",
            "11         30   693047        01\n",
            "12         40  9320791        01\n",
            "13         50  6685192        01\n",
            "14         60   987741        01\n",
            "15         70    29764        01\n",
            "16         80   262923        01\n",
            "17         90     6260        01\n",
            "18         10     4317        99\n",
            "19         20    44328        99\n",
            "20         30    50441        99\n",
            "21         40   483512        99\n",
            "22         50   342923        99\n",
            "23         60    71418        99\n",
            "24         70     2427        99\n",
            "25         80     5111        99\n",
            "26         90        0        99\n"
          ]
        }
      ],
      "source": [
        "df_sales_summary = summary\n",
        "\n",
        "df_male = df_sales_summary[['age_group', 'male_sales']].copy()\n",
        "df_female = df_sales_summary[['age_group', 'female_sales']].copy()\n",
        "df_unknown = df_sales_summary[['age_group', 'unknown_sales']].copy()\n",
        "\n",
        "df_male['gender_cd'] = '00'\n",
        "df_female['gender_cd'] = '01'\n",
        "df_unknown['gender_cd'] = '99'\n",
        "\n",
        "df_sales_long = pd.concat([df_male.rename(columns={'male_sales': 'amount'}),\n",
        "                           df_female.rename(columns={'female_sales': 'amount'}),\n",
        "                           df_unknown.rename(columns={'unknown_sales': 'amount'})],\n",
        "                          ignore_index=True)\n",
        "\n",
        "print(df_sales_long)"
      ]
    },
    {
      "cell_type": "markdown",
      "metadata": {
        "id": "oZNEJK82fp7M"
      },
      "source": [
        "---\n",
        "> P-045: 顧客データ（df_customer）の生年月日（birth_day）は日付型でデータを保有している。これをYYYYMMDD形式の文字列に変換し、顧客ID（customer_id）とともに10件表示せよ。"
      ]
    },
    {
      "cell_type": "code",
      "execution_count": null,
      "metadata": {
        "id": "tH_22qZXfp7M"
      },
      "outputs": [],
      "source": []
    },
    {
      "cell_type": "markdown",
      "metadata": {
        "id": "0TljZgT5fp7M"
      },
      "source": [
        "---\n",
        "> P-046: 顧客データ（df_customer）の申し込み日（application_date）はYYYYMMDD形式の文字列型でデータを保有している。これを日付型に変換し、顧客ID（customer_id）とともに10件表示せよ。"
      ]
    },
    {
      "cell_type": "code",
      "execution_count": null,
      "metadata": {
        "id": "TYSp5r3wfp7M"
      },
      "outputs": [],
      "source": []
    },
    {
      "cell_type": "markdown",
      "metadata": {
        "id": "TilwohWqfp7M"
      },
      "source": [
        "---\n",
        "> P-047: レシート明細データ（df_receipt）の売上日（sales_ymd）はYYYYMMDD形式の数値型でデータを保有している。これを日付型に変換し、レシート番号（receipt_no）、レシートサブ番号（receipt_sub_no）とともに10件表示せよ。"
      ]
    },
    {
      "cell_type": "code",
      "execution_count": null,
      "metadata": {
        "id": "9RfVHDpUfp7M",
        "colab": {
          "base_uri": "https://localhost:8080/"
        },
        "outputId": "d9b8fd6d-c40e-42ee-f85f-a02672b8ca29"
      },
      "outputs": [
        {
          "output_type": "stream",
          "name": "stdout",
          "text": [
            "   sales_ymd  receipt_no  receipt_sub_no\n",
            "0 2018-11-03         112               1\n",
            "1 2018-11-18        1132               2\n",
            "2 2017-07-12        1102               1\n",
            "3 2019-02-05        1132               1\n",
            "4 2018-08-21        1102               2\n",
            "5 2019-06-05        1112               1\n",
            "6 2018-12-05        1102               2\n",
            "7 2019-09-22        1102               1\n",
            "8 2017-05-04        1112               2\n",
            "9 2019-10-10        1102               1\n"
          ]
        }
      ],
      "source": [
        "df_receipt['sales_ymd'] = pd.to_datetime(df_receipt['sales_ymd'], format='%Y%m%d')\n",
        "\n",
        "print(df_receipt[['sales_ymd', 'receipt_no', 'receipt_sub_no']].head(10))"
      ]
    },
    {
      "cell_type": "markdown",
      "metadata": {
        "id": "aV-4V1jUfp7M"
      },
      "source": [
        "---\n",
        "> P-048: レシート明細データ（df_receipt）の売上エポック秒（sales_epoch）は数値型のUNIX秒でデータを保有している。これを日付型に変換し、レシート番号(receipt_no)、レシートサブ番号（receipt_sub_no）とともに10件表示せよ。"
      ]
    },
    {
      "cell_type": "code",
      "execution_count": null,
      "metadata": {
        "id": "ztceaBBlfp7M",
        "colab": {
          "base_uri": "https://localhost:8080/"
        },
        "outputId": "0b692a28-9905-4856-e7c9-302937bb20e2"
      },
      "outputs": [
        {
          "output_type": "stream",
          "name": "stdout",
          "text": [
            "   receipt_no  receipt_sub_no sales_datetime\n",
            "0         112               1     2018-11-03\n",
            "1        1132               2     2018-11-18\n",
            "2        1102               1     2017-07-12\n",
            "3        1132               1     2019-02-05\n",
            "4        1102               2     2018-08-21\n",
            "5        1112               1     2019-06-05\n",
            "6        1102               2     2018-12-05\n",
            "7        1102               1     2019-09-22\n",
            "8        1112               2     2017-05-04\n",
            "9        1102               1     2019-10-10\n"
          ]
        }
      ],
      "source": [
        "def unix_seconds_to_datetime(seconds):\n",
        "    return pd.to_datetime(seconds, unit='s')\n",
        "\n",
        "df_receipt['sales_datetime'] = df_receipt['sales_epoch'].apply(unix_seconds_to_datetime)\n",
        "\n",
        "print(df_receipt[['receipt_no', 'receipt_sub_no', 'sales_datetime']].head(10))"
      ]
    },
    {
      "cell_type": "markdown",
      "metadata": {
        "id": "ZmBEZ-onfp7N"
      },
      "source": [
        "---\n",
        "> P-049: レシート明細データ（df_receipt）の売上エポック秒（sales_epoch）を日付型に変換し、「年」だけ取り出してレシート番号(receipt_no)、レシートサブ番号（receipt_sub_no）とともに10件表示せよ。"
      ]
    },
    {
      "cell_type": "code",
      "execution_count": null,
      "metadata": {
        "id": "HlB8BZ0Kfp7N",
        "colab": {
          "base_uri": "https://localhost:8080/"
        },
        "outputId": "34ef7ac0-ac69-403d-8f43-812fd67916af"
      },
      "outputs": [
        {
          "output_type": "stream",
          "name": "stdout",
          "text": [
            "   receipt_no  receipt_sub_no  sales_year\n",
            "0         112               1        2018\n",
            "1        1132               2        2018\n",
            "2        1102               1        2017\n",
            "3        1132               1        2019\n",
            "4        1102               2        2018\n",
            "5        1112               1        2019\n",
            "6        1102               2        2018\n",
            "7        1102               1        2019\n",
            "8        1112               2        2017\n",
            "9        1102               1        2019\n"
          ]
        }
      ],
      "source": [
        "def extract_year_from_unix_seconds(seconds):\n",
        "    return pd.to_datetime(seconds, unit='s').year\n",
        "\n",
        "df_receipt['sales_year'] = df_receipt['sales_epoch'].apply(extract_year_from_unix_seconds)\n",
        "\n",
        "print(df_receipt[['receipt_no', 'receipt_sub_no', 'sales_year']].head(10))"
      ]
    },
    {
      "cell_type": "markdown",
      "metadata": {
        "id": "c9-i518Mfp7N"
      },
      "source": [
        "---\n",
        "> P-050: レシート明細データ（df_receipt）の売上エポック秒（sales_epoch）を日付型に変換し、「月」だけ取り出してレシート番号(receipt_no)、レシートサブ番号（receipt_sub_no）とともに10件表示せよ。なお、「月」は0埋め2桁で取り出すこと。"
      ]
    },
    {
      "cell_type": "code",
      "execution_count": null,
      "metadata": {
        "id": "Fe4crbKjfp7N",
        "colab": {
          "base_uri": "https://localhost:8080/"
        },
        "outputId": "f3909611-612a-49e7-8c2b-cc6aaac63a94"
      },
      "outputs": [
        {
          "output_type": "stream",
          "name": "stdout",
          "text": [
            "   receipt_no  receipt_sub_no sales_month\n",
            "0         112               1          11\n",
            "1        1132               2          11\n",
            "2        1102               1          07\n",
            "3        1132               1          02\n",
            "4        1102               2          08\n",
            "5        1112               1          06\n",
            "6        1102               2          12\n",
            "7        1102               1          09\n",
            "8        1112               2          05\n",
            "9        1102               1          10\n"
          ]
        }
      ],
      "source": [
        "def extract_month_from_unix_seconds(seconds):\n",
        "    return pd.to_datetime(seconds, unit='s').strftime('%m')\n",
        "\n",
        "df_receipt['sales_month'] = df_receipt['sales_epoch'].apply(extract_month_from_unix_seconds)\n",
        "\n",
        "print(df_receipt[['receipt_no', 'receipt_sub_no', 'sales_month']].head(10))"
      ]
    },
    {
      "cell_type": "markdown",
      "metadata": {
        "id": "HciTnQ9Wfp7N"
      },
      "source": [
        "---\n",
        "> P-051: レシート明細データ（df_receipt）の売上エポック秒を日付型に変換し、「日」だけ取り出してレシート番号(receipt_no)、レシートサブ番号（receipt_sub_no）とともに10件表示せよ。なお、「日」は0埋め2桁で取り出すこと。"
      ]
    },
    {
      "cell_type": "code",
      "execution_count": null,
      "metadata": {
        "id": "POuLFzAbfp7N",
        "colab": {
          "base_uri": "https://localhost:8080/"
        },
        "outputId": "176e9abd-eb82-4003-fe1d-11ce0ee4fcb0"
      },
      "outputs": [
        {
          "output_type": "stream",
          "name": "stdout",
          "text": [
            "   receipt_no  receipt_sub_no sales_day\n",
            "0         112               1        03\n",
            "1        1132               2        18\n",
            "2        1102               1        12\n",
            "3        1132               1        05\n",
            "4        1102               2        21\n",
            "5        1112               1        05\n",
            "6        1102               2        05\n",
            "7        1102               1        22\n",
            "8        1112               2        04\n",
            "9        1102               1        10\n"
          ]
        }
      ],
      "source": [
        "def extract_day_from_unix_seconds(seconds):\n",
        "    return pd.to_datetime(seconds, unit='s').strftime('%d')\n",
        "\n",
        "df_receipt['sales_day'] = df_receipt['sales_epoch'].apply(extract_day_from_unix_seconds)\n",
        "\n",
        "print(df_receipt[['receipt_no', 'receipt_sub_no', 'sales_day']].head(10))"
      ]
    },
    {
      "cell_type": "markdown",
      "metadata": {
        "id": "4yd2LB2Cfp7N"
      },
      "source": [
        "---\n",
        "> P-052: レシート明細データ（df_receipt）の売上金額（amount）を顧客ID（customer_id）ごとに合計の上、売上金額合計に対して2,000円以下を0、2,000円より大きい金額を1に二値化し、顧客ID、売上金額合計とともに10件表示せよ。ただし、顧客IDが\"Z\"から始まるのものは非会員を表すため、除外して計算すること。"
      ]
    },
    {
      "cell_type": "code",
      "execution_count": null,
      "metadata": {
        "id": "j-IndbdLfp7N",
        "colab": {
          "base_uri": "https://localhost:8080/"
        },
        "outputId": "3b5d1e64-9d6b-4265-c5bb-6509462b5e0f"
      },
      "outputs": [
        {
          "output_type": "stream",
          "name": "stdout",
          "text": [
            "      customer_id  amount  binary_sales\n",
            "0  CS001113000004    1298             0\n",
            "1  CS001114000005     626             0\n",
            "2  CS001115000010    3044             1\n",
            "3  CS001205000004    1988             0\n",
            "4  CS001205000006    3337             1\n",
            "5  CS001211000025     456             0\n",
            "6  CS001212000027     448             0\n",
            "7  CS001212000031     296             0\n",
            "8  CS001212000046     228             0\n",
            "9  CS001212000070     456             0\n"
          ]
        }
      ],
      "source": [
        "df_receipt_filtered = df_receipt[~df_receipt['customer_id'].str.startswith('Z')]\n",
        "\n",
        "df_customer_sales = df_receipt_filtered.groupby('customer_id')['amount'].sum().reset_index()\n",
        "\n",
        "df_customer_sales['binary_sales'] = df_customer_sales['amount'].apply(lambda x: 0 if x <= 2000 else 1)\n",
        "\n",
        "print(df_customer_sales[['customer_id', 'amount', 'binary_sales']].head(10))"
      ]
    },
    {
      "cell_type": "markdown",
      "metadata": {
        "id": "UpN20vIgfp7N"
      },
      "source": [
        "---\n",
        "> P-053: 顧客データ（df_customer）の郵便番号（postal_cd）に対し、東京（先頭3桁が100〜209のもの）を1、それ以外のものを0に二値化せよ。さらにレシート明細データ（df_receipt）と結合し、全期間において売上実績のある顧客数を、作成した二値ごとにカウントせよ。"
      ]
    },
    {
      "cell_type": "code",
      "source": [
        "def binarize_postal_cd(postal_cd):\n",
        "    if 100 <= int(postal_cd[:3]) <= 209:\n",
        "        return 1\n",
        "    else:\n",
        "        return 0\n",
        "\n",
        "df_customer['is_tokyo'] = df_customer['postal_cd'].astype(str).apply(binarize_postal_cd)\n",
        "\n",
        "df_receipt['has_sales'] = 1\n",
        "\n",
        "df_customer_receipt = pd.merge(df_customer, df_receipt[['customer_id', 'has_sales']], on='customer_id', how='inner')\n",
        "\n",
        "customer_count_by_bin = df_customer_receipt.groupby('is_tokyo')['has_sales'].sum()\n",
        "\n",
        "print(customer_count_by_bin)"
      ],
      "metadata": {
        "colab": {
          "base_uri": "https://localhost:8080/"
        },
        "id": "JkPUvdZt_0hv",
        "outputId": "3ae2c9e2-1f1b-4380-d5a4-32817bb3dd26"
      },
      "execution_count": null,
      "outputs": [
        {
          "output_type": "stream",
          "name": "stdout",
          "text": [
            "is_tokyo\n",
            "0    34438\n",
            "1    31244\n",
            "Name: has_sales, dtype: int64\n"
          ]
        }
      ]
    },
    {
      "cell_type": "markdown",
      "metadata": {
        "id": "qkf-5DZ6fp7N"
      },
      "source": [
        "---\n",
        "> P-054: 顧客データ（df_customer）の住所（address）は、埼玉県、千葉県、東京都、神奈川県のいずれかとなっている。都道府県毎にコード値を作成し、顧客ID、住所とともに10件表示せよ。値は埼玉県を11、千葉県を12、東京都を13、神奈川県を14とすること。"
      ]
    },
    {
      "cell_type": "code",
      "execution_count": null,
      "metadata": {
        "id": "XQBmYgj-fp7N",
        "colab": {
          "base_uri": "https://localhost:8080/"
        },
        "outputId": "1bec7174-2018-4f85-ec0d-37ff36041ad9"
      },
      "outputs": [
        {
          "output_type": "stream",
          "name": "stdout",
          "text": [
            "      customer_id                 address  prefecture_code\n",
            "0  CS021313000114    神奈川県伊勢原市粟窪**********               14\n",
            "1  CS037613000071      東京都江東区南砂**********               13\n",
            "2  CS031415000172     東京都渋谷区代々木**********               13\n",
            "3  CS028811000001  神奈川県横浜市泉区和泉町**********               14\n",
            "4  CS001215000145     東京都大田区仲六郷**********               13\n",
            "5  CS020401000016      東京都板橋区若木**********               13\n",
            "6  CS015414000103      東京都江東区北砂**********               13\n",
            "7  CS029403000008      千葉県浦安市海楽**********               12\n",
            "8  CS015804000004      東京都江東区北砂**********               13\n",
            "9  CS033513000180  神奈川県横浜市旭区善部町**********               14\n"
          ]
        }
      ],
      "source": [
        "def assign_prefecture_code(address):\n",
        "    if '埼玉県' in address:\n",
        "        return 11\n",
        "    elif '千葉県' in address:\n",
        "        return 12\n",
        "    elif '東京都' in address:\n",
        "        return 13\n",
        "    elif '神奈川県' in address:\n",
        "        return 14\n",
        "    else:\n",
        "        return None\n",
        "\n",
        "df_customer['prefecture_code'] = df_customer['address'].apply(assign_prefecture_code)\n",
        "\n",
        "print(df_customer[['customer_id', 'address', 'prefecture_code']].head(10))"
      ]
    },
    {
      "cell_type": "markdown",
      "metadata": {
        "id": "P9A2U6l6fp7O"
      },
      "source": [
        "---\n",
        "> P-055: レシート明細（df_receipt）データの売上金額（amount）を顧客ID（customer_id）ごとに合計し、その合計金額の四分位点を求めよ。その上で、顧客ごとの売上金額合計に対して以下の基準でカテゴリ値を作成し、顧客ID、売上金額合計とともに10件表示せよ。カテゴリ値は順に1〜4とする。\n",
        ">\n",
        "> - 最小値以上第1四分位未満 ・・・ 1を付与\n",
        "> - 第1四分位以上第2四分位未満 ・・・ 2を付与\n",
        "> - 第2四分位以上第3四分位未満 ・・・ 3を付与\n",
        "> - 第3四分位以上 ・・・ 4を付与"
      ]
    },
    {
      "cell_type": "code",
      "source": [
        "df_customer_sales = df_receipt.groupby('customer_id')['amount'].sum().reset_index()\n",
        "\n",
        "sales_quantiles = np.quantile(df_customer_sales['amount'], [0, 0.25, 0.5, 0.75, 1])\n",
        "\n",
        "def assign_category(amount):\n",
        "    if amount < sales_quantiles[1]:\n",
        "        return 1\n",
        "    elif amount < sales_quantiles[2]:\n",
        "        return 2\n",
        "    elif amount < sales_quantiles[3]:\n",
        "        return 3\n",
        "    else:\n",
        "        return 4\n",
        "\n",
        "df_customer_sales['category'] = df_customer_sales['amount'].apply(assign_category)\n",
        "\n",
        "print(df_customer_sales[['customer_id', 'amount', 'category']].head(10))"
      ],
      "metadata": {
        "colab": {
          "base_uri": "https://localhost:8080/"
        },
        "id": "Vf_dEYBDAKE9",
        "outputId": "f44410cd-0199-4a05-ce29-4d45f11e3abe"
      },
      "execution_count": null,
      "outputs": [
        {
          "output_type": "stream",
          "name": "stdout",
          "text": [
            "      customer_id  amount  category\n",
            "0  CS001113000004    1298         2\n",
            "1  CS001114000005     626         2\n",
            "2  CS001115000010    3044         3\n",
            "3  CS001205000004    1988         3\n",
            "4  CS001205000006    3337         3\n",
            "5  CS001211000025     456         1\n",
            "6  CS001212000027     448         1\n",
            "7  CS001212000031     296         1\n",
            "8  CS001212000046     228         1\n",
            "9  CS001212000070     456         1\n"
          ]
        }
      ]
    },
    {
      "cell_type": "markdown",
      "metadata": {
        "id": "WcFdk83Efp7O"
      },
      "source": [
        "---\n",
        "> P-056: 顧客データ（df_customer）の年齢（age）をもとに10歳刻みで年代を算出し、顧客ID（customer_id）、生年月日（birth_day）とともに10件表示せよ。ただし、60歳以上は全て60歳代とすること。年代を表すカテゴリ名は任意とする。"
      ]
    },
    {
      "cell_type": "code",
      "execution_count": null,
      "metadata": {
        "id": "Bno_1q6Jfp7O",
        "colab": {
          "base_uri": "https://localhost:8080/"
        },
        "outputId": "e5c48c17-445c-4081-821e-eed5747a15b9"
      },
      "outputs": [
        {
          "output_type": "stream",
          "name": "stdout",
          "text": [
            "      customer_id   birth_day age_group\n",
            "0  CS021313000114  1981-04-29       30代\n",
            "1  CS037613000071  1952-04-01      60歳代\n",
            "2  CS031415000172  1976-10-04       40代\n",
            "3  CS028811000001  1933-03-27      60歳代\n",
            "4  CS001215000145  1995-03-29       20代\n",
            "5  CS020401000016  1974-09-15       40代\n",
            "6  CS015414000103  1977-08-09       40代\n",
            "7  CS029403000008  1973-08-17       40代\n",
            "8  CS015804000004  1931-05-02      60歳代\n",
            "9  CS033513000180  1962-07-11       50代\n"
          ]
        }
      ],
      "source": [
        "def calculate_age_group(age):\n",
        "    if age >= 60:\n",
        "        return '60歳代'\n",
        "    else:\n",
        "        return f'{(age // 10) * 10}代'\n",
        "\n",
        "df_customer['age_group'] = df_customer['age'].apply(calculate_age_group)\n",
        "\n",
        "print(df_customer[['customer_id', 'birth_day', 'age_group']].head(10))"
      ]
    },
    {
      "cell_type": "markdown",
      "metadata": {
        "id": "aJNennyifp7O"
      },
      "source": [
        "---\n",
        "> P-057: 056の抽出結果と性別コード（gender_cd）により、新たに性別×年代の組み合わせを表すカテゴリデータを作成し、10件表示せよ。組み合わせを表すカテゴリの値は任意とする。"
      ]
    },
    {
      "cell_type": "code",
      "execution_count": null,
      "metadata": {
        "id": "bcXxSodRfp7O",
        "colab": {
          "base_uri": "https://localhost:8080/"
        },
        "outputId": "ff51e617-2980-4aab-9f57-8efac58831e6"
      },
      "outputs": [
        {
          "output_type": "stream",
          "name": "stdout",
          "text": [
            "      customer_id gender_cd age_group gender_age_category\n",
            "0  CS021313000114         1       30代               1_30代\n",
            "1  CS037613000071         9      60歳代              9_60歳代\n",
            "2  CS031415000172         1       40代               1_40代\n",
            "3  CS028811000001         1      60歳代              1_60歳代\n",
            "4  CS001215000145         1       20代               1_20代\n",
            "5  CS020401000016         0       40代               0_40代\n",
            "6  CS015414000103         1       40代               1_40代\n",
            "7  CS029403000008         0       40代               0_40代\n",
            "8  CS015804000004         0      60歳代              0_60歳代\n",
            "9  CS033513000180         1       50代               1_50代\n"
          ]
        }
      ],
      "source": [
        "df_customer['gender_age_category'] = df_customer['gender_cd'].astype(str) + '_' + df_customer['age_group']\n",
        "\n",
        "print(df_customer[['customer_id', 'gender_cd', 'age_group', 'gender_age_category']].head(10))"
      ]
    },
    {
      "cell_type": "markdown",
      "metadata": {
        "id": "IgtZGSQOfp7O"
      },
      "source": [
        "---\n",
        "> P-058: 顧客データ（df_customer）の性別コード（gender_cd）をダミー変数化し、顧客ID（customer_id）とともに10件表示せよ。"
      ]
    },
    {
      "cell_type": "code",
      "execution_count": null,
      "metadata": {
        "id": "2rve_1dkfp7O",
        "colab": {
          "base_uri": "https://localhost:8080/"
        },
        "outputId": "8501fd08-5b8b-4fe6-dba7-73ec5690c6bf"
      },
      "outputs": [
        {
          "output_type": "stream",
          "name": "stdout",
          "text": [
            "      customer_id  gender_0  gender_1  gender_9\n",
            "0  CS021313000114     False      True     False\n",
            "1  CS037613000071     False     False      True\n",
            "2  CS031415000172     False      True     False\n",
            "3  CS028811000001     False      True     False\n",
            "4  CS001215000145     False      True     False\n",
            "5  CS020401000016      True     False     False\n",
            "6  CS015414000103     False      True     False\n",
            "7  CS029403000008      True     False     False\n",
            "8  CS015804000004      True     False     False\n",
            "9  CS033513000180     False      True     False\n"
          ]
        }
      ],
      "source": [
        "df_gender_dummies = pd.get_dummies(df_customer['gender_cd'], prefix='gender')\n",
        "\n",
        "df_customer_with_dummies = pd.concat([df_customer[['customer_id']], df_gender_dummies], axis=1)\n",
        "\n",
        "print(df_customer_with_dummies.head(10))"
      ]
    },
    {
      "cell_type": "markdown",
      "metadata": {
        "id": "G5fzRDaBfp7O"
      },
      "source": [
        "---\n",
        "> P-059: レシート明細データ（df_receipt）の売上金額（amount）を顧客ID（customer_id）ごとに合計し、売上金額合計を平均0、標準偏差1に標準化して顧客ID、売上金額合計とともに10件表示せよ。標準化に使用する標準偏差は、分散の平方根、もしくは不偏分散の平方根のどちらでも良いものとする。ただし、顧客IDが\"Z\"から始まるのものは非会員を表すため、除外して計算すること。"
      ]
    },
    {
      "cell_type": "code",
      "execution_count": null,
      "metadata": {
        "id": "pS5G_7Gofp7O",
        "colab": {
          "base_uri": "https://localhost:8080/"
        },
        "outputId": "63c9a8dd-8ae6-49b5-a57a-20e258e709f6"
      },
      "outputs": [
        {
          "output_type": "stream",
          "name": "stdout",
          "text": [
            "      customer_id  amount_scaled\n",
            "0  CS001113000004      -0.459378\n",
            "1  CS001114000005      -0.706390\n",
            "2  CS001115000010       0.182413\n",
            "3  CS001205000004      -0.205749\n",
            "4  CS001205000006       0.290114\n",
            "5  CS001211000025      -0.768879\n",
            "6  CS001212000027      -0.771819\n",
            "7  CS001212000031      -0.827691\n",
            "8  CS001212000046      -0.852686\n",
            "9  CS001212000070      -0.768879\n"
          ]
        }
      ],
      "source": [
        "from sklearn.preprocessing import StandardScaler\n",
        "\n",
        "df_customer_sales = df_receipt[~df_receipt['customer_id'].str.startswith('Z')].groupby('customer_id')['amount'].sum().reset_index()\n",
        "\n",
        "scaler = StandardScaler()\n",
        "df_customer_sales['amount_scaled'] = scaler.fit_transform(df_customer_sales[['amount']])\n",
        "\n",
        "print(df_customer_sales[['customer_id', 'amount_scaled']].head(10))"
      ]
    },
    {
      "cell_type": "markdown",
      "metadata": {
        "id": "giK-vKREfp7O"
      },
      "source": [
        "TIPS:\n",
        "- query()の引数engineで'python'か'numexpr'かを選択でき、デフォルトはインストールされていればnumexprが、無ければpythonが使われます。さらに、文字列メソッドはengine='python'でないとquery()内で使えません。\n"
      ]
    },
    {
      "cell_type": "code",
      "source": [],
      "metadata": {
        "id": "3Tpu8p12rWpV"
      },
      "execution_count": null,
      "outputs": []
    },
    {
      "cell_type": "markdown",
      "metadata": {
        "id": "cIjwC0J9fp7O"
      },
      "source": [
        "---\n",
        "> P-060: レシート明細データ（df_receipt）の売上金額（amount）を顧客ID（customer_id）ごとに合計し、売上金額合計を最小値0、最大値1に正規化して顧客ID、売上金額合計とともに10件表示せよ。ただし、顧客IDが\"Z\"から始まるのものは非会員を表すため、除外して計算すること。"
      ]
    },
    {
      "cell_type": "code",
      "execution_count": null,
      "metadata": {
        "id": "WGo-G2vFfp7O",
        "colab": {
          "base_uri": "https://localhost:8080/"
        },
        "outputId": "30cc9340-2a1f-4075-8677-0d68cd244198"
      },
      "outputs": [
        {
          "output_type": "stream",
          "name": "stdout",
          "text": [
            "      customer_id  amount  amount_normalized\n",
            "0  CS001113000004    1298           0.053354\n",
            "1  CS001114000005     626           0.024157\n",
            "2  CS001115000010    3044           0.129214\n",
            "3  CS001205000004    1988           0.083333\n",
            "4  CS001205000006    3337           0.141945\n",
            "5  CS001211000025     456           0.016771\n",
            "6  CS001212000027     448           0.016423\n",
            "7  CS001212000031     296           0.009819\n",
            "8  CS001212000046     228           0.006865\n",
            "9  CS001212000070     456           0.016771\n"
          ]
        }
      ],
      "source": [
        "from sklearn.preprocessing import MinMaxScaler\n",
        "\n",
        "df_customer_sales = df_receipt[~df_receipt['customer_id'].str.startswith('Z')].groupby('customer_id')['amount'].sum().reset_index()\n",
        "\n",
        "scaler = MinMaxScaler()\n",
        "df_customer_sales['amount_normalized'] = scaler.fit_transform(df_customer_sales[['amount']])\n",
        "\n",
        "print(df_customer_sales[['customer_id', 'amount', 'amount_normalized']].head(10))"
      ]
    },
    {
      "cell_type": "markdown",
      "metadata": {
        "id": "2zXqxkb_fp7O"
      },
      "source": [
        "---\n",
        "> P-061: レシート明細データ（df_receipt）の売上金額（amount）を顧客ID（customer_id）ごとに合計し、売上金額合計を常用対数化（底10）して顧客ID、売上金額合計とともに10件表示せよ。ただし、顧客IDが\"Z\"から始まるのものは非会員を表すため、除外して計算すること。"
      ]
    },
    {
      "cell_type": "code",
      "execution_count": null,
      "metadata": {
        "id": "ukcQFMcyfp7P",
        "colab": {
          "base_uri": "https://localhost:8080/"
        },
        "outputId": "2ca67473-b460-45e3-f477-4427d799017e"
      },
      "outputs": [
        {
          "output_type": "stream",
          "name": "stdout",
          "text": [
            "      customer_id  amount  amount_log10\n",
            "0  CS001113000004    1298      3.113275\n",
            "1  CS001114000005     626      2.796574\n",
            "2  CS001115000010    3044      3.483445\n",
            "3  CS001205000004    1988      3.298416\n",
            "4  CS001205000006    3337      3.523356\n",
            "5  CS001211000025     456      2.658965\n",
            "6  CS001212000027     448      2.651278\n",
            "7  CS001212000031     296      2.471292\n",
            "8  CS001212000046     228      2.357935\n",
            "9  CS001212000070     456      2.658965\n"
          ]
        }
      ],
      "source": [
        "df_customer_sales = df_receipt[~df_receipt['customer_id'].str.startswith('Z')].groupby('customer_id')['amount'].sum().reset_index()\n",
        "\n",
        "df_customer_sales['amount_log10'] = np.log10(df_customer_sales['amount'])\n",
        "\n",
        "print(df_customer_sales[['customer_id', 'amount', 'amount_log10']].head(10))"
      ]
    },
    {
      "cell_type": "markdown",
      "metadata": {
        "id": "rv55zEi2fp7P"
      },
      "source": [
        "---\n",
        "> P-062: レシート明細データ（df_receipt）の売上金額（amount）を顧客ID（customer_id）ごとに合計し、売上金額合計を自然対数化（底e）して顧客ID、売上金額合計とともに10件表示せよ。ただし、顧客IDが\"Z\"から始まるのものは非会員を表すため、除外して計算すること。"
      ]
    },
    {
      "cell_type": "code",
      "execution_count": null,
      "metadata": {
        "id": "ksEEPR5pfp7P",
        "colab": {
          "base_uri": "https://localhost:8080/"
        },
        "outputId": "4e6bd6b1-672a-4f4a-8925-87293e339239"
      },
      "outputs": [
        {
          "output_type": "stream",
          "name": "stdout",
          "text": [
            "      customer_id  amount  amount_log\n",
            "0  CS001113000004    1298    7.168580\n",
            "1  CS001114000005     626    6.439350\n",
            "2  CS001115000010    3044    8.020928\n",
            "3  CS001205000004    1988    7.594884\n",
            "4  CS001205000006    3337    8.112827\n",
            "5  CS001211000025     456    6.122493\n",
            "6  CS001212000027     448    6.104793\n",
            "7  CS001212000031     296    5.690359\n",
            "8  CS001212000046     228    5.429346\n",
            "9  CS001212000070     456    6.122493\n"
          ]
        }
      ],
      "source": [
        "df_customer_sales = df_receipt[~df_receipt['customer_id'].str.startswith('Z')].groupby('customer_id')['amount'].sum().reset_index()\n",
        "\n",
        "df_customer_sales['amount_log'] = np.log(df_customer_sales['amount'])\n",
        "\n",
        "print(df_customer_sales[['customer_id', 'amount', 'amount_log']].head(10))"
      ]
    },
    {
      "cell_type": "markdown",
      "metadata": {
        "id": "JPh9XLTUfp7P"
      },
      "source": [
        "---\n",
        "> P-063: 商品データ（df_product）の単価（unit_price）と原価（unit_cost）から各商品の利益額を算出し、結果を10件表示せよ。"
      ]
    },
    {
      "cell_type": "code",
      "execution_count": null,
      "metadata": {
        "id": "8JdEZXs2fp7P",
        "colab": {
          "base_uri": "https://localhost:8080/"
        },
        "outputId": "0b7992f2-2a92-47f7-af1a-e1ead7eb4833"
      },
      "outputs": [
        {
          "output_type": "stream",
          "name": "stdout",
          "text": [
            "   product_cd  unit_price  unit_cost  profit\n",
            "0  P040101001       198.0      149.0    49.0\n",
            "1  P040101002       218.0      164.0    54.0\n",
            "2  P040101003       230.0      173.0    57.0\n",
            "3  P040101004       248.0      186.0    62.0\n",
            "4  P040101005       268.0      201.0    67.0\n",
            "5  P040101006       298.0      224.0    74.0\n",
            "6  P040101007       338.0      254.0    84.0\n",
            "7  P040101008       420.0      315.0   105.0\n",
            "8  P040101009       498.0      374.0   124.0\n",
            "9  P040101010       580.0      435.0   145.0\n"
          ]
        }
      ],
      "source": [
        "df_product['profit'] = df_product['unit_price'] - df_product['unit_cost']\n",
        "\n",
        "print(df_product[['product_cd', 'unit_price', 'unit_cost', 'profit']].head(10))"
      ]
    },
    {
      "cell_type": "markdown",
      "metadata": {
        "id": "u2vQtjA4fp7P"
      },
      "source": [
        "---\n",
        "> P-064: 商品データ（df_product）の単価（unit_price）と原価（unit_cost）から、各商品の利益率の全体平均を算出せよ。ただし、単価と原価には欠損が生じていることに注意せよ。"
      ]
    },
    {
      "cell_type": "code",
      "execution_count": null,
      "metadata": {
        "id": "QywyDpcNfp7P",
        "colab": {
          "base_uri": "https://localhost:8080/"
        },
        "outputId": "7917f379-59e1-48c8-a734-2b7ae0c7313f"
      },
      "outputs": [
        {
          "output_type": "stream",
          "name": "stdout",
          "text": [
            "全体平均利益率: 0.2491\n"
          ]
        }
      ],
      "source": [
        "df_product.dropna(subset=['unit_price', 'unit_cost'], inplace=True)\n",
        "df_product['profit_margin'] = (df_product['unit_price'] - df_product['unit_cost']) / df_product['unit_price']\n",
        "\n",
        "mean_profit_margin = df_product['profit_margin'].mean()\n",
        "\n",
        "print(f\"全体平均利益率: {mean_profit_margin:.4f}\")"
      ]
    },
    {
      "cell_type": "markdown",
      "metadata": {
        "id": "32_s_fEqfp7P"
      },
      "source": [
        "---\n",
        "> P-065: 商品データ（df_product）の各商品について、利益率が30%となる新たな単価を求めよ。ただし、1円未満は切り捨てること。そして結果を10件表示させ、利益率がおよそ30％付近であることを確認せよ。ただし、単価（unit_price）と原価（unit_cost）には欠損が生じていることに注意せよ。"
      ]
    },
    {
      "cell_type": "code",
      "execution_count": null,
      "metadata": {
        "id": "ZOR1njatfp7P",
        "colab": {
          "base_uri": "https://localhost:8080/"
        },
        "outputId": "062a1c5a-b420-48b2-91b7-5dd9bceb11a1"
      },
      "outputs": [
        {
          "output_type": "stream",
          "name": "stdout",
          "text": [
            "   product_cd  unit_price  unit_cost  new_unit_price  new_profit_margin\n",
            "0  P040101001       198.0      149.0           212.0           0.297170\n",
            "1  P040101002       218.0      164.0           234.0           0.299145\n",
            "2  P040101003       230.0      173.0           247.0           0.299595\n",
            "3  P040101004       248.0      186.0           265.0           0.298113\n",
            "4  P040101005       268.0      201.0           287.0           0.299652\n",
            "5  P040101006       298.0      224.0           320.0           0.300000\n",
            "6  P040101007       338.0      254.0           362.0           0.298343\n",
            "7  P040101008       420.0      315.0           450.0           0.300000\n",
            "8  P040101009       498.0      374.0           534.0           0.299625\n",
            "9  P040101010       580.0      435.0           621.0           0.299517\n"
          ]
        }
      ],
      "source": [
        "df_product.dropna(subset=['unit_price', 'unit_cost'], inplace=True)\n",
        "\n",
        "df_product['new_unit_price'] = np.floor(df_product['unit_cost'] / (1 - 0.30))\n",
        "\n",
        "df_product['new_profit_margin'] = (df_product['new_unit_price'] - df_product['unit_cost']) / df_product['new_unit_price']\n",
        "\n",
        "print(df_product[['product_cd', 'unit_price', 'unit_cost', 'new_unit_price', 'new_profit_margin']].head(10))"
      ]
    },
    {
      "cell_type": "markdown",
      "metadata": {
        "id": "wBrbnRnBfp7P"
      },
      "source": [
        "---\n",
        "> P-066: 商品データ（df_product）の各商品について、利益率が30%となる新たな単価を求めよ。今回は、1円未満を丸めること（四捨五入または偶数への丸めで良い）。そして結果を10件表示させ、利益率がおよそ30％付近であることを確認せよ。ただし、単価（unit_price）と原価（unit_cost）には欠損が生じていることに注意せよ。"
      ]
    },
    {
      "cell_type": "code",
      "execution_count": null,
      "metadata": {
        "id": "59TAAEFPfp7P",
        "colab": {
          "base_uri": "https://localhost:8080/"
        },
        "outputId": "584a13a8-abd9-452c-c563-f4fdf1722fcd"
      },
      "outputs": [
        {
          "output_type": "stream",
          "name": "stdout",
          "text": [
            "   product_cd  unit_price  unit_cost  new_unit_price  new_profit_margin\n",
            "0  P040101001       198.0      149.0           213.0           0.300469\n",
            "1  P040101002       218.0      164.0           234.0           0.299145\n",
            "2  P040101003       230.0      173.0           247.0           0.299595\n",
            "3  P040101004       248.0      186.0           266.0           0.300752\n",
            "4  P040101005       268.0      201.0           287.0           0.299652\n",
            "5  P040101006       298.0      224.0           320.0           0.300000\n",
            "6  P040101007       338.0      254.0           363.0           0.300275\n",
            "7  P040101008       420.0      315.0           450.0           0.300000\n",
            "8  P040101009       498.0      374.0           534.0           0.299625\n",
            "9  P040101010       580.0      435.0           621.0           0.299517\n"
          ]
        }
      ],
      "source": [
        "df_product.dropna(subset=['unit_price', 'unit_cost'], inplace=True)\n",
        "\n",
        "new_prices = np.round(df_product['unit_cost'] / (1 - 0.30))\n",
        "\n",
        "df_product['new_unit_price'] = new_prices\n",
        "\n",
        "df_product['new_profit_margin'] = (df_product['new_unit_price'] - df_product['unit_cost']) / df_product['new_unit_price']\n",
        "\n",
        "print(df_product[['product_cd', 'unit_price', 'unit_cost', 'new_unit_price', 'new_profit_margin']].head(10))"
      ]
    },
    {
      "cell_type": "markdown",
      "metadata": {
        "id": "kLAJW7xlfp7P"
      },
      "source": [
        "---\n",
        "> P-067: 商品データ（df_product）の各商品について、利益率が30%となる新たな単価を求めよ。今回は、1円未満を切り上げること。そして結果を10件表示させ、利益率がおよそ30％付近であることを確認せよ。ただし、単価（unit_price）と原価（unit_cost）には欠損が生じていることに注意せよ。"
      ]
    },
    {
      "cell_type": "code",
      "execution_count": null,
      "metadata": {
        "id": "SAqwMxlffp7Q",
        "colab": {
          "base_uri": "https://localhost:8080/"
        },
        "outputId": "dddc7cd3-84d3-436b-f1f0-7398f6a0a6ae"
      },
      "outputs": [
        {
          "output_type": "stream",
          "name": "stdout",
          "text": [
            "   product_cd  unit_price  unit_cost  new_unit_price  new_profit_margin\n",
            "0  P040101001       198.0      149.0           213.0           0.300469\n",
            "1  P040101002       218.0      164.0           235.0           0.302128\n",
            "2  P040101003       230.0      173.0           248.0           0.302419\n",
            "3  P040101004       248.0      186.0           266.0           0.300752\n",
            "4  P040101005       268.0      201.0           288.0           0.302083\n",
            "5  P040101006       298.0      224.0           320.0           0.300000\n",
            "6  P040101007       338.0      254.0           363.0           0.300275\n",
            "7  P040101008       420.0      315.0           451.0           0.301552\n",
            "8  P040101009       498.0      374.0           535.0           0.300935\n",
            "9  P040101010       580.0      435.0           622.0           0.300643\n"
          ]
        }
      ],
      "source": [
        "df_product.dropna(subset=['unit_price', 'unit_cost'], inplace=True)\n",
        "\n",
        "new_prices = np.ceil(df_product['unit_cost'] / (1 - 0.30))\n",
        "\n",
        "df_product['new_unit_price'] = new_prices\n",
        "\n",
        "df_product['new_profit_margin'] = (df_product['new_unit_price'] - df_product['unit_cost']) / df_product['new_unit_price']\n",
        "\n",
        "print(df_product[['product_cd', 'unit_price', 'unit_cost', 'new_unit_price', 'new_profit_margin']].head(10))"
      ]
    },
    {
      "cell_type": "markdown",
      "metadata": {
        "id": "8U5S-PJrfp7Q"
      },
      "source": [
        "---\n",
        "> P-068: 商品データ（df_product）の各商品について、消費税率10％の税込み金額を求めよ。1円未満の端数は切り捨てとし、結果を10件表示せよ。ただし、単価（unit_price）には欠損が生じていることに注意せよ。"
      ]
    },
    {
      "cell_type": "code",
      "execution_count": null,
      "metadata": {
        "id": "Kr_yF6D8fp7Q",
        "colab": {
          "base_uri": "https://localhost:8080/"
        },
        "outputId": "82d4d13b-f929-482c-fc1b-5f2750de5c76"
      },
      "outputs": [
        {
          "output_type": "stream",
          "name": "stdout",
          "text": [
            "   product_cd  unit_price  tax_inclusive_price\n",
            "0  P040101001       198.0                  217\n",
            "1  P040101002       218.0                  239\n",
            "2  P040101003       230.0                  253\n",
            "3  P040101004       248.0                  272\n",
            "4  P040101005       268.0                  294\n",
            "5  P040101006       298.0                  327\n",
            "6  P040101007       338.0                  371\n",
            "7  P040101008       420.0                  462\n",
            "8  P040101009       498.0                  547\n",
            "9  P040101010       580.0                  638\n"
          ]
        }
      ],
      "source": [
        "tax_rate = 0.10\n",
        "\n",
        "df_product.dropna(subset=['unit_price'], inplace=True)\n",
        "\n",
        "tax_inclusive_prices = df_product['unit_price'] * (1 + tax_rate)\n",
        "tax_inclusive_prices = tax_inclusive_prices.apply(math.floor)\n",
        "\n",
        "df_product['tax_inclusive_price'] = tax_inclusive_prices\n",
        "\n",
        "print(df_product[['product_cd', 'unit_price', 'tax_inclusive_price']].head(10))"
      ]
    },
    {
      "cell_type": "markdown",
      "metadata": {
        "id": "1iCfwgstfp7Q"
      },
      "source": [
        "---\n",
        "> P-069: レシート明細データ（df_receipt）と商品データ（df_product）を結合し、顧客毎に全商品の売上金額合計と、カテゴリ大区分コード（category_major_cd）が\"07\"（瓶詰缶詰）の売上金額合計を計算の上、両者の比率を求めよ。抽出対象はカテゴリ大区分コード\"07\"（瓶詰缶詰）の売上実績がある顧客のみとし、結果を10件表示せよ。"
      ]
    },
    {
      "cell_type": "code",
      "execution_count": null,
      "metadata": {
        "id": "55N0d4p-fp7Q",
        "colab": {
          "base_uri": "https://localhost:8080/"
        },
        "outputId": "933a0ec7-68da-449f-b8ef-470e0e2ad88f"
      },
      "outputs": [
        {
          "output_type": "stream",
          "name": "stdout",
          "text": [
            "       customer_id  amount     ratio\n",
            "0   CS001113000004    1298  0.000069\n",
            "1   CS001114000005     626  0.000033\n",
            "2   CS001115000010    3044  0.000161\n",
            "3   CS001205000004    1988  0.000105\n",
            "4   CS001205000006    3337  0.000177\n",
            "6   CS001212000027     448  0.000024\n",
            "7   CS001212000031     296  0.000016\n",
            "8   CS001212000046     228  0.000012\n",
            "9   CS001212000070     456  0.000024\n",
            "11  CS001213000018     243  0.000013\n"
          ]
        },
        {
          "output_type": "stream",
          "name": "stderr",
          "text": [
            "<ipython-input-14-c09309c57a30>:9: SettingWithCopyWarning: \n",
            "A value is trying to be set on a copy of a slice from a DataFrame.\n",
            "Try using .loc[row_indexer,col_indexer] = value instead\n",
            "\n",
            "See the caveats in the documentation: https://pandas.pydata.org/pandas-docs/stable/user_guide/indexing.html#returning-a-view-versus-a-copy\n",
            "  customers_with_category_07_sales['ratio'] = customers_with_category_07_sales['amount'] / category_07_sales\n"
          ]
        }
      ],
      "source": [
        "df_merged = pd.merge(df_receipt, df_product, on='product_cd', how='inner')\n",
        "\n",
        "category_07_sales = df_merged[df_merged['category_major_cd'] == '07']['amount'].sum()\n",
        "\n",
        "customer_sales = df_merged.groupby('customer_id')['amount'].sum().reset_index()\n",
        "\n",
        "customers_with_category_07_sales = customer_sales[customer_sales['customer_id'].isin(df_merged[df_merged['category_major_cd'] == '07']['customer_id'])]\n",
        "\n",
        "customers_with_category_07_sales['ratio'] = customers_with_category_07_sales['amount'] / category_07_sales\n",
        "\n",
        "print(customers_with_category_07_sales.head(10))"
      ]
    },
    {
      "cell_type": "markdown",
      "metadata": {
        "id": "vuePtP_sfp7Q"
      },
      "source": [
        "---\n",
        "> P-070: レシート明細データ（df_receipt）の売上日（sales_ymd）に対し、顧客データ（df_customer）の会員申込日（application_date）からの経過日数を計算し、顧客ID（customer_id）、売上日、会員申込日とともに10件表示せよ（sales_ymdは数値、application_dateは文字列でデータを保持している点に注意）。"
      ]
    },
    {
      "cell_type": "code",
      "execution_count": null,
      "metadata": {
        "id": "XQeMYrMofp7Q",
        "colab": {
          "base_uri": "https://localhost:8080/"
        },
        "outputId": "c105c23e-4d8e-4868-aadb-055daf8ad83f"
      },
      "outputs": [
        {
          "output_type": "stream",
          "name": "stdout",
          "text": [
            "       customer_id  sales_ymd application_date elapsed_date\n",
            "0   CS006214000001 2018-11-03       2015-02-01    1371 days\n",
            "1   CS006214000001 2017-05-09       2015-02-01     828 days\n",
            "2   CS006214000001 2017-06-08       2015-02-01     858 days\n",
            "4   CS006214000001 2018-10-28       2015-02-01    1365 days\n",
            "7   CS006214000001 2019-09-08       2015-02-01    1680 days\n",
            "8   CS006214000001 2018-01-31       2015-02-01    1095 days\n",
            "9   CS006214000001 2017-07-05       2015-02-01     885 days\n",
            "10  CS006214000001 2018-11-10       2015-02-01    1378 days\n",
            "12  CS006214000001 2019-04-10       2015-02-01    1529 days\n",
            "15  CS006214000001 2019-06-01       2015-02-01    1581 days\n"
          ]
        }
      ],
      "source": [
        "df_tmp = pd.merge(df_receipt[['customer_id', 'sales_ymd']], df_customer[['customer_id', 'application_date']],\n",
        "                 how='inner', on='customer_id').drop_duplicates()\n",
        "\n",
        "df_tmp['sales_ymd'] = pd.to_datetime(df_tmp['sales_ymd'].astype('str'), format='%Y%m%d')\n",
        "df_tmp['application_date'] = pd.to_datetime(df_tmp['application_date'], format='%Y%m%d')\n",
        "df_tmp['elapsed_date'] = df_tmp['sales_ymd'] - df_tmp['application_date']\n",
        "\n",
        "print(df_tmp.head(10))"
      ]
    },
    {
      "cell_type": "markdown",
      "metadata": {
        "id": "xuN2tPaDfp7Q"
      },
      "source": [
        "---\n",
        "> P-071: レシート明細データ（df_receipt）の売上日（sales_ymd）に対し、顧客データ（df_customer）の会員申込日（application_date）からの経過月数を計算し、顧客ID（customer_id）、売上日、会員申込日とともに10件表示せよ（sales_ymdは数値、application_dateは文字列でデータを保持している点に注意）。1ヶ月未満は切り捨てること。"
      ]
    },
    {
      "cell_type": "code",
      "execution_count": null,
      "metadata": {
        "id": "-M8Q9krOfp7Q",
        "colab": {
          "base_uri": "https://localhost:8080/"
        },
        "outputId": "96bc54c4-e106-454a-d4d2-4012211f9168"
      },
      "outputs": [
        {
          "output_type": "stream",
          "name": "stdout",
          "text": [
            "       customer_id  sales_ymd application_date  elapsed_months\n",
            "0   CS006214000001 2018-11-03       2015-02-01              45\n",
            "1   CS006214000001 2017-05-09       2015-02-01              27\n",
            "2   CS006214000001 2017-06-08       2015-02-01              28\n",
            "4   CS006214000001 2018-10-28       2015-02-01              44\n",
            "7   CS006214000001 2019-09-08       2015-02-01              55\n",
            "8   CS006214000001 2018-01-31       2015-02-01              35\n",
            "9   CS006214000001 2017-07-05       2015-02-01              29\n",
            "10  CS006214000001 2018-11-10       2015-02-01              45\n",
            "12  CS006214000001 2019-04-10       2015-02-01              50\n",
            "15  CS006214000001 2019-06-01       2015-02-01              52\n"
          ]
        }
      ],
      "source": [
        "df_tmp = pd.merge(df_receipt[['customer_id', 'sales_ymd']], df_customer[['customer_id', 'application_date']],\n",
        "                 how='inner', on='customer_id').drop_duplicates()\n",
        "\n",
        "df_tmp['sales_ymd'] = pd.to_datetime(df_tmp['sales_ymd'].astype('str'), format='%Y%m%d')\n",
        "df_tmp['application_date'] = pd.to_datetime(df_tmp['application_date'], format='%Y%m%d')\n",
        "\n",
        "df_tmp['elapsed_months'] = ((df_tmp['sales_ymd'].dt.year - df_tmp['application_date'].dt.year) * 12 +\n",
        "                            (df_tmp['sales_ymd'].dt.month - df_tmp['application_date'].dt.month))\n",
        "\n",
        "print(df_tmp.head(10))"
      ]
    },
    {
      "cell_type": "markdown",
      "metadata": {
        "id": "boVcfX9Qfp7Q"
      },
      "source": [
        "---\n",
        "> P-072: レシート明細データ（df_receipt）の売上日（df_customer）に対し、顧客データ（df_customer）の会員申込日（application_date）からの経過年数を計算し、顧客ID（customer_id）、売上日、会員申込日とともに10件表示せよ（sales_ymdは数値、application_dateは文字列でデータを保持している点に注意）。1年未満は切り捨てること。"
      ]
    },
    {
      "cell_type": "code",
      "execution_count": null,
      "metadata": {
        "id": "mRdZ4-CWfp7Q",
        "colab": {
          "base_uri": "https://localhost:8080/"
        },
        "outputId": "2481c39b-d833-4100-f13a-059aec0a7de4"
      },
      "outputs": [
        {
          "output_type": "stream",
          "name": "stdout",
          "text": [
            "       customer_id  sales_ymd application_date  elapsed_years\n",
            "0   CS006214000001 2018-11-03       2015-02-01              3\n",
            "1   CS006214000001 2017-05-09       2015-02-01              2\n",
            "2   CS006214000001 2017-06-08       2015-02-01              2\n",
            "4   CS006214000001 2018-10-28       2015-02-01              3\n",
            "7   CS006214000001 2019-09-08       2015-02-01              4\n",
            "8   CS006214000001 2018-01-31       2015-02-01              2\n",
            "9   CS006214000001 2017-07-05       2015-02-01              2\n",
            "10  CS006214000001 2018-11-10       2015-02-01              3\n",
            "12  CS006214000001 2019-04-10       2015-02-01              4\n",
            "15  CS006214000001 2019-06-01       2015-02-01              4\n"
          ]
        }
      ],
      "source": [
        "df_tmp = pd.merge(df_receipt[['customer_id', 'sales_ymd']], df_customer[['customer_id', 'application_date']],\n",
        "                 how='inner', on='customer_id').drop_duplicates()\n",
        "\n",
        "df_tmp['sales_ymd'] = pd.to_datetime(df_tmp['sales_ymd'].astype('str'), format='%Y%m%d')\n",
        "df_tmp['application_date'] = pd.to_datetime(df_tmp['application_date'], format='%Y%m%d')\n",
        "\n",
        "def calculate_elapsed_years(row):\n",
        "    sales_date = row['sales_ymd']\n",
        "    app_date = row['application_date']\n",
        "    years_diff = (sales_date.year - app_date.year) - ((sales_date.month, sales_date.day) < (app_date.month, app_date.day))\n",
        "    return years_diff\n",
        "\n",
        "df_tmp['elapsed_years'] = df_tmp.apply(calculate_elapsed_years, axis=1)\n",
        "\n",
        "print(df_tmp.head(10))"
      ]
    },
    {
      "cell_type": "markdown",
      "metadata": {
        "id": "RvHVqpGDfp7R"
      },
      "source": [
        "---\n",
        "> P-073: レシート明細データ（df_receipt）の売上日（sales_ymd）に対し、顧客データ（df_customer）の会員申込日（application_date）からのエポック秒による経過時間を計算し、顧客ID（customer_id）、売上日、会員申込日とともに10件表示せよ（なお、sales_ymdは数値、application_dateは文字列でデータを保持している点に注意）。なお、時間情報は保有していないため各日付は0時0分0秒を表すものとする。"
      ]
    },
    {
      "cell_type": "code",
      "execution_count": null,
      "metadata": {
        "id": "UYHgnk8_fp7R",
        "colab": {
          "base_uri": "https://localhost:8080/"
        },
        "outputId": "7258fd1d-1e28-4222-a981-0418683f965f"
      },
      "outputs": [
        {
          "output_type": "stream",
          "name": "stdout",
          "text": [
            "      customer_id  sales_ymd application_date  \\\n",
            "0  CS006214000001 2018-11-03       2015-02-01   \n",
            "1  CS006214000001 2017-05-09       2015-02-01   \n",
            "2  CS006214000001 2017-06-08       2015-02-01   \n",
            "3  CS006214000001 2017-06-08       2015-02-01   \n",
            "4  CS006214000001 2018-10-28       2015-02-01   \n",
            "5  CS006214000001 2018-10-28       2015-02-01   \n",
            "6  CS006214000001 2017-05-09       2015-02-01   \n",
            "7  CS006214000001 2019-09-08       2015-02-01   \n",
            "8  CS006214000001 2018-01-31       2015-02-01   \n",
            "9  CS006214000001 2017-07-05       2015-02-01   \n",
            "\n",
            "                                     elapsed_seconds  \n",
            "0  <function calculate_elapsed_seconds at 0x7bc6d...  \n",
            "1  <function calculate_elapsed_seconds at 0x7bc6d...  \n",
            "2  <function calculate_elapsed_seconds at 0x7bc6d...  \n",
            "3  <function calculate_elapsed_seconds at 0x7bc6d...  \n",
            "4  <function calculate_elapsed_seconds at 0x7bc6d...  \n",
            "5  <function calculate_elapsed_seconds at 0x7bc6d...  \n",
            "6  <function calculate_elapsed_seconds at 0x7bc6d...  \n",
            "7  <function calculate_elapsed_seconds at 0x7bc6d...  \n",
            "8  <function calculate_elapsed_seconds at 0x7bc6d...  \n",
            "9  <function calculate_elapsed_seconds at 0x7bc6d...  \n"
          ]
        }
      ],
      "source": [
        "from datetime import datetime\n",
        "\n",
        "df_tmp = pd.merge(df_receipt[['customer_id', 'sales_ymd']], df_customer[['customer_id', 'application_date']],\n",
        "                 how='inner', on='customer_id')\n",
        "\n",
        "df_tmp['sales_ymd'] = pd.to_datetime(df_tmp['sales_ymd'].astype('str'), format='%Y%m%d')\n",
        "df_tmp['application_date'] = pd.to_datetime(df_tmp['application_date'], format='%Y%m%d')\n",
        "\n",
        "def calculate_elapsed_seconds(row):\n",
        "    sales_date = row['sales_ymd']\n",
        "    app_date = row['application_date']\n",
        "    sales_epoch = sales_date.timestamp()\n",
        "    app_epoch = app_date.timestamp()\n",
        "    elapsed_seconds = sales_epoch - app_epoch\n",
        "    return calculate_elapsed_seconds\n",
        "\n",
        "df_tmp['elapsed_seconds'] = df_tmp.apply(calculate_elapsed_seconds, axis=1)\n",
        "\n",
        "print(df_tmp[['customer_id', 'sales_ymd', 'application_date', 'elapsed_seconds']].head(10))"
      ]
    },
    {
      "cell_type": "markdown",
      "metadata": {
        "id": "6D1dcqWVfp7R"
      },
      "source": [
        "---\n",
        "> P-074: レシート明細データ（df_receipt）の売上日（sales_ymd）に対し、当該週の月曜日からの経過日数を計算し、売上日、直前の月曜日付とともに10件表示せよ（sales_ymdは数値でデータを保持している点に注意）。"
      ]
    },
    {
      "cell_type": "code",
      "execution_count": null,
      "metadata": {
        "id": "-L5qaI8Bfp7R",
        "colab": {
          "base_uri": "https://localhost:8080/",
          "height": 373
        },
        "outputId": "1a55faa6-121d-488b-e5f9-542902ae5bf2"
      },
      "outputs": [
        {
          "output_type": "error",
          "ename": "NameError",
          "evalue": "name 'timedelta' is not defined",
          "traceback": [
            "\u001b[0;31m---------------------------------------------------------------------------\u001b[0m",
            "\u001b[0;31mNameError\u001b[0m                                 Traceback (most recent call last)",
            "\u001b[0;32m<ipython-input-28-23a7ef541b0f>\u001b[0m in \u001b[0;36m<cell line: 10>\u001b[0;34m()\u001b[0m\n\u001b[1;32m      8\u001b[0m     \u001b[0;32mreturn\u001b[0m \u001b[0mmonday\u001b[0m\u001b[0;34m,\u001b[0m \u001b[0mdays_to_monday\u001b[0m\u001b[0;34m\u001b[0m\u001b[0;34m\u001b[0m\u001b[0m\n\u001b[1;32m      9\u001b[0m \u001b[0;34m\u001b[0m\u001b[0m\n\u001b[0;32m---> 10\u001b[0;31m \u001b[0mdf_tmp\u001b[0m\u001b[0;34m[\u001b[0m\u001b[0;34m'monday_date'\u001b[0m\u001b[0;34m]\u001b[0m\u001b[0;34m,\u001b[0m \u001b[0mdf_tmp\u001b[0m\u001b[0;34m[\u001b[0m\u001b[0;34m'days_to_monday'\u001b[0m\u001b[0;34m]\u001b[0m \u001b[0;34m=\u001b[0m \u001b[0mzip\u001b[0m\u001b[0;34m(\u001b[0m\u001b[0;34m*\u001b[0m\u001b[0mdf_tmp\u001b[0m\u001b[0;34m[\u001b[0m\u001b[0;34m'sales_ymd'\u001b[0m\u001b[0;34m]\u001b[0m\u001b[0;34m.\u001b[0m\u001b[0mapply\u001b[0m\u001b[0;34m(\u001b[0m\u001b[0mcalculate_days_to_monday\u001b[0m\u001b[0;34m)\u001b[0m\u001b[0;34m)\u001b[0m\u001b[0;34m\u001b[0m\u001b[0;34m\u001b[0m\u001b[0m\n\u001b[0m\u001b[1;32m     11\u001b[0m \u001b[0;34m\u001b[0m\u001b[0m\n\u001b[1;32m     12\u001b[0m \u001b[0mprint\u001b[0m\u001b[0;34m(\u001b[0m\u001b[0mdf_tmp\u001b[0m\u001b[0;34m.\u001b[0m\u001b[0mhead\u001b[0m\u001b[0;34m(\u001b[0m\u001b[0;36m10\u001b[0m\u001b[0;34m)\u001b[0m\u001b[0;34m)\u001b[0m\u001b[0;34m\u001b[0m\u001b[0;34m\u001b[0m\u001b[0m\n",
            "\u001b[0;32m/usr/local/lib/python3.10/dist-packages/pandas/core/series.py\u001b[0m in \u001b[0;36mapply\u001b[0;34m(self, func, convert_dtype, args, **kwargs)\u001b[0m\n\u001b[1;32m   4628\u001b[0m         \u001b[0mdtype\u001b[0m\u001b[0;34m:\u001b[0m \u001b[0mfloat64\u001b[0m\u001b[0;34m\u001b[0m\u001b[0;34m\u001b[0m\u001b[0m\n\u001b[1;32m   4629\u001b[0m         \"\"\"\n\u001b[0;32m-> 4630\u001b[0;31m         \u001b[0;32mreturn\u001b[0m \u001b[0mSeriesApply\u001b[0m\u001b[0;34m(\u001b[0m\u001b[0mself\u001b[0m\u001b[0;34m,\u001b[0m \u001b[0mfunc\u001b[0m\u001b[0;34m,\u001b[0m \u001b[0mconvert_dtype\u001b[0m\u001b[0;34m,\u001b[0m \u001b[0margs\u001b[0m\u001b[0;34m,\u001b[0m \u001b[0mkwargs\u001b[0m\u001b[0;34m)\u001b[0m\u001b[0;34m.\u001b[0m\u001b[0mapply\u001b[0m\u001b[0;34m(\u001b[0m\u001b[0;34m)\u001b[0m\u001b[0;34m\u001b[0m\u001b[0;34m\u001b[0m\u001b[0m\n\u001b[0m\u001b[1;32m   4631\u001b[0m \u001b[0;34m\u001b[0m\u001b[0m\n\u001b[1;32m   4632\u001b[0m     def _reduce(\n",
            "\u001b[0;32m/usr/local/lib/python3.10/dist-packages/pandas/core/apply.py\u001b[0m in \u001b[0;36mapply\u001b[0;34m(self)\u001b[0m\n\u001b[1;32m   1023\u001b[0m \u001b[0;34m\u001b[0m\u001b[0m\n\u001b[1;32m   1024\u001b[0m         \u001b[0;31m# self.f is Callable\u001b[0m\u001b[0;34m\u001b[0m\u001b[0;34m\u001b[0m\u001b[0m\n\u001b[0;32m-> 1025\u001b[0;31m         \u001b[0;32mreturn\u001b[0m \u001b[0mself\u001b[0m\u001b[0;34m.\u001b[0m\u001b[0mapply_standard\u001b[0m\u001b[0;34m(\u001b[0m\u001b[0;34m)\u001b[0m\u001b[0;34m\u001b[0m\u001b[0;34m\u001b[0m\u001b[0m\n\u001b[0m\u001b[1;32m   1026\u001b[0m \u001b[0;34m\u001b[0m\u001b[0m\n\u001b[1;32m   1027\u001b[0m     \u001b[0;32mdef\u001b[0m \u001b[0magg\u001b[0m\u001b[0;34m(\u001b[0m\u001b[0mself\u001b[0m\u001b[0;34m)\u001b[0m\u001b[0;34m:\u001b[0m\u001b[0;34m\u001b[0m\u001b[0;34m\u001b[0m\u001b[0m\n",
            "\u001b[0;32m/usr/local/lib/python3.10/dist-packages/pandas/core/apply.py\u001b[0m in \u001b[0;36mapply_standard\u001b[0;34m(self)\u001b[0m\n\u001b[1;32m   1074\u001b[0m             \u001b[0;32melse\u001b[0m\u001b[0;34m:\u001b[0m\u001b[0;34m\u001b[0m\u001b[0;34m\u001b[0m\u001b[0m\n\u001b[1;32m   1075\u001b[0m                 \u001b[0mvalues\u001b[0m \u001b[0;34m=\u001b[0m \u001b[0mobj\u001b[0m\u001b[0;34m.\u001b[0m\u001b[0mastype\u001b[0m\u001b[0;34m(\u001b[0m\u001b[0mobject\u001b[0m\u001b[0;34m)\u001b[0m\u001b[0;34m.\u001b[0m\u001b[0m_values\u001b[0m\u001b[0;34m\u001b[0m\u001b[0;34m\u001b[0m\u001b[0m\n\u001b[0;32m-> 1076\u001b[0;31m                 mapped = lib.map_infer(\n\u001b[0m\u001b[1;32m   1077\u001b[0m                     \u001b[0mvalues\u001b[0m\u001b[0;34m,\u001b[0m\u001b[0;34m\u001b[0m\u001b[0;34m\u001b[0m\u001b[0m\n\u001b[1;32m   1078\u001b[0m                     \u001b[0mf\u001b[0m\u001b[0;34m,\u001b[0m\u001b[0;34m\u001b[0m\u001b[0;34m\u001b[0m\u001b[0m\n",
            "\u001b[0;32m/usr/local/lib/python3.10/dist-packages/pandas/_libs/lib.pyx\u001b[0m in \u001b[0;36mpandas._libs.lib.map_infer\u001b[0;34m()\u001b[0m\n",
            "\u001b[0;32m<ipython-input-28-23a7ef541b0f>\u001b[0m in \u001b[0;36mcalculate_days_to_monday\u001b[0;34m(sales_date)\u001b[0m\n\u001b[1;32m      4\u001b[0m \u001b[0;34m\u001b[0m\u001b[0m\n\u001b[1;32m      5\u001b[0m \u001b[0;32mdef\u001b[0m \u001b[0mcalculate_days_to_monday\u001b[0m\u001b[0;34m(\u001b[0m\u001b[0msales_date\u001b[0m\u001b[0;34m)\u001b[0m\u001b[0;34m:\u001b[0m\u001b[0;34m\u001b[0m\u001b[0;34m\u001b[0m\u001b[0m\n\u001b[0;32m----> 6\u001b[0;31m     \u001b[0mmonday\u001b[0m \u001b[0;34m=\u001b[0m \u001b[0msales_date\u001b[0m \u001b[0;34m-\u001b[0m \u001b[0mtimedelta\u001b[0m\u001b[0;34m(\u001b[0m\u001b[0mdays\u001b[0m\u001b[0;34m=\u001b[0m\u001b[0msales_date\u001b[0m\u001b[0;34m.\u001b[0m\u001b[0mweekday\u001b[0m\u001b[0;34m(\u001b[0m\u001b[0;34m)\u001b[0m\u001b[0;34m)\u001b[0m\u001b[0;34m\u001b[0m\u001b[0;34m\u001b[0m\u001b[0m\n\u001b[0m\u001b[1;32m      7\u001b[0m     \u001b[0mdays_to_monday\u001b[0m \u001b[0;34m=\u001b[0m \u001b[0;34m(\u001b[0m\u001b[0msales_date\u001b[0m \u001b[0;34m-\u001b[0m \u001b[0mmonday\u001b[0m\u001b[0;34m)\u001b[0m\u001b[0;34m.\u001b[0m\u001b[0mdays\u001b[0m\u001b[0;34m\u001b[0m\u001b[0;34m\u001b[0m\u001b[0m\n\u001b[1;32m      8\u001b[0m     \u001b[0;32mreturn\u001b[0m \u001b[0mmonday\u001b[0m\u001b[0;34m,\u001b[0m \u001b[0mdays_to_monday\u001b[0m\u001b[0;34m\u001b[0m\u001b[0;34m\u001b[0m\u001b[0m\n",
            "\u001b[0;31mNameError\u001b[0m: name 'timedelta' is not defined"
          ]
        }
      ],
      "source": [
        "df_tmp = df_receipt[['customer_id', 'sales_ymd']].drop_duplicates()\n",
        "\n",
        "df_tmp['sales_ymd'] = pd.to_datetime(df_tmp['sales_ymd'])\n",
        "\n",
        "def calculate_days_to_monday(sales_date):\n",
        "    monday = sales_date - timedelta(days=sales_date.weekday())\n",
        "    days_to_monday = (sales_date - monday).days\n",
        "    return monday, days_to_monday\n",
        "\n",
        "df_tmp['monday_date'], df_tmp['days_to_monday'] = zip(*df_tmp['sales_ymd'].apply(calculate_days_to_monday))\n",
        "\n",
        "print(df_tmp.head(10))"
      ]
    },
    {
      "cell_type": "markdown",
      "metadata": {
        "id": "DxHhmBJKfp7R"
      },
      "source": [
        "---\n",
        "> P-075: 顧客データ（df_customer）からランダムに1%のデータを抽出し、先頭から10件表示せよ。"
      ]
    },
    {
      "cell_type": "code",
      "execution_count": null,
      "metadata": {
        "id": "nVkgSRQyfp7R",
        "colab": {
          "base_uri": "https://localhost:8080/"
        },
        "outputId": "8dbdb30c-80f3-4671-c3c4-7007f45d4df6"
      },
      "outputs": [
        {
          "output_type": "stream",
          "name": "stdout",
          "text": [
            "      customer_id  sales_ymd monday_date  days_to_monday\n",
            "0  CS006214000001 2018-11-03  2018-10-29               5\n",
            "1  CS008415000097 2018-11-18  2018-11-12               6\n",
            "2  CS028414000014 2017-07-12  2017-07-10               2\n",
            "3  ZZ000000000000 2019-02-05  2019-02-04               1\n",
            "4  CS025415000050 2018-08-21  2018-08-20               1\n",
            "5  CS003515000195 2019-06-05  2019-06-03               2\n",
            "6  CS024514000042 2018-12-05  2018-12-03               2\n",
            "7  CS040415000178 2019-09-22  2019-09-16               6\n",
            "8  ZZ000000000000 2017-05-04  2017-05-01               3\n",
            "9  CS027514000015 2019-10-10  2019-10-07               3\n"
          ]
        }
      ],
      "source": [
        "df_tmp = df_receipt[['customer_id', 'sales_ymd']].drop_duplicates()\n",
        "\n",
        "df_tmp['sales_ymd'] = pd.to_datetime(df_tmp['sales_ymd'])\n",
        "\n",
        "def calculate_days_to_monday(sales_date):\n",
        "    monday = sales_date - pd.to_timedelta(sales_date.weekday(), unit='D')  # timedelta を pd.to_timedelta で修正\n",
        "    days_to_monday = (sales_date - monday).days\n",
        "    return monday, days_to_monday\n",
        "\n",
        "df_tmp['monday_date'], df_tmp['days_to_monday'] = zip(*df_tmp['sales_ymd'].apply(calculate_days_to_monday))\n",
        "\n",
        "print(df_tmp.head(10))"
      ]
    },
    {
      "cell_type": "markdown",
      "metadata": {
        "id": "MJowBPGnfp7R"
      },
      "source": [
        "---\n",
        "> P-076: 顧客データ（df_customer）から性別コード（gender_cd）の割合に基づきランダムに10%のデータを層化抽出し、性別コードごとに件数を集計せよ。"
      ]
    },
    {
      "cell_type": "code",
      "execution_count": 2,
      "metadata": {
        "id": "usM5ykHIfp7R",
        "colab": {
          "base_uri": "https://localhost:8080/"
        },
        "outputId": "c253bd94-eab1-42c1-e3e7-acba680bd718"
      },
      "outputs": [
        {
          "output_type": "stream",
          "name": "stdout",
          "text": [
            "Requirement already satisfied: scikit-learn in /usr/local/lib/python3.10/dist-packages (1.2.2)\n",
            "Requirement already satisfied: numpy>=1.17.3 in /usr/local/lib/python3.10/dist-packages (from scikit-learn) (1.25.2)\n",
            "Requirement already satisfied: scipy>=1.3.2 in /usr/local/lib/python3.10/dist-packages (from scikit-learn) (1.11.4)\n",
            "Requirement already satisfied: joblib>=1.1.1 in /usr/local/lib/python3.10/dist-packages (from scikit-learn) (1.4.2)\n",
            "Requirement already satisfied: threadpoolctl>=2.0.0 in /usr/local/lib/python3.10/dist-packages (from scikit-learn) (3.5.0)\n"
          ]
        }
      ],
      "source": [
        "pip install scikit-learn"
      ]
    },
    {
      "cell_type": "code",
      "source": [
        "df_, stratified_sample = train_test_split(df_customer, test_size=0.1, stratify=df_customer['gender_cd'])\n",
        "\n",
        "gender_count = stratified_sample['gender_cd'].value_counts()\n",
        "\n",
        "print(gender_count)"
      ],
      "metadata": {
        "colab": {
          "base_uri": "https://localhost:8080/"
        },
        "id": "KvJEvhrVrs0p",
        "outputId": "a58c671e-7e2c-44de-c210-08ee77f08461"
      },
      "execution_count": 4,
      "outputs": [
        {
          "output_type": "stream",
          "name": "stdout",
          "text": [
            "gender_cd\n",
            "1    1793\n",
            "0     298\n",
            "9     107\n",
            "Name: count, dtype: int64\n"
          ]
        }
      ]
    },
    {
      "cell_type": "markdown",
      "metadata": {
        "id": "TfABKNv7fp7R"
      },
      "source": [
        "---\n",
        "> P-077: レシート明細データ（df_receipt）の売上金額を顧客単位に合計し、合計した売上金額の外れ値を抽出せよ。なお、外れ値は売上金額合計を対数化したうえで平均と標準偏差を計算し、その平均から3σを超えて離れたものとする（自然対数と常用対数のどちらでも可）。結果は10件表示せよ。"
      ]
    },
    {
      "cell_type": "code",
      "execution_count": 5,
      "metadata": {
        "id": "8qPPlZwmfp7R",
        "colab": {
          "base_uri": "https://localhost:8080/"
        },
        "outputId": "c2543c4f-9807-4150-ca43-ba1ac21e5073"
      },
      "outputs": [
        {
          "output_type": "stream",
          "name": "stdout",
          "text": [
            "         customer_id    amount  log_amount\n",
            "8306  ZZ000000000000  12395003   16.332804\n"
          ]
        }
      ],
      "source": [
        "customer_sales = df_receipt.groupby('customer_id')['amount'].sum().reset_index()\n",
        "\n",
        "customer_sales['log_amount'] = np.log(customer_sales['amount'])\n",
        "\n",
        "mean_log_amount = customer_sales['log_amount'].mean()\n",
        "std_log_amount = customer_sales['log_amount'].std()\n",
        "\n",
        "outliers = customer_sales[customer_sales['log_amount'] > mean_log_amount + 3 * std_log_amount]\n",
        "\n",
        "print(outliers.head(10))"
      ]
    },
    {
      "cell_type": "markdown",
      "metadata": {
        "id": "75s4Of7rfp7R"
      },
      "source": [
        "---\n",
        "> P-078: レシート明細データ（df_receipt）の売上金額（amount）を顧客単位に合計し、合計した売上金額の外れ値を抽出せよ。ただし、顧客IDが\"Z\"から始まるのものは非会員を表すため、除外して計算すること。なお、ここでは外れ値を第1四分位と第3四分位の差であるIQRを用いて、「第1四分位数-1.5×IQR」を下回るもの、または「第3四分位数+1.5×IQR」を超えるものとする。結果は10件表示せよ。"
      ]
    },
    {
      "cell_type": "code",
      "execution_count": 6,
      "metadata": {
        "id": "WNNHWmfkfp7R",
        "colab": {
          "base_uri": "https://localhost:8080/"
        },
        "outputId": "a190cf93-f25c-4f43-e2cd-23eaeb568a8f"
      },
      "outputs": [
        {
          "output_type": "stream",
          "name": "stdout",
          "text": [
            "         customer_id  amount\n",
            "98    CS001414000048    8584\n",
            "332   CS001605000009   18925\n",
            "549   CS002415000594    9568\n",
            "1180  CS004414000181    9584\n",
            "1558  CS005415000137    8734\n",
            "1733  CS006414000001    9156\n",
            "1736  CS006414000029    9179\n",
            "1752  CS006415000105   10042\n",
            "1755  CS006415000147   12723\n",
            "1757  CS006415000157   10648\n"
          ]
        }
      ],
      "source": [
        "df_receipt = df_receipt[~df_receipt['customer_id'].str.startswith('Z')]\n",
        "\n",
        "customer_sales = df_receipt.groupby('customer_id')['amount'].sum().reset_index()\n",
        "\n",
        "Q1 = customer_sales['amount'].quantile(0.25)\n",
        "Q3 = customer_sales['amount'].quantile(0.75)\n",
        "IQR = Q3 - Q1\n",
        "\n",
        "outliers = customer_sales[(customer_sales['amount'] < (Q1 - 1.5 * IQR)) | (customer_sales['amount'] > (Q3 + 1.5 * IQR))]\n",
        "\n",
        "print(outliers.head(10))"
      ]
    },
    {
      "cell_type": "markdown",
      "metadata": {
        "id": "Duzbbnmyfp7R"
      },
      "source": [
        "---\n",
        "> P-079: 商品データ（df_product）の各項目に対し、欠損数を確認せよ。"
      ]
    },
    {
      "cell_type": "code",
      "execution_count": 7,
      "metadata": {
        "id": "VNK1J_w9fp7R",
        "colab": {
          "base_uri": "https://localhost:8080/"
        },
        "outputId": "6a6d42f8-3468-4464-ae0a-7e5c63531a66"
      },
      "outputs": [
        {
          "output_type": "stream",
          "name": "stdout",
          "text": [
            "product_cd            0\n",
            "category_major_cd     0\n",
            "category_medium_cd    0\n",
            "category_small_cd     0\n",
            "unit_price            7\n",
            "unit_cost             7\n",
            "dtype: int64\n"
          ]
        }
      ],
      "source": [
        "missing_values = df_product.isnull().sum()\n",
        "\n",
        "print(missing_values)"
      ]
    },
    {
      "cell_type": "markdown",
      "metadata": {
        "id": "IZrVBAunfp7S"
      },
      "source": [
        "---\n",
        "> P-080: 商品データ（df_product）のいずれかの項目に欠損が発生しているレコードを全て削除した新たな商品データを作成せよ。なお、削除前後の件数を表示させ、079で確認した件数だけ減少していることも確認すること。"
      ]
    },
    {
      "cell_type": "code",
      "execution_count": 10,
      "metadata": {
        "id": "4zARqdisfp7S",
        "colab": {
          "base_uri": "https://localhost:8080/"
        },
        "outputId": "450f774f-229a-4f13-cf46-7efb76db901a"
      },
      "outputs": [
        {
          "output_type": "stream",
          "name": "stdout",
          "text": [
            "各項目の欠損数:\n",
            " product_cd            0\n",
            "category_major_cd     0\n",
            "category_medium_cd    0\n",
            "category_small_cd     0\n",
            "unit_price            7\n",
            "unit_cost             7\n",
            "dtype: int64\n",
            "削除前のレコード数: 10030\n",
            "欠損が発生しているレコードの数: 7\n",
            "削除後のレコード数: 10023\n",
            "欠損数に応じてレコード数が減少していることを確認しました。\n"
          ]
        }
      ],
      "source": [
        "missing_values = df_product.isnull().sum()\n",
        "print(\"各項目の欠損数:\\n\", missing_values)\n",
        "\n",
        "initial_count = df_product.shape[0]\n",
        "print(\"削除前のレコード数:\", initial_count)\n",
        "\n",
        "missing_records_count = df_product.isnull().any(axis=1).sum()\n",
        "print(\"欠損が発生しているレコードの数:\", missing_records_count)\n",
        "\n",
        "final_count = df_product_cleaned.shape[0]\n",
        "print(\"削除後のレコード数:\", final_count)\n",
        "\n",
        "assert final_count == initial_count - missing_records_count\n",
        "print(\"欠損数に応じてレコード数が減少していることを確認しました。\")"
      ]
    },
    {
      "cell_type": "markdown",
      "metadata": {
        "id": "T35iOMp0fp7S"
      },
      "source": [
        "---\n",
        "> P-081: 単価（unit_price）と原価（unit_cost）の欠損値について、それぞれの平均値で補完した新たな商品データを作成せよ。なお、平均値については1円未満を丸めること（四捨五入または偶数への丸めで良い）。補完実施後、各項目について欠損が生じていないことも確認すること。"
      ]
    },
    {
      "cell_type": "code",
      "execution_count": null,
      "metadata": {
        "id": "AHp-HHHyfp7S"
      },
      "outputs": [],
      "source": []
    },
    {
      "cell_type": "markdown",
      "metadata": {
        "tags": [],
        "id": "GINCT4_4fp7S"
      },
      "source": [
        "---\n",
        "> P-082: 単価（unit_price）と原価（unit_cost）の欠損値について、それぞれの中央値で補完した新たな商品データを作成せよ。なお、中央値については1円未満を丸めること（四捨五入または偶数への丸めで良い）。補完実施後、各項目について欠損が生じていないことも確認すること。"
      ]
    },
    {
      "cell_type": "code",
      "execution_count": null,
      "metadata": {
        "id": "On2GIFO8fp7S"
      },
      "outputs": [],
      "source": []
    },
    {
      "cell_type": "markdown",
      "metadata": {
        "id": "r7AsX9Yffp7S"
      },
      "source": [
        "---\n",
        "> P-083: 単価（unit_price）と原価（unit_cost）の欠損値について、各商品のカテゴリ小区分コード（category_small_cd）ごとに算出した中央値で補完した新たな商品データを作成せよ。なお、中央値については1円未満を丸めること（四捨五入または偶数への丸めで良い）。補完実施後、各項目について欠損が生じていないことも確認すること。"
      ]
    },
    {
      "cell_type": "code",
      "execution_count": null,
      "metadata": {
        "id": "bNUsnOckfp7S"
      },
      "outputs": [],
      "source": []
    },
    {
      "cell_type": "markdown",
      "metadata": {
        "id": "FkoEEM3Jfp7S"
      },
      "source": [
        "---\n",
        "> P-084: 顧客データ（df_customer）の全顧客に対して全期間の売上金額に占める2019年売上金額の割合を計算し、新たなデータを作成せよ。ただし、売上実績がない場合は0として扱うこと。そして計算した割合が0超のものを抽出し、結果を10件表示せよ。また、作成したデータに欠損が存在しないことを確認せよ。"
      ]
    },
    {
      "cell_type": "code",
      "execution_count": null,
      "metadata": {
        "id": "Dgt1KsFQfp7S"
      },
      "outputs": [],
      "source": []
    },
    {
      "cell_type": "markdown",
      "metadata": {
        "id": "1wdz4vV8fp7S"
      },
      "source": [
        "---\n",
        "> P-085: 顧客データ（df_customer）の全顧客に対し、郵便番号（postal_cd）を用いてジオコードデータ（df_geocode）を紐付け、新たな顧客データを作成せよ。ただし、1つの郵便番号（postal_cd）に複数の経度（longitude）、緯度（latitude）情報が紐づく場合は、経度（longitude）、緯度（latitude）の平均値を算出して使用すること。また、作成結果を確認するために結果を10件表示せよ。"
      ]
    },
    {
      "cell_type": "code",
      "execution_count": null,
      "metadata": {
        "id": "pjUu2vBKfp7S"
      },
      "outputs": [],
      "source": []
    },
    {
      "cell_type": "markdown",
      "metadata": {
        "id": "8rkyPBeLfp7T"
      },
      "source": [
        "---\n",
        "> P-086: 085で作成した緯度経度つき顧客データに対し、会員申込店舗コード（application_store_cd）をキーに店舗データ（df_store）と結合せよ。そして申込み店舗の緯度（latitude）・経度情報（longitude)と顧客住所（address）の緯度・経度を用いて申込み店舗と顧客住所の距離（単位：km）を求め、顧客ID（customer_id）、顧客住所（address）、店舗住所（address）とともに表示せよ。計算式は以下の簡易式で良いものとするが、その他精度の高い方式を利用したライブラリを利用してもかまわない。結果は10件表示せよ。\n",
        "\n",
        "$$\n",
        "\\mbox{緯度（ラジアン）}：\\phi \\\\\n",
        "\\mbox{経度（ラジアン）}：\\lambda \\\\\n",
        "\\mbox{距離}L = 6371 * \\arccos(\\sin \\phi_1 * \\sin \\phi_2\n",
        "+ \\cos \\phi_1 * \\cos \\phi_2 * \\cos(\\lambda_1 − \\lambda_2))\n",
        "$$"
      ]
    },
    {
      "cell_type": "code",
      "execution_count": null,
      "metadata": {
        "id": "frglDwKlfp7T"
      },
      "outputs": [],
      "source": []
    },
    {
      "cell_type": "markdown",
      "metadata": {
        "id": "Nb9AF169fp7T"
      },
      "source": [
        "---\n",
        "> P-087: 顧客データ（df_customer）では、異なる店舗での申込みなどにより同一顧客が複数登録されている。名前（customer_name）と郵便番号（postal_cd）が同じ顧客は同一顧客とみなして1顧客1レコードとなるように名寄せした名寄顧客データを作成し、顧客データの件数、名寄顧客データの件数、重複数を算出せよ。ただし、同一顧客に対しては売上金額合計が最も高いものを残し、売上金額合計が同一もしくは売上実績がない顧客については顧客ID（customer_id）の番号が小さいものを残すこととする。"
      ]
    },
    {
      "cell_type": "code",
      "execution_count": null,
      "metadata": {
        "id": "DrJt39Aifp7T"
      },
      "outputs": [],
      "source": []
    },
    {
      "cell_type": "markdown",
      "metadata": {
        "id": "ybq_r-q_fp7T"
      },
      "source": [
        "---\n",
        "> P-088: 087で作成したデータを元に、顧客データに統合名寄IDを付与したデータを作成せよ。ただし、統合名寄IDは以下の仕様で付与するものとする。\n",
        ">\n",
        "> - 重複していない顧客：顧客ID（customer_id）を設定\n",
        "> - 重複している顧客：前設問で抽出したレコードの顧客IDを設定\n",
        ">\n",
        "> 顧客IDのユニーク件数と、統合名寄IDのユニーク件数の差も確認すること。"
      ]
    },
    {
      "cell_type": "code",
      "execution_count": null,
      "metadata": {
        "id": "JoS3tPUcfp7T"
      },
      "outputs": [],
      "source": []
    },
    {
      "cell_type": "markdown",
      "metadata": {
        "id": "-vKkZ-8gfp7T"
      },
      "source": [
        "---\n",
        "> P-089: 売上実績がある顧客を、予測モデル構築のため学習用データとテスト用データに分割したい。それぞれ8:2の割合でランダムにデータを分割せよ。"
      ]
    },
    {
      "cell_type": "code",
      "execution_count": null,
      "metadata": {
        "id": "70vyzmlvfp7T"
      },
      "outputs": [],
      "source": []
    },
    {
      "cell_type": "markdown",
      "metadata": {
        "id": "kHVaAAZrfp7T"
      },
      "source": [
        "---\n",
        "> P-090: レシート明細データ（df_receipt）は2017年1月1日〜2019年10月31日までのデータを有している。売上金額（amount）を月次で集計し、学習用に12ヶ月、テスト用に6ヶ月の時系列モデル構築用データを3セット作成せよ。"
      ]
    },
    {
      "cell_type": "code",
      "execution_count": null,
      "metadata": {
        "id": "_eexkzlWfp7T"
      },
      "outputs": [],
      "source": []
    },
    {
      "cell_type": "markdown",
      "metadata": {
        "id": "GEnxYmE1fp7T"
      },
      "source": [
        "---\n",
        "> P-091: 顧客データ（df_customer）の各顧客に対し、売上実績がある顧客数と売上実績がない顧客数が1:1となるようにアンダーサンプリングで抽出せよ。"
      ]
    },
    {
      "cell_type": "code",
      "execution_count": null,
      "metadata": {
        "id": "gxmijACyfp7T"
      },
      "outputs": [],
      "source": []
    },
    {
      "cell_type": "markdown",
      "metadata": {
        "id": "MUSFa85jfp7T"
      },
      "source": [
        "---\n",
        "> P-092: 顧客データ（df_customer）の性別について、第三正規形へと正規化せよ。"
      ]
    },
    {
      "cell_type": "code",
      "execution_count": null,
      "metadata": {
        "id": "fIQ3ayl_fp7T"
      },
      "outputs": [],
      "source": []
    },
    {
      "cell_type": "markdown",
      "metadata": {
        "id": "ZagyQpdZfp7U"
      },
      "source": [
        "---\n",
        "> P-093: 商品データ（df_product）では各カテゴリのコード値だけを保有し、カテゴリ名は保有していない。カテゴリデータ（df_category）と組み合わせて非正規化し、カテゴリ名を保有した新たな商品データを作成せよ。"
      ]
    },
    {
      "cell_type": "code",
      "execution_count": null,
      "metadata": {
        "id": "_DovZ6Vtfp7U"
      },
      "outputs": [],
      "source": []
    },
    {
      "cell_type": "markdown",
      "metadata": {
        "id": "0wG-pdeLfp7U"
      },
      "source": [
        "---\n",
        "> P-094: 093で作成したカテゴリ名付き商品データを以下の仕様でファイル出力せよ。\n",
        ">\n",
        "> |ファイル形式|ヘッダ有無|文字エンコーディング|\n",
        "> |:--:|:--:|:--:|\n",
        "> |CSV（カンマ区切り）|有り|UTF-8|\n",
        ">\n",
        "> ファイル出力先のパスは以下のようにすること\n",
        ">\n",
        "> |出力先|\n",
        "> |:--:|\n",
        "> |./data|"
      ]
    },
    {
      "cell_type": "code",
      "execution_count": null,
      "metadata": {
        "id": "V9_SnyZ0fp7U"
      },
      "outputs": [],
      "source": []
    },
    {
      "cell_type": "markdown",
      "metadata": {
        "id": "BXgrXN2Nfp7U"
      },
      "source": [
        "---\n",
        "> P-095: 093で作成したカテゴリ名付き商品データを以下の仕様でファイル出力せよ。\n",
        ">\n",
        "> |ファイル形式|ヘッダ有無|文字エンコーディング|\n",
        "> |:--:|:--:|:--:|\n",
        "> |CSV（カンマ区切り）|有り|CP932|\n",
        ">\n",
        "> ファイル出力先のパスは以下のようにすること。\n",
        ">\n",
        "> |出力先|\n",
        "> |:--:|\n",
        "> |./data|"
      ]
    },
    {
      "cell_type": "code",
      "execution_count": null,
      "metadata": {
        "id": "ogBXu0jofp7U"
      },
      "outputs": [],
      "source": []
    },
    {
      "cell_type": "markdown",
      "metadata": {
        "id": "4JiQ0sjJfp7U"
      },
      "source": [
        "---\n",
        "> P-096: 093で作成したカテゴリ名付き商品データを以下の仕様でファイル出力せよ。\n",
        ">\n",
        "> |ファイル形式|ヘッダ有無|文字エンコーディング|\n",
        "> |:--:|:--:|:--:|\n",
        "> |CSV（カンマ区切り）|無し|UTF-8|\n",
        ">\n",
        "> ファイル出力先のパスは以下のようにすること。\n",
        ">\n",
        "> |出力先|\n",
        "> |:--:|\n",
        "> |./data|"
      ]
    },
    {
      "cell_type": "code",
      "execution_count": null,
      "metadata": {
        "id": "BYoUjl1Kfp7U"
      },
      "outputs": [],
      "source": []
    },
    {
      "cell_type": "markdown",
      "metadata": {
        "id": "NM_IUD2yfp7U"
      },
      "source": [
        "---\n",
        "> P-097: 094で作成した以下形式のファイルを読み込み、データを3件を表示させて正しく取り込まれていることを確認せよ。\n",
        ">\n",
        "> |ファイル形式|ヘッダ有無|文字エンコーディング|\n",
        "> |:--:|:--:|:--:|\n",
        "> |CSV（カンマ区切り）|有り|UTF-8|"
      ]
    },
    {
      "cell_type": "code",
      "execution_count": null,
      "metadata": {
        "id": "j1YTNHiGfp7U"
      },
      "outputs": [],
      "source": []
    },
    {
      "cell_type": "markdown",
      "metadata": {
        "id": "2VuRfp8dfp7V"
      },
      "source": [
        "---\n",
        "> P-098: 096で作成した以下形式のファイルを読み込み、データを3件を表示させて正しく取り込まれていることを確認せよ。\n",
        ">\n",
        "> |ファイル形式|ヘッダ有無|文字エンコーディング|\n",
        "> |:--:|:--:|:--:|\n",
        "> |CSV（カンマ区切り）|ヘッダ無し|UTF-8|"
      ]
    },
    {
      "cell_type": "code",
      "execution_count": null,
      "metadata": {
        "id": "POCW3Eb9fp7V"
      },
      "outputs": [],
      "source": []
    },
    {
      "cell_type": "markdown",
      "metadata": {
        "id": "43j1i6Kgfp7V"
      },
      "source": [
        "---\n",
        "> P-099: 093で作成したカテゴリ名付き商品データを以下の仕様でファイル出力せよ。\n",
        ">\n",
        "> |ファイル形式|ヘッダ有無|文字エンコーディング|\n",
        "> |:--:|:--:|:--:|\n",
        "> |TSV（タブ区切り）|有り|UTF-8|\n",
        ">\n",
        "> ファイル出力先のパスは以下のようにすること\n",
        ">\n",
        "> |出力先|\n",
        "> |:--:|\n",
        "> |./data|"
      ]
    },
    {
      "cell_type": "code",
      "execution_count": null,
      "metadata": {
        "id": "81-GqB2Nfp7V"
      },
      "outputs": [],
      "source": []
    },
    {
      "cell_type": "markdown",
      "metadata": {
        "id": "ZaTcnhmIfp7V"
      },
      "source": [
        "---\n",
        "> P-100: 099で作成した以下形式のファイルを読み込み、データを3件を表示させて正しく取り込まれていることを確認せよ。\n",
        ">\n",
        "> |ファイル形式|ヘッダ有無|文字エンコーディング|\n",
        "> |:--:|:--:|:--:|\n",
        "> |TSV（タブ区切り）|有り|UTF-8|"
      ]
    },
    {
      "cell_type": "code",
      "execution_count": null,
      "metadata": {
        "id": "Fh3m0QbAfp7V"
      },
      "outputs": [],
      "source": []
    },
    {
      "cell_type": "markdown",
      "metadata": {
        "id": "WNPzYqoZfp7V"
      },
      "source": [
        "# これで１００本終わりです。おつかれさまでした！"
      ]
    }
  ],
  "metadata": {
    "kernelspec": {
      "display_name": "Python 3 (ipykernel)",
      "language": "python",
      "name": "python3"
    },
    "language_info": {
      "codemirror_mode": {
        "name": "ipython",
        "version": 3
      },
      "file_extension": ".py",
      "mimetype": "text/x-python",
      "name": "python",
      "nbconvert_exporter": "python",
      "pygments_lexer": "ipython3",
      "version": "3.10.8"
    },
    "colab": {
      "provenance": [],
      "include_colab_link": true
    }
  },
  "nbformat": 4,
  "nbformat_minor": 0
}